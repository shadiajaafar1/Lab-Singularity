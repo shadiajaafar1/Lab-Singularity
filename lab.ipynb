{
 "cells": [
  {
   "cell_type": "markdown",
   "metadata": {},
   "source": [
    "# LAB SINGULARITY - DENGUE"
   ]
  },
  {
   "cell_type": "markdown",
   "metadata": {},
   "source": [
    "## IMPORTS"
   ]
  },
  {
   "cell_type": "code",
   "execution_count": 1,
   "metadata": {},
   "outputs": [],
   "source": [
    "import pandas as pd\n",
    "import numpy as np\n",
    "import json as js\n",
    "import datetime\n"
   ]
  },
  {
   "cell_type": "markdown",
   "metadata": {},
   "source": [
    "## COLUMNAS DE INTERES"
   ]
  },
  {
   "cell_type": "code",
   "execution_count": 2,
   "metadata": {},
   "outputs": [],
   "source": [
    "cols = [\"PAC_HOS\", \"SEXO\", \"Municipio_ocurrencia\", \"CON_FIN\", \"FEC_NOT\", \"ANO\",\"EDAD\", \"Departamento_ocurrencia\"] \n",
    "#datos = pd.read_excel(\"Dengue_todos.xlsx\", usecols=cols)"
   ]
  },
  {
   "cell_type": "markdown",
   "metadata": {},
   "source": [
    "## CLEAN DATOS"
   ]
  },
  {
   "cell_type": "code",
   "execution_count": 4,
   "metadata": {},
   "outputs": [],
   "source": [
    "#datos.to_csv(\"df_clean.csv\" , index = False, sep = \",\", encoding='utf-8')\n",
    "df = pd.read_csv(\"df_clean.csv\")\n",
    "clean_df = df.drop(index = df.index[720714:720747])\n",
    "#clean_df[clean_df.isnull().any(axis=1)]\n",
    "##clean_df[\"Departamento_ocurrencia\"].unique()[:-1]\n"
   ]
  },
  {
   "cell_type": "markdown",
   "metadata": {},
   "source": [
    "## CLASE NODO"
   ]
  },
  {
   "cell_type": "code",
   "execution_count": 5,
   "metadata": {},
   "outputs": [],
   "source": [
    "class Nodo_Dep:\n",
    "    def __init__(self, dpto_index, dpto_name,\\\n",
    "        next = None,prev = None):  \n",
    "\n",
    "        self.dpto_index = dpto_index  # department index  \n",
    "        self.dpto_name = dpto_name    # department name\n",
    "        #self.info = clean_df[clean_df[nom].str.contains(info, na = False)]\n",
    "        self.dpto_info = clean_df[clean_df[\"Departamento_ocurrencia\"] == dpto_name]      # dataframe with info regarding the departement\n",
    "        #self.model = model\n",
    "        self.next = next\n",
    "        self.prev = prev"
   ]
  },
  {
   "cell_type": "markdown",
   "metadata": {},
   "source": [
    "## CLASE DOUBLE LINKED LIST"
   ]
  },
  {
   "cell_type": "code",
   "execution_count": 21,
   "metadata": {},
   "outputs": [],
   "source": [
    "class DoubleLinkedList:\n",
    "    def __init__(self):\n",
    "            self.head = None\n",
    "            self.tail = None\n",
    "\n",
    "    def AddNode(self,dpto_index, dpto_name):\n",
    "        P = Nodo_Dep(dpto_index=dpto_index, dpto_name=dpto_name)\n",
    "        if (self.head == None):\n",
    "            self.head = P\n",
    "            self.tail = P \n",
    "        else:\n",
    "            self.tail.next = P\n",
    "            P.prev = self.tail\n",
    "            self.tail = P  \n",
    "        self.tail.next = self.head\n",
    "        self.head.prev = self.tail\n",
    "        \n",
    "    def Recorrido(self):\n",
    "        P = self.head\n",
    "        print(P.dpto_name , P.dpto_info)\n",
    "        #print(P.dpto_name, P.dpto_info[\"Departamento_ocurrencia\"].unique()) CONFIRMAR QUE DPTO NAME == DATO OCUR\n",
    "        P = P.prev\n",
    "        while(P != self.head):\n",
    "            print(P.dpto_name, P.dpto_info)\n",
    "            #print(P.dpto_name, P.dpto_info[\"Departamento_ocurrencia\"].unique())\n",
    "            P = P.prev\n",
    "\n",
    "\n",
    "    def NumHospitalizados(self,dpto_name):\n",
    "        dpto_info = clean_df[clean_df[\"Departamento_ocurrencia\"] ==dpto_name ]\n",
    "        dpto_search=dpto_info[dpto_info[\"PAC_HOS\"] == 1] # selecciona los pacientes Hospitalizados en el dpto de interes, (1): hospitalizado\n",
    "        #muertos = len(clean_df[dpto_info[\"PAC_HOS\"] == 1].axes[0])\n",
    "        Pac_Hos=len(dpto_search)\n",
    "        print(Pac_Hos)\n",
    "\n",
    "\n",
    "\n",
    "    def Search(self, dptoName):\n",
    "        P = self.head\n",
    "        Q = self.tail\n",
    "        sw=False\n",
    "        sw1= False\n",
    "        while(sw == False and sw1== False ):\n",
    "            if (P.dpto_name==dptoName or Q.dpto_name==dptoName):        \n",
    "                print(dptoName)\n",
    "                return dptoName \n",
    "            elif (P==Q or P.next==Q or Q.prev == P ):\n",
    "                return False\n",
    "            else:\n",
    "                P = P.next\n",
    "                Q = Q.prev\n",
    "\n",
    "    def num_hospitalizados(self,dptoName):\n",
    "        \n",
    "        dpto_info = clean_df[clean_df[\"Departamento_ocurrencia\"] == dptoName]\n",
    "        dpto_search=dpto_info[dpto_info[\"PAC_HOS\"] == 1] # selecciona los pacientes Hospitalizados en el dpto de interes, (1): hospitalizado\n",
    "        #muertos = len(clean_df[dpto_info[\"PAC_HOS\"] == 1].axes[0])\n",
    "        Pac_Hos=len(dpto_search)\n",
    "        print(\"HOSPITALIZADOS: \", Pac_Hos)\n",
    "\n",
    "    def num_sexo(self,dptoName):\n",
    "        dpto_info = clean_df[clean_df[\"Departamento_ocurrencia\"] == dptoName]\n",
    "        dpto_searchM=dpto_info[dpto_info[\"SEXO\"] == \"M\"] # selecciona l\"masculinos\" en el dpto de interes, (1): hospitalizado\n",
    "        SEXOM=len(dpto_searchM.axes[0])\n",
    "        dpto_searchF=dpto_info[dpto_info[\"SEXO\"] == \"F\"] # selecciona \"femeninos\" en el dpto de interes\n",
    "        SEXOF=len(dpto_searchF.axes[0])\n",
    "        print(\"MUJERES: \",  SEXOF)\n",
    "        print(\"HOMBRES: \",SEXOM)\n",
    "\n",
    "    def mes_casos(self, dptoName):\n",
    "        dpto_interes = clean_df[clean_df[\"Departamento_ocurrencia\"] == dptoName]\n",
    "        fecha = dpto_interes.groupby(\"FEC_NOT\").value_counts().reset_index()\n",
    "        #Con_Final = dpto_interes.groupby(\"Municipio_ocurrencia\")[[\"FEC_NOT\"]].value_counts().reset_index()\n",
    "        fecha['MES'] = pd.to_datetime(fecha[\"FEC_NOT\"]).dt.month\n",
    "        FLista= fecha['MES'].value_counts().reset_index().values.tolist()[0]\n",
    "        #Con_Final['MES'].value_counts()\n",
    "        #fecha['MES'].strftime(%m)\n",
    "        print(\"Mes:\", FLista[0], \"Registro mayor numero de casos\")\n",
    "\n",
    "    def dia_casos(self, dptoName):\n",
    "        dpto_interes = clean_df[clean_df[\"Departamento_ocurrencia\"] == dptoName]\n",
    "        fecha = dpto_interes.groupby(\"FEC_NOT\").value_counts().reset_index()\n",
    "        #Con_Final = dpto_interes.groupby(\"Municipio_ocurrencia\")[[\"FEC_NOT\"]].value_counts().reset_index()\n",
    "        fecha['DIA'] = pd.to_datetime(fecha[\"FEC_NOT\"]).dt.day\n",
    "        FLista= fecha['DIA'].value_counts().reset_index().values.tolist()[0]\n",
    "        #Con_Final['MES'].value_counts()\n",
    "        #fecha['MES'].strftime(%m)\n",
    "        print(\"Dia:\", FLista[0], \"Registro mayor numero de casos\")\n",
    "\n",
    "    def casos_municipio(self, dptoName):\n",
    "        dpto_interes = clean_df[clean_df[\"Departamento_ocurrencia\"] == dptoName]#Dpto de interes\n",
    "        MasCasos_list = dpto_interes['Municipio_ocurrencia'].value_counts().reset_index().values.tolist()[0] #lista de municipio con mas registros\n",
    "        print(\"el municipio con mas registrados es:\", MasCasos_list[0], \"con \", MasCasos_list[1], \"casos\")\n",
    "\n",
    "    def muertos_municipio(self, dptoName):\n",
    "        dpto_interes= clean_df[clean_df[\"Departamento_ocurrencia\"] == dptoName] #Dpto de interes\n",
    "        Con_Final = dpto_interes.groupby(\"Municipio_ocurrencia\")[[\"CON_FIN\"]].value_counts().reset_index() #agrupa municipio por columan de condicion final\n",
    "        MasMuertos_list =Con_Final[Con_Final[\"CON_FIN\"] == 2].sort_values(by=0, ascending=False).reset_index().values.tolist()[0]\n",
    "        #lista desendente de casos de muerte :2, [0]: pioscion con mas muertos\n",
    "        print(\"El municipio mas muertos registrados es:\", MasMuertos_list[1], \".CANT:\", MasMuertos_list[3] )\n",
    "    \n"
   ]
  },
  {
   "cell_type": "markdown",
   "metadata": {},
   "source": [
    "## PRUEBA METODOS"
   ]
  },
  {
   "cell_type": "markdown",
   "metadata": {},
   "source": [
    "### MUNICIPIOS"
   ]
  },
  {
   "cell_type": "markdown",
   "metadata": {},
   "source": [
    "#### MAYOR NUMERO DE CASOS"
   ]
  },
  {
   "cell_type": "code",
   "execution_count": 9,
   "metadata": {},
   "outputs": [
    {
     "name": "stdout",
     "output_type": "stream",
     "text": [
      "el municipio con mas registrados es: BARRANQUILLA con  14971 casos\n"
     ]
    },
    {
     "data": {
      "text/plain": [
       "['BARRANQUILLA', 14971]"
      ]
     },
     "execution_count": 9,
     "metadata": {},
     "output_type": "execute_result"
    }
   ],
   "source": [
    "dpto_interes = clean_df[clean_df[\"Departamento_ocurrencia\"] == \"ATLANTICO\"]#Dpto de interes\n",
    "MasCasos_list=dpto_interes['Municipio_ocurrencia'].value_counts().reset_index().values.tolist()[0] #lista de municipio con mas registros\n",
    "\n",
    "print(\"el municipio con mas registrados es:\", MasCasos_list[0], \"con \", MasCasos_list[1], \"casos\")\n",
    "MasCasos_list"
   ]
  },
  {
   "cell_type": "markdown",
   "metadata": {},
   "source": [
    "#### MAYOR NUMERO DE MUERTOS"
   ]
  },
  {
   "cell_type": "code",
   "execution_count": 10,
   "metadata": {},
   "outputs": [
    {
     "name": "stdout",
     "output_type": "stream",
     "text": [
      "El municipio mas muertos registrados es: * SANTANDER. MUNICIPIO DESCONOCIDO .CANT: 1\n"
     ]
    }
   ],
   "source": [
    "dpto_interes= clean_df[clean_df[\"Departamento_ocurrencia\"] == \"SANTANDER\"] #Dpto de interes\n",
    "Con_Final = dpto_interes.groupby(\"Municipio_ocurrencia\")[[\"CON_FIN\"]].value_counts().reset_index() #agrupa municipio por columan de condicion final\n",
    "MasMuertos_list =Con_Final[Con_Final[\"CON_FIN\"] == 2].sort_values(by=0, ascending=False).reset_index().values.tolist()[0]\n",
    " #lista desendente de casos de muerte :2, [0]: pioscion con mas muertos\n",
    "print(\"El municipio mas muertos registrados es:\", MasMuertos_list[1], \".CANT:\", MasMuertos_list[3] )\n"
   ]
  },
  {
   "cell_type": "markdown",
   "metadata": {},
   "source": [
    "### DEPARTAMENTO"
   ]
  },
  {
   "cell_type": "markdown",
   "metadata": {},
   "source": [
    "#### NUMERO DE HOSPITALIZADOS"
   ]
  },
  {
   "cell_type": "code",
   "execution_count": 11,
   "metadata": {},
   "outputs": [
    {
     "name": "stdout",
     "output_type": "stream",
     "text": [
      "12333\n"
     ]
    }
   ],
   "source": [
    "dpto_info = clean_df[clean_df[\"Departamento_ocurrencia\"] == \"ATLANTICO\"]\n",
    "dpto_search=dpto_info[dpto_info[\"PAC_HOS\"] == 1] # selecciona los pacientes Hospitalizados en el dpto de interes, (1): hospitalizado\n",
    "#muertos = len(clean_df[dpto_info[\"PAC_HOS\"] == 1].axes[0])\n",
    "Pac_Hos=len(dpto_search)\n",
    "print(Pac_Hos)\n",
    "\n",
    "#df_list = dpto_search.values.tolist()\n",
    "#print(len(df_list))\n",
    "#print(df_list)"
   ]
  },
  {
   "cell_type": "markdown",
   "metadata": {},
   "source": [
    "#### CANTIDAD DE CASOS POR SEXO"
   ]
  },
  {
   "cell_type": "code",
   "execution_count": 12,
   "metadata": {},
   "outputs": [
    {
     "name": "stdout",
     "output_type": "stream",
     "text": [
      "numero de mujeres:  749\n",
      "numero de hombres:  868\n"
     ]
    }
   ],
   "source": [
    "dpto_info = clean_df[clean_df[\"Departamento_ocurrencia\"] == \"VICHADA\"]\n",
    "dpto_searchM=dpto_info[dpto_info[\"SEXO\"] == \"M\"] # selecciona l\"masculinos\" en el dpto de interes, (1): hospitalizado\n",
    "SEXOM=len(dpto_searchM.axes[0])\n",
    "dpto_searchF=dpto_info[dpto_info[\"SEXO\"] == \"F\"] # selecciona \"femeninos\" en el dpto de interes\n",
    "SEXOF=len(dpto_searchF.axes[0])\n",
    "print(\"numero de mujeres: \", SEXOF)\n",
    "print(\"numero de hombres: \",SEXOM)\n",
    "list = [SEXOM, SEXOF]\n"
   ]
  },
  {
   "cell_type": "markdown",
   "metadata": {},
   "source": [
    "### TEMPORALES"
   ]
  },
  {
   "cell_type": "markdown",
   "metadata": {},
   "source": [
    "#### MES CON MAS CASOS"
   ]
  },
  {
   "cell_type": "code",
   "execution_count": 14,
   "metadata": {},
   "outputs": [
    {
     "name": "stdout",
     "output_type": "stream",
     "text": [
      "Mes: 1 Registro mayor numero de casos\n"
     ]
    }
   ],
   "source": [
    "dpto_interes = clean_df[clean_df[\"Departamento_ocurrencia\"] == \"ATLANTICO\"]\n",
    "fecha = dpto_interes.groupby(\"FEC_NOT\").value_counts().reset_index()\n",
    "#Con_Final = dpto_interes.groupby(\"Municipio_ocurrencia\")[[\"FEC_NOT\"]].value_counts().reset_index()\n",
    "fecha['MES'] = pd.to_datetime(fecha[\"FEC_NOT\"]).dt.month\n",
    "FLista= fecha['MES'].value_counts().reset_index().values.tolist()[0]\n",
    "#Con_Final['MES'].value_counts()\n",
    "#fecha['MES'].strftime(%m)\n",
    "\n",
    "print(\"Mes:\", FLista[0], \"Registro mayor numero de casos\")"
   ]
  },
  {
   "cell_type": "markdown",
   "metadata": {},
   "source": [
    "#### DIA CON MAS CASOS"
   ]
  },
  {
   "cell_type": "code",
   "execution_count": 16,
   "metadata": {},
   "outputs": [
    {
     "name": "stdout",
     "output_type": "stream",
     "text": [
      "Dia: 4 Registro mayor numero de casos\n"
     ]
    }
   ],
   "source": [
    "\n",
    "dpto_interes = clean_df[clean_df[\"Departamento_ocurrencia\"] == \"ATLANTICO\"]\n",
    "fecha = dpto_interes.groupby(\"FEC_NOT\").value_counts().reset_index()\n",
    "#Con_Final = dpto_interes.groupby(\"Municipio_ocurrencia\")[[\"FEC_NOT\"]].value_counts().reset_index()\n",
    "fecha['DIA'] = pd.to_datetime(fecha[\"FEC_NOT\"]).dt.day\n",
    "FLista= fecha['DIA'].value_counts().reset_index().values.tolist()[0]\n",
    "#Con_Final['MES'].value_counts()\n",
    "#fecha['MES'].strftime(%m)\n",
    "\n",
    "print(\"Dia:\", FLista[0], \"Registro mayor numero de casos\")"
   ]
  },
  {
   "cell_type": "markdown",
   "metadata": {},
   "source": [
    "### CODE TO RUN"
   ]
  },
  {
   "cell_type": "code",
   "execution_count": 22,
   "metadata": {},
   "outputs": [
    {
     "name": "stdout",
     "output_type": "stream",
     "text": [
      "- - - -\n",
      "SANTANDER\n",
      "MUJERES:  35964\n",
      "HOMBRES:  39828\n",
      "SANTANDER\n",
      "HOSPITALIZADOS:  17976\n",
      "SANTANDER\n",
      "Mes: 5 Registro mayor numero de casos\n",
      "SANTANDER\n",
      "Dia: 18 Registro mayor numero de casos\n",
      "- - - -\n",
      "CORDOBA\n",
      "MUJERES:  6353\n",
      "HOMBRES:  7588\n",
      "CORDOBA\n",
      "HOSPITALIZADOS:  6682\n",
      "CORDOBA\n",
      "Mes: 1 Registro mayor numero de casos\n",
      "CORDOBA\n",
      "Dia: 22 Registro mayor numero de casos\n",
      "- - - -\n",
      "QUINDIO\n",
      "MUJERES:  11735\n",
      "HOMBRES:  12376\n",
      "QUINDIO\n",
      "HOSPITALIZADOS:  6051\n",
      "QUINDIO\n",
      "Mes: 3 Registro mayor numero de casos\n",
      "QUINDIO\n",
      "Dia: 25 Registro mayor numero de casos\n",
      "- - - -\n",
      "HUILA\n",
      "MUJERES:  20370\n",
      "HOMBRES:  22116\n",
      "HUILA\n",
      "HOSPITALIZADOS:  15936\n",
      "HUILA\n",
      "Mes: 1 Registro mayor numero de casos\n",
      "HUILA\n",
      "Dia: 4 Registro mayor numero de casos\n",
      "- - - -\n",
      "META\n",
      "MUJERES:  20073\n",
      "HOMBRES:  23405\n",
      "META\n",
      "HOSPITALIZADOS:  13810\n",
      "META\n",
      "Mes: 3 Registro mayor numero de casos\n",
      "META\n",
      "Dia: 9 Registro mayor numero de casos\n",
      "- - - -\n",
      "VICHADA\n",
      "MUJERES:  749\n",
      "HOMBRES:  868\n",
      "VICHADA\n",
      "HOSPITALIZADOS:  539\n",
      "VICHADA\n",
      "Mes: 4 Registro mayor numero de casos\n",
      "VICHADA\n",
      "Dia: 5 Registro mayor numero de casos\n",
      "- - - -\n",
      "ANTIOQUIA\n",
      "MUJERES:  41588\n",
      "HOMBRES:  41325\n",
      "ANTIOQUIA\n",
      "HOSPITALIZADOS:  19708\n",
      "ANTIOQUIA\n",
      "Mes: 6 Registro mayor numero de casos\n",
      "ANTIOQUIA\n",
      "Dia: 16 Registro mayor numero de casos\n",
      "- - - -\n",
      "ARAUCA\n",
      "MUJERES:  3125\n",
      "HOMBRES:  3477\n",
      "ARAUCA\n",
      "HOSPITALIZADOS:  2519\n",
      "ARAUCA\n",
      "Mes: 5 Registro mayor numero de casos\n",
      "ARAUCA\n",
      "Dia: 26 Registro mayor numero de casos\n",
      "- - - -\n",
      "TOLIMA\n",
      "MUJERES:  29318\n",
      "HOMBRES:  33596\n",
      "TOLIMA\n",
      "HOSPITALIZADOS:  24932\n",
      "TOLIMA\n",
      "Mes: 1 Registro mayor numero de casos\n",
      "TOLIMA\n",
      "Dia: 18 Registro mayor numero de casos\n",
      "- - - -\n",
      "SUCRE\n",
      "MUJERES:  8574\n",
      "HOMBRES:  10021\n",
      "SUCRE\n",
      "HOSPITALIZADOS:  8202\n",
      "SUCRE\n",
      "Mes: 10 Registro mayor numero de casos\n",
      "SUCRE\n",
      "Dia: 10 Registro mayor numero de casos\n",
      "- - - -\n",
      "NORTE SANTANDER\n",
      "MUJERES:  18693\n",
      "HOMBRES:  21067\n",
      "NORTE SANTANDER\n",
      "HOSPITALIZADOS:  16589\n",
      "NORTE SANTANDER\n",
      "Mes: 1 Registro mayor numero de casos\n",
      "NORTE SANTANDER\n",
      "Dia: 22 Registro mayor numero de casos\n",
      "- - - -\n",
      "PUTUMAYO\n",
      "MUJERES:  4813\n",
      "HOMBRES:  5678\n",
      "PUTUMAYO\n",
      "HOSPITALIZADOS:  3253\n",
      "PUTUMAYO\n",
      "Mes: 4 Registro mayor numero de casos\n",
      "PUTUMAYO\n",
      "Dia: 12 Registro mayor numero de casos\n",
      "- - - -\n",
      "CASANARE\n",
      "MUJERES:  6919\n",
      "HOMBRES:  8038\n",
      "CASANARE\n",
      "HOSPITALIZADOS:  3922\n",
      "CASANARE\n",
      "Mes: 5 Registro mayor numero de casos\n",
      "CASANARE\n",
      "Dia: 9 Registro mayor numero de casos\n",
      "- - - -\n",
      "CUNDINAMARCA\n",
      "MUJERES:  12990\n",
      "HOMBRES:  15921\n",
      "CUNDINAMARCA\n",
      "HOSPITALIZADOS:  11229\n",
      "CUNDINAMARCA\n",
      "Mes: 4 Registro mayor numero de casos\n",
      "CUNDINAMARCA\n",
      "Dia: 26 Registro mayor numero de casos\n",
      "- - - -\n",
      "RISARALDA\n",
      "MUJERES:  9563\n",
      "HOMBRES:  9250\n",
      "RISARALDA\n",
      "HOSPITALIZADOS:  6226\n",
      "RISARALDA\n",
      "Mes: 3 Registro mayor numero de casos\n",
      "RISARALDA\n",
      "Dia: 23 Registro mayor numero de casos\n",
      "- - - -\n",
      "CAUCA\n",
      "MUJERES:  2836\n",
      "HOMBRES:  3290\n",
      "CAUCA\n",
      "HOSPITALIZADOS:  2483\n",
      "CAUCA\n",
      "Mes: 5 Registro mayor numero de casos\n",
      "CAUCA\n",
      "Dia: 9 Registro mayor numero de casos\n",
      "- - - -\n",
      "CAQUETA\n",
      "MUJERES:  3723\n",
      "HOMBRES:  4477\n",
      "CAQUETA\n",
      "HOSPITALIZADOS:  3742\n",
      "CAQUETA\n",
      "Mes: 2 Registro mayor numero de casos\n",
      "CAQUETA\n",
      "Dia: 28 Registro mayor numero de casos\n",
      "- - - -\n",
      "CESAR\n",
      "MUJERES:  11251\n",
      "HOMBRES:  13572\n",
      "CESAR\n",
      "HOSPITALIZADOS:  17218\n",
      "CESAR\n",
      "Mes: 11 Registro mayor numero de casos\n",
      "CESAR\n",
      "Dia: 24 Registro mayor numero de casos\n",
      "- - - -\n",
      "CHOCO\n",
      "MUJERES:  1223\n",
      "HOMBRES:  1583\n",
      "CHOCO\n",
      "HOSPITALIZADOS:  824\n",
      "CHOCO\n",
      "Mes: 6 Registro mayor numero de casos\n",
      "CHOCO\n",
      "Dia: 5 Registro mayor numero de casos\n",
      "- - - -\n",
      "CALDAS\n",
      "MUJERES:  2905\n",
      "HOMBRES:  3251\n",
      "CALDAS\n",
      "HOSPITALIZADOS:  2659\n",
      "CALDAS\n",
      "Mes: 3 Registro mayor numero de casos\n",
      "CALDAS\n",
      "Dia: 24 Registro mayor numero de casos\n",
      "- - - -\n",
      "BOYACA\n",
      "MUJERES:  3551\n",
      "HOMBRES:  3537\n",
      "BOYACA\n",
      "HOSPITALIZADOS:  1955\n",
      "BOYACA\n",
      "Mes: 5 Registro mayor numero de casos\n",
      "BOYACA\n",
      "Dia: 10 Registro mayor numero de casos\n",
      "- - - -\n",
      "BOLIVAR\n",
      "MUJERES:  8492\n",
      "HOMBRES:  10025\n",
      "BOLIVAR\n",
      "HOSPITALIZADOS:  8588\n",
      "BOLIVAR\n",
      "Mes: 10 Registro mayor numero de casos\n",
      "BOLIVAR\n",
      "Dia: 22 Registro mayor numero de casos\n",
      "- - - -\n",
      "VALLE\n",
      "MUJERES:  64718\n",
      "HOMBRES:  70773\n",
      "VALLE\n",
      "HOSPITALIZADOS:  35074\n",
      "VALLE\n",
      "Mes: 3 Registro mayor numero de casos\n",
      "VALLE\n",
      "Dia: 18 Registro mayor numero de casos\n",
      "- - - -\n",
      "MAGDALENA\n",
      "MUJERES:  4493\n",
      "HOMBRES:  5447\n",
      "MAGDALENA\n",
      "HOSPITALIZADOS:  5632\n",
      "MAGDALENA\n",
      "Mes: 1 Registro mayor numero de casos\n",
      "MAGDALENA\n",
      "Dia: 27 Registro mayor numero de casos\n",
      "- - - -\n",
      "GUAJIRA\n",
      "MUJERES:  3222\n",
      "HOMBRES:  3728\n",
      "GUAJIRA\n",
      "HOSPITALIZADOS:  4171\n",
      "GUAJIRA\n",
      "Mes: 1 Registro mayor numero de casos\n",
      "GUAJIRA\n",
      "Dia: 18 Registro mayor numero de casos\n",
      "- - - -\n",
      "GUAINIA\n",
      "MUJERES:  434\n",
      "HOMBRES:  415\n",
      "GUAINIA\n",
      "HOSPITALIZADOS:  94\n",
      "GUAINIA\n",
      "Mes: 3 Registro mayor numero de casos\n",
      "GUAINIA\n",
      "Dia: 19 Registro mayor numero de casos\n",
      "- - - -\n",
      "GUAVIARE\n",
      "MUJERES:  1225\n",
      "HOMBRES:  1536\n",
      "GUAVIARE\n",
      "HOSPITALIZADOS:  535\n",
      "GUAVIARE\n",
      "Mes: 3 Registro mayor numero de casos\n",
      "GUAVIARE\n",
      "Dia: 6 Registro mayor numero de casos\n",
      "- - - -\n",
      "ATLANTICO\n",
      "MUJERES:  14428\n",
      "HOMBRES:  15896\n",
      "ATLANTICO\n",
      "HOSPITALIZADOS:  12333\n",
      "ATLANTICO\n",
      "Mes: 1 Registro mayor numero de casos\n",
      "ATLANTICO\n",
      "Dia: 4 Registro mayor numero de casos\n",
      "- - - -\n",
      "NARIÑO\n",
      "MUJERES:  1449\n",
      "HOMBRES:  1725\n",
      "NARIÑO\n",
      "HOSPITALIZADOS:  1258\n",
      "NARIÑO\n",
      "Mes: 3 Registro mayor numero de casos\n",
      "NARIÑO\n",
      "Dia: 7 Registro mayor numero de casos\n",
      "- - - -\n",
      "EXTERIOR\n",
      "MUJERES:  453\n",
      "HOMBRES:  513\n",
      "EXTERIOR\n",
      "HOSPITALIZADOS:  413\n",
      "EXTERIOR\n",
      "Mes: 1 Registro mayor numero de casos\n",
      "EXTERIOR\n",
      "Dia: 27 Registro mayor numero de casos\n",
      "- - - -\n",
      "SAN ANDRES\n",
      "MUJERES:  368\n",
      "HOMBRES:  367\n",
      "SAN ANDRES\n",
      "HOSPITALIZADOS:  206\n",
      "SAN ANDRES\n",
      "Mes: 10 Registro mayor numero de casos\n",
      "SAN ANDRES\n",
      "Dia: 8 Registro mayor numero de casos\n",
      "- - - -\n",
      "PROCEDENCIA DESCONOCIDA\n",
      "MUJERES:  210\n",
      "HOMBRES:  257\n",
      "PROCEDENCIA DESCONOCIDA\n",
      "HOSPITALIZADOS:  102\n",
      "PROCEDENCIA DESCONOCIDA\n",
      "Mes: 7 Registro mayor numero de casos\n",
      "PROCEDENCIA DESCONOCIDA\n",
      "Dia: 12 Registro mayor numero de casos\n",
      "- - - -\n",
      "AMAZONAS\n",
      "MUJERES:  1090\n",
      "HOMBRES:  1050\n",
      "AMAZONAS\n",
      "HOSPITALIZADOS:  403\n",
      "AMAZONAS\n",
      "Mes: 5 Registro mayor numero de casos\n",
      "AMAZONAS\n",
      "Dia: 25 Registro mayor numero de casos\n",
      "- - - -\n",
      "VAUPES\n",
      "MUJERES:  115\n",
      "HOMBRES:  107\n",
      "VAUPES\n",
      "HOSPITALIZADOS:  41\n",
      "VAUPES\n",
      "Mes: 1 Registro mayor numero de casos\n",
      "VAUPES\n",
      "Dia: 17 Registro mayor numero de casos\n",
      "- - - -\n",
      "BOGOTA\n",
      "MUJERES:  160\n",
      "HOMBRES:  205\n",
      "BOGOTA\n",
      "HOSPITALIZADOS:  112\n",
      "BOGOTA\n",
      "Mes: 1 Registro mayor numero de casos\n",
      "BOGOTA\n",
      "Dia: 24 Registro mayor numero de casos\n"
     ]
    }
   ],
   "source": [
    "lista_d = DoubleLinkedList()\n",
    "for i,dpto in enumerate(clean_df[\"Departamento_ocurrencia\"].unique()[:-1]): # [\"Departamento_ocurrencia\"].unique()[:-1] : hasta la penultima \n",
    "    #print(dpto)\n",
    "    lista_d.AddNode(i, dpto) #i : dpto index , dpto: dpto name\n",
    "    print(\"- - - -\")\n",
    "    lista_d.num_sexo(lista_d.Search(dpto))\n",
    "    lista_d.num_hospitalizados(lista_d.Search(dpto))\n",
    "    lista_d.mes_casos(lista_d.Search(dpto))\n",
    "    lista_d.dia_casos(lista_d.Search(dpto))\n"
   ]
  },
  {
   "cell_type": "markdown",
   "metadata": {},
   "source": [
    "###"
   ]
  }
 ],
 "metadata": {
  "kernelspec": {
   "display_name": "Python 3.9.15",
   "language": "python",
   "name": "python3"
  },
  "language_info": {
   "codemirror_mode": {
    "name": "ipython",
    "version": 3
   },
   "file_extension": ".py",
   "mimetype": "text/x-python",
   "name": "python",
   "nbconvert_exporter": "python",
   "pygments_lexer": "ipython3",
   "version": "3.9.15"
  },
  "orig_nbformat": 4,
  "vscode": {
   "interpreter": {
    "hash": "0cc3ccccf9d25bbc5794923594cf38ebfd14394c8f3f53c76e3027be37e46e4a"
   }
  }
 },
 "nbformat": 4,
 "nbformat_minor": 2
}

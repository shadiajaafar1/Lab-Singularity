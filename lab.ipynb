{
 "cells": [
  {
   "cell_type": "markdown",
   "metadata": {},
   "source": [
    "# LAB SINGULARITY - DENGUE"
   ]
  },
  {
   "cell_type": "markdown",
   "metadata": {},
   "source": [
    "## IMPORTS"
   ]
  },
  {
   "cell_type": "code",
   "execution_count": 84,
   "metadata": {},
   "outputs": [],
   "source": [
    "import pandas as pd\n",
    "import numpy as np\n",
    "import json as js\n",
    "import datetime\n",
    "import matplotlib.pyplot as plt\n",
    "import matplotlib.style\n",
    "import seaborn as sns\n",
    "\n",
    "# sklear imports\n",
    "from sklearn import metrics\n",
    "from sklearn import linear_model\n",
    "from sklearn.metrics import mean_squared_error, r2_score\n",
    "from sklearn.linear_model import LogisticRegression\n",
    "from sklearn.metrics import roc_auc_score\n",
    "from sklearn.metrics import roc_curve\n",
    "from sklearn.model_selection import train_test_split"
   ]
  },
  {
   "cell_type": "markdown",
   "metadata": {},
   "source": [
    "## COLUMNAS DE INTERES"
   ]
  },
  {
   "cell_type": "code",
   "execution_count": 12,
   "metadata": {},
   "outputs": [
    {
     "ename": "KeyboardInterrupt",
     "evalue": "",
     "output_type": "error",
     "traceback": [
      "\u001b[1;31m---------------------------------------------------------------------------\u001b[0m",
      "\u001b[1;31mKeyboardInterrupt\u001b[0m                         Traceback (most recent call last)",
      "\u001b[1;32mc:\\Users\\Usuario\\OneDrive - ITSA\\Documentos\\GIT HUB CODIGOS\\estructura de datos 1\\lab3\\Lab-Singularity\\lab.ipynb Celda 5\u001b[0m in \u001b[0;36m<cell line: 4>\u001b[1;34m()\u001b[0m\n\u001b[0;32m      <a href='vscode-notebook-cell:/c%3A/Users/Usuario/OneDrive%20-%20ITSA/Documentos/GIT%20HUB%20CODIGOS/estructura%20de%20datos%201/lab3/Lab-Singularity/lab.ipynb#W4sZmlsZQ%3D%3D?line=0'>1</a>\u001b[0m cols \u001b[39m=\u001b[39m [\u001b[39m\"\u001b[39m\u001b[39mPAC_HOS\u001b[39m\u001b[39m\"\u001b[39m, \u001b[39m\"\u001b[39m\u001b[39mSEXO\u001b[39m\u001b[39m\"\u001b[39m, \u001b[39m\"\u001b[39m\u001b[39mMunicipio_ocurrencia\u001b[39m\u001b[39m\"\u001b[39m,\\\n\u001b[0;32m      <a href='vscode-notebook-cell:/c%3A/Users/Usuario/OneDrive%20-%20ITSA/Documentos/GIT%20HUB%20CODIGOS/estructura%20de%20datos%201/lab3/Lab-Singularity/lab.ipynb#W4sZmlsZQ%3D%3D?line=1'>2</a>\u001b[0m      \u001b[39m\"\u001b[39m\u001b[39mCON_FIN\u001b[39m\u001b[39m\"\u001b[39m, \u001b[39m\"\u001b[39m\u001b[39mFEC_NOT\u001b[39m\u001b[39m\"\u001b[39m, \u001b[39m\"\u001b[39m\u001b[39mANO\u001b[39m\u001b[39m\"\u001b[39m,\u001b[39m\"\u001b[39m\u001b[39mEDAD\u001b[39m\u001b[39m\"\u001b[39m,\\\n\u001b[0;32m      <a href='vscode-notebook-cell:/c%3A/Users/Usuario/OneDrive%20-%20ITSA/Documentos/GIT%20HUB%20CODIGOS/estructura%20de%20datos%201/lab3/Lab-Singularity/lab.ipynb#W4sZmlsZQ%3D%3D?line=2'>3</a>\u001b[0m      \u001b[39m\"\u001b[39m\u001b[39mDepartamento_ocurrencia\u001b[39m\u001b[39m\"\u001b[39m] \n\u001b[1;32m----> <a href='vscode-notebook-cell:/c%3A/Users/Usuario/OneDrive%20-%20ITSA/Documentos/GIT%20HUB%20CODIGOS/estructura%20de%20datos%201/lab3/Lab-Singularity/lab.ipynb#W4sZmlsZQ%3D%3D?line=3'>4</a>\u001b[0m datos \u001b[39m=\u001b[39m pd\u001b[39m.\u001b[39;49mread_excel(\u001b[39m\"\u001b[39;49m\u001b[39mDengue_todos.xlsx\u001b[39;49m\u001b[39m\"\u001b[39;49m)\n",
      "File \u001b[1;32mc:\\Users\\Usuario\\anaconda3\\lib\\site-packages\\pandas\\util\\_decorators.py:311\u001b[0m, in \u001b[0;36mdeprecate_nonkeyword_arguments.<locals>.decorate.<locals>.wrapper\u001b[1;34m(*args, **kwargs)\u001b[0m\n\u001b[0;32m    305\u001b[0m \u001b[39mif\u001b[39;00m \u001b[39mlen\u001b[39m(args) \u001b[39m>\u001b[39m num_allow_args:\n\u001b[0;32m    306\u001b[0m     warnings\u001b[39m.\u001b[39mwarn(\n\u001b[0;32m    307\u001b[0m         msg\u001b[39m.\u001b[39mformat(arguments\u001b[39m=\u001b[39marguments),\n\u001b[0;32m    308\u001b[0m         \u001b[39mFutureWarning\u001b[39;00m,\n\u001b[0;32m    309\u001b[0m         stacklevel\u001b[39m=\u001b[39mstacklevel,\n\u001b[0;32m    310\u001b[0m     )\n\u001b[1;32m--> 311\u001b[0m \u001b[39mreturn\u001b[39;00m func(\u001b[39m*\u001b[39margs, \u001b[39m*\u001b[39m\u001b[39m*\u001b[39mkwargs)\n",
      "File \u001b[1;32mc:\\Users\\Usuario\\anaconda3\\lib\\site-packages\\pandas\\io\\excel\\_base.py:465\u001b[0m, in \u001b[0;36mread_excel\u001b[1;34m(io, sheet_name, header, names, index_col, usecols, squeeze, dtype, engine, converters, true_values, false_values, skiprows, nrows, na_values, keep_default_na, na_filter, verbose, parse_dates, date_parser, thousands, decimal, comment, skipfooter, convert_float, mangle_dupe_cols, storage_options)\u001b[0m\n\u001b[0;32m    459\u001b[0m     \u001b[39mraise\u001b[39;00m \u001b[39mValueError\u001b[39;00m(\n\u001b[0;32m    460\u001b[0m         \u001b[39m\"\u001b[39m\u001b[39mEngine should not be specified when passing \u001b[39m\u001b[39m\"\u001b[39m\n\u001b[0;32m    461\u001b[0m         \u001b[39m\"\u001b[39m\u001b[39man ExcelFile - ExcelFile already has the engine set\u001b[39m\u001b[39m\"\u001b[39m\n\u001b[0;32m    462\u001b[0m     )\n\u001b[0;32m    464\u001b[0m \u001b[39mtry\u001b[39;00m:\n\u001b[1;32m--> 465\u001b[0m     data \u001b[39m=\u001b[39m io\u001b[39m.\u001b[39;49mparse(\n\u001b[0;32m    466\u001b[0m         sheet_name\u001b[39m=\u001b[39;49msheet_name,\n\u001b[0;32m    467\u001b[0m         header\u001b[39m=\u001b[39;49mheader,\n\u001b[0;32m    468\u001b[0m         names\u001b[39m=\u001b[39;49mnames,\n\u001b[0;32m    469\u001b[0m         index_col\u001b[39m=\u001b[39;49mindex_col,\n\u001b[0;32m    470\u001b[0m         usecols\u001b[39m=\u001b[39;49musecols,\n\u001b[0;32m    471\u001b[0m         squeeze\u001b[39m=\u001b[39;49msqueeze,\n\u001b[0;32m    472\u001b[0m         dtype\u001b[39m=\u001b[39;49mdtype,\n\u001b[0;32m    473\u001b[0m         converters\u001b[39m=\u001b[39;49mconverters,\n\u001b[0;32m    474\u001b[0m         true_values\u001b[39m=\u001b[39;49mtrue_values,\n\u001b[0;32m    475\u001b[0m         false_values\u001b[39m=\u001b[39;49mfalse_values,\n\u001b[0;32m    476\u001b[0m         skiprows\u001b[39m=\u001b[39;49mskiprows,\n\u001b[0;32m    477\u001b[0m         nrows\u001b[39m=\u001b[39;49mnrows,\n\u001b[0;32m    478\u001b[0m         na_values\u001b[39m=\u001b[39;49mna_values,\n\u001b[0;32m    479\u001b[0m         keep_default_na\u001b[39m=\u001b[39;49mkeep_default_na,\n\u001b[0;32m    480\u001b[0m         na_filter\u001b[39m=\u001b[39;49mna_filter,\n\u001b[0;32m    481\u001b[0m         verbose\u001b[39m=\u001b[39;49mverbose,\n\u001b[0;32m    482\u001b[0m         parse_dates\u001b[39m=\u001b[39;49mparse_dates,\n\u001b[0;32m    483\u001b[0m         date_parser\u001b[39m=\u001b[39;49mdate_parser,\n\u001b[0;32m    484\u001b[0m         thousands\u001b[39m=\u001b[39;49mthousands,\n\u001b[0;32m    485\u001b[0m         decimal\u001b[39m=\u001b[39;49mdecimal,\n\u001b[0;32m    486\u001b[0m         comment\u001b[39m=\u001b[39;49mcomment,\n\u001b[0;32m    487\u001b[0m         skipfooter\u001b[39m=\u001b[39;49mskipfooter,\n\u001b[0;32m    488\u001b[0m         convert_float\u001b[39m=\u001b[39;49mconvert_float,\n\u001b[0;32m    489\u001b[0m         mangle_dupe_cols\u001b[39m=\u001b[39;49mmangle_dupe_cols,\n\u001b[0;32m    490\u001b[0m     )\n\u001b[0;32m    491\u001b[0m \u001b[39mfinally\u001b[39;00m:\n\u001b[0;32m    492\u001b[0m     \u001b[39m# make sure to close opened file handles\u001b[39;00m\n\u001b[0;32m    493\u001b[0m     \u001b[39mif\u001b[39;00m should_close:\n",
      "File \u001b[1;32mc:\\Users\\Usuario\\anaconda3\\lib\\site-packages\\pandas\\io\\excel\\_base.py:1458\u001b[0m, in \u001b[0;36mExcelFile.parse\u001b[1;34m(self, sheet_name, header, names, index_col, usecols, squeeze, converters, true_values, false_values, skiprows, nrows, na_values, parse_dates, date_parser, thousands, comment, skipfooter, convert_float, mangle_dupe_cols, **kwds)\u001b[0m\n\u001b[0;32m   1424\u001b[0m \u001b[39mdef\u001b[39;00m \u001b[39mparse\u001b[39m(\n\u001b[0;32m   1425\u001b[0m     \u001b[39mself\u001b[39m,\n\u001b[0;32m   1426\u001b[0m     sheet_name: \u001b[39mstr\u001b[39m \u001b[39m|\u001b[39m \u001b[39mint\u001b[39m \u001b[39m|\u001b[39m \u001b[39mlist\u001b[39m[\u001b[39mint\u001b[39m] \u001b[39m|\u001b[39m \u001b[39mlist\u001b[39m[\u001b[39mstr\u001b[39m] \u001b[39m|\u001b[39m \u001b[39mNone\u001b[39;00m \u001b[39m=\u001b[39m \u001b[39m0\u001b[39m,\n\u001b[1;32m   (...)\u001b[0m\n\u001b[0;32m   1445\u001b[0m     \u001b[39m*\u001b[39m\u001b[39m*\u001b[39mkwds,\n\u001b[0;32m   1446\u001b[0m ) \u001b[39m-\u001b[39m\u001b[39m>\u001b[39m DataFrame \u001b[39m|\u001b[39m \u001b[39mdict\u001b[39m[\u001b[39mstr\u001b[39m, DataFrame] \u001b[39m|\u001b[39m \u001b[39mdict\u001b[39m[\u001b[39mint\u001b[39m, DataFrame]:\n\u001b[0;32m   1447\u001b[0m     \u001b[39m\"\"\"\u001b[39;00m\n\u001b[0;32m   1448\u001b[0m \u001b[39m    Parse specified sheet(s) into a DataFrame.\u001b[39;00m\n\u001b[0;32m   1449\u001b[0m \n\u001b[1;32m   (...)\u001b[0m\n\u001b[0;32m   1456\u001b[0m \u001b[39m        DataFrame from the passed in Excel file.\u001b[39;00m\n\u001b[0;32m   1457\u001b[0m \u001b[39m    \"\"\"\u001b[39;00m\n\u001b[1;32m-> 1458\u001b[0m     \u001b[39mreturn\u001b[39;00m \u001b[39mself\u001b[39m\u001b[39m.\u001b[39m_reader\u001b[39m.\u001b[39mparse(\n\u001b[0;32m   1459\u001b[0m         sheet_name\u001b[39m=\u001b[39msheet_name,\n\u001b[0;32m   1460\u001b[0m         header\u001b[39m=\u001b[39mheader,\n\u001b[0;32m   1461\u001b[0m         names\u001b[39m=\u001b[39mnames,\n\u001b[0;32m   1462\u001b[0m         index_col\u001b[39m=\u001b[39mindex_col,\n\u001b[0;32m   1463\u001b[0m         usecols\u001b[39m=\u001b[39musecols,\n\u001b[0;32m   1464\u001b[0m         squeeze\u001b[39m=\u001b[39msqueeze,\n\u001b[0;32m   1465\u001b[0m         converters\u001b[39m=\u001b[39mconverters,\n\u001b[0;32m   1466\u001b[0m         true_values\u001b[39m=\u001b[39mtrue_values,\n\u001b[0;32m   1467\u001b[0m         false_values\u001b[39m=\u001b[39mfalse_values,\n\u001b[0;32m   1468\u001b[0m         skiprows\u001b[39m=\u001b[39mskiprows,\n\u001b[0;32m   1469\u001b[0m         nrows\u001b[39m=\u001b[39mnrows,\n\u001b[0;32m   1470\u001b[0m         na_values\u001b[39m=\u001b[39mna_values,\n\u001b[0;32m   1471\u001b[0m         parse_dates\u001b[39m=\u001b[39mparse_dates,\n\u001b[0;32m   1472\u001b[0m         date_parser\u001b[39m=\u001b[39mdate_parser,\n\u001b[0;32m   1473\u001b[0m         thousands\u001b[39m=\u001b[39mthousands,\n\u001b[0;32m   1474\u001b[0m         comment\u001b[39m=\u001b[39mcomment,\n\u001b[0;32m   1475\u001b[0m         skipfooter\u001b[39m=\u001b[39mskipfooter,\n\u001b[0;32m   1476\u001b[0m         convert_float\u001b[39m=\u001b[39mconvert_float,\n\u001b[0;32m   1477\u001b[0m         mangle_dupe_cols\u001b[39m=\u001b[39mmangle_dupe_cols,\n\u001b[0;32m   1478\u001b[0m         \u001b[39m*\u001b[39m\u001b[39m*\u001b[39mkwds,\n\u001b[0;32m   1479\u001b[0m     )\n",
      "File \u001b[1;32mc:\\Users\\Usuario\\anaconda3\\lib\\site-packages\\pandas\\io\\excel\\_base.py:638\u001b[0m, in \u001b[0;36mBaseExcelReader.parse\u001b[1;34m(self, sheet_name, header, names, index_col, usecols, squeeze, dtype, true_values, false_values, skiprows, nrows, na_values, verbose, parse_dates, date_parser, thousands, decimal, comment, skipfooter, convert_float, mangle_dupe_cols, **kwds)\u001b[0m\n\u001b[0;32m    635\u001b[0m \u001b[39melse\u001b[39;00m:  \u001b[39m# assume an integer if not a string\u001b[39;00m\n\u001b[0;32m    636\u001b[0m     sheet \u001b[39m=\u001b[39m \u001b[39mself\u001b[39m\u001b[39m.\u001b[39mget_sheet_by_index(asheetname)\n\u001b[1;32m--> 638\u001b[0m data \u001b[39m=\u001b[39m \u001b[39mself\u001b[39;49m\u001b[39m.\u001b[39;49mget_sheet_data(sheet, convert_float)\n\u001b[0;32m    639\u001b[0m \u001b[39mif\u001b[39;00m \u001b[39mhasattr\u001b[39m(sheet, \u001b[39m\"\u001b[39m\u001b[39mclose\u001b[39m\u001b[39m\"\u001b[39m):\n\u001b[0;32m    640\u001b[0m     \u001b[39m# pyxlsb opens two TemporaryFiles\u001b[39;00m\n\u001b[0;32m    641\u001b[0m     sheet\u001b[39m.\u001b[39mclose()\n",
      "File \u001b[1;32mc:\\Users\\Usuario\\anaconda3\\lib\\site-packages\\pandas\\io\\excel\\_openpyxl.py:575\u001b[0m, in \u001b[0;36mOpenpyxlReader.get_sheet_data\u001b[1;34m(self, sheet, convert_float)\u001b[0m\n\u001b[0;32m    573\u001b[0m data: \u001b[39mlist\u001b[39m[\u001b[39mlist\u001b[39m[Scalar]] \u001b[39m=\u001b[39m []\n\u001b[0;32m    574\u001b[0m last_row_with_data \u001b[39m=\u001b[39m \u001b[39m-\u001b[39m\u001b[39m1\u001b[39m\n\u001b[1;32m--> 575\u001b[0m \u001b[39mfor\u001b[39;00m row_number, row \u001b[39min\u001b[39;00m \u001b[39menumerate\u001b[39m(sheet\u001b[39m.\u001b[39mrows):\n\u001b[0;32m    576\u001b[0m     converted_row \u001b[39m=\u001b[39m [\u001b[39mself\u001b[39m\u001b[39m.\u001b[39m_convert_cell(cell, convert_float) \u001b[39mfor\u001b[39;00m cell \u001b[39min\u001b[39;00m row]\n\u001b[0;32m    577\u001b[0m     \u001b[39mwhile\u001b[39;00m converted_row \u001b[39mand\u001b[39;00m converted_row[\u001b[39m-\u001b[39m\u001b[39m1\u001b[39m] \u001b[39m==\u001b[39m \u001b[39m\"\u001b[39m\u001b[39m\"\u001b[39m:\n\u001b[0;32m    578\u001b[0m         \u001b[39m# trim trailing empty elements\u001b[39;00m\n",
      "File \u001b[1;32mc:\\Users\\Usuario\\anaconda3\\lib\\site-packages\\openpyxl\\worksheet\\_read_only.py:79\u001b[0m, in \u001b[0;36mReadOnlyWorksheet._cells_by_row\u001b[1;34m(self, min_col, min_row, max_col, max_row, values_only)\u001b[0m\n\u001b[0;32m     75\u001b[0m src \u001b[39m=\u001b[39m \u001b[39mself\u001b[39m\u001b[39m.\u001b[39m_get_source()\n\u001b[0;32m     76\u001b[0m parser \u001b[39m=\u001b[39m WorkSheetParser(src, \u001b[39mself\u001b[39m\u001b[39m.\u001b[39m_shared_strings,\n\u001b[0;32m     77\u001b[0m                          data_only\u001b[39m=\u001b[39m\u001b[39mself\u001b[39m\u001b[39m.\u001b[39mparent\u001b[39m.\u001b[39mdata_only, epoch\u001b[39m=\u001b[39m\u001b[39mself\u001b[39m\u001b[39m.\u001b[39mparent\u001b[39m.\u001b[39mepoch,\n\u001b[0;32m     78\u001b[0m                          date_formats\u001b[39m=\u001b[39m\u001b[39mself\u001b[39m\u001b[39m.\u001b[39mparent\u001b[39m.\u001b[39m_date_formats)\n\u001b[1;32m---> 79\u001b[0m \u001b[39mfor\u001b[39;00m idx, row \u001b[39min\u001b[39;00m parser\u001b[39m.\u001b[39mparse():\n\u001b[0;32m     80\u001b[0m     \u001b[39mif\u001b[39;00m max_row \u001b[39mis\u001b[39;00m \u001b[39mnot\u001b[39;00m \u001b[39mNone\u001b[39;00m \u001b[39mand\u001b[39;00m idx \u001b[39m>\u001b[39m max_row:\n\u001b[0;32m     81\u001b[0m         \u001b[39mbreak\u001b[39;00m\n",
      "File \u001b[1;32mc:\\Users\\Usuario\\anaconda3\\lib\\site-packages\\openpyxl\\worksheet\\_reader.py:155\u001b[0m, in \u001b[0;36mWorkSheetParser.parse\u001b[1;34m(self)\u001b[0m\n\u001b[0;32m    153\u001b[0m     element\u001b[39m.\u001b[39mclear()\n\u001b[0;32m    154\u001b[0m \u001b[39melif\u001b[39;00m tag_name \u001b[39m==\u001b[39m ROW_TAG:\n\u001b[1;32m--> 155\u001b[0m     row \u001b[39m=\u001b[39m \u001b[39mself\u001b[39;49m\u001b[39m.\u001b[39;49mparse_row(element)\n\u001b[0;32m    156\u001b[0m     element\u001b[39m.\u001b[39mclear()\n\u001b[0;32m    157\u001b[0m     \u001b[39myield\u001b[39;00m row\n",
      "File \u001b[1;32mc:\\Users\\Usuario\\anaconda3\\lib\\site-packages\\openpyxl\\worksheet\\_reader.py:286\u001b[0m, in \u001b[0;36mWorkSheetParser.parse_row\u001b[1;34m(self, row)\u001b[0m\n\u001b[0;32m    282\u001b[0m \u001b[39mif\u001b[39;00m keys \u001b[39m-\u001b[39m {\u001b[39m'\u001b[39m\u001b[39mr\u001b[39m\u001b[39m'\u001b[39m, \u001b[39m'\u001b[39m\u001b[39mspans\u001b[39m\u001b[39m'\u001b[39m}:\n\u001b[0;32m    283\u001b[0m     \u001b[39m# don't create dimension objects unless they have relevant information\u001b[39;00m\n\u001b[0;32m    284\u001b[0m     \u001b[39mself\u001b[39m\u001b[39m.\u001b[39mrow_dimensions[\u001b[39mstr\u001b[39m(\u001b[39mself\u001b[39m\u001b[39m.\u001b[39mrow_counter)] \u001b[39m=\u001b[39m attrs\n\u001b[1;32m--> 286\u001b[0m cells \u001b[39m=\u001b[39m [\u001b[39mself\u001b[39m\u001b[39m.\u001b[39mparse_cell(el) \u001b[39mfor\u001b[39;00m el \u001b[39min\u001b[39;00m row]\n\u001b[0;32m    287\u001b[0m \u001b[39mreturn\u001b[39;00m \u001b[39mself\u001b[39m\u001b[39m.\u001b[39mrow_counter, cells\n",
      "File \u001b[1;32mc:\\Users\\Usuario\\anaconda3\\lib\\site-packages\\openpyxl\\worksheet\\_reader.py:286\u001b[0m, in \u001b[0;36m<listcomp>\u001b[1;34m(.0)\u001b[0m\n\u001b[0;32m    282\u001b[0m \u001b[39mif\u001b[39;00m keys \u001b[39m-\u001b[39m {\u001b[39m'\u001b[39m\u001b[39mr\u001b[39m\u001b[39m'\u001b[39m, \u001b[39m'\u001b[39m\u001b[39mspans\u001b[39m\u001b[39m'\u001b[39m}:\n\u001b[0;32m    283\u001b[0m     \u001b[39m# don't create dimension objects unless they have relevant information\u001b[39;00m\n\u001b[0;32m    284\u001b[0m     \u001b[39mself\u001b[39m\u001b[39m.\u001b[39mrow_dimensions[\u001b[39mstr\u001b[39m(\u001b[39mself\u001b[39m\u001b[39m.\u001b[39mrow_counter)] \u001b[39m=\u001b[39m attrs\n\u001b[1;32m--> 286\u001b[0m cells \u001b[39m=\u001b[39m [\u001b[39mself\u001b[39;49m\u001b[39m.\u001b[39;49mparse_cell(el) \u001b[39mfor\u001b[39;00m el \u001b[39min\u001b[39;00m row]\n\u001b[0;32m    287\u001b[0m \u001b[39mreturn\u001b[39;00m \u001b[39mself\u001b[39m\u001b[39m.\u001b[39mrow_counter, cells\n",
      "File \u001b[1;32mc:\\Users\\Usuario\\anaconda3\\lib\\site-packages\\openpyxl\\worksheet\\_reader.py:190\u001b[0m, in \u001b[0;36mWorkSheetParser.parse_cell\u001b[1;34m(self, element)\u001b[0m\n\u001b[0;32m    187\u001b[0m     value \u001b[39m=\u001b[39m element\u001b[39m.\u001b[39mfindtext(VALUE_TAG, \u001b[39mNone\u001b[39;00m) \u001b[39mor\u001b[39;00m \u001b[39mNone\u001b[39;00m\n\u001b[0;32m    189\u001b[0m \u001b[39mif\u001b[39;00m coordinate:\n\u001b[1;32m--> 190\u001b[0m     row, column \u001b[39m=\u001b[39m coordinate_to_tuple(coordinate)\n\u001b[0;32m    191\u001b[0m     \u001b[39mself\u001b[39m\u001b[39m.\u001b[39mcol_counter \u001b[39m=\u001b[39m column\n\u001b[0;32m    192\u001b[0m \u001b[39melse\u001b[39;00m:\n",
      "File \u001b[1;32mc:\\Users\\Usuario\\anaconda3\\lib\\site-packages\\openpyxl\\utils\\cell.py:202\u001b[0m, in \u001b[0;36mcoordinate_to_tuple\u001b[1;34m(coordinate)\u001b[0m\n\u001b[0;32m    200\u001b[0m col \u001b[39m=\u001b[39m coordinate[:idx]\u001b[39m.\u001b[39mupper()\n\u001b[0;32m    201\u001b[0m row \u001b[39m=\u001b[39m coordinate[idx:]\n\u001b[1;32m--> 202\u001b[0m \u001b[39mreturn\u001b[39;00m \u001b[39mint\u001b[39m(row), _COL_STRING_CACHE[col]\n",
      "\u001b[1;31mKeyboardInterrupt\u001b[0m: "
     ]
    }
   ],
   "source": [
    "cols = [\"PAC_HOS\", \"SEXO\", \"Municipio_ocurrencia\",\\\n",
    "     \"CON_FIN\", \"FEC_NOT\", \"ANO\",\"EDAD\",\\\n",
    "     \"Departamento_ocurrencia\"] \n",
    "datos = pd.read_excel(\"Dengue_todos.xlsx\")"
   ]
  },
  {
   "cell_type": "markdown",
   "metadata": {},
   "source": [
    "## CLEAN DATOS"
   ]
  },
  {
   "cell_type": "code",
   "execution_count": 8,
   "metadata": {},
   "outputs": [
    {
     "ename": "NameError",
     "evalue": "name 'datos' is not defined",
     "output_type": "error",
     "traceback": [
      "\u001b[1;31m---------------------------------------------------------------------------\u001b[0m",
      "\u001b[1;31mNameError\u001b[0m                                 Traceback (most recent call last)",
      "\u001b[1;32mc:\\Users\\Usuario\\OneDrive - ITSA\\Documentos\\GIT HUB CODIGOS\\estructura de datos 1\\lab3\\Lab-Singularity\\lab.ipynb Celda 7\u001b[0m in \u001b[0;36m<cell line: 6>\u001b[1;34m()\u001b[0m\n\u001b[0;32m      <a href='vscode-notebook-cell:/c%3A/Users/Usuario/OneDrive%20-%20ITSA/Documentos/GIT%20HUB%20CODIGOS/estructura%20de%20datos%201/lab3/Lab-Singularity/lab.ipynb#W6sZmlsZQ%3D%3D?line=2'>3</a>\u001b[0m clean_df \u001b[39m=\u001b[39m df\u001b[39m.\u001b[39mdrop(index \u001b[39m=\u001b[39m df\u001b[39m.\u001b[39mindex[\u001b[39m720714\u001b[39m:\u001b[39m720747\u001b[39m])\n\u001b[0;32m      <a href='vscode-notebook-cell:/c%3A/Users/Usuario/OneDrive%20-%20ITSA/Documentos/GIT%20HUB%20CODIGOS/estructura%20de%20datos%201/lab3/Lab-Singularity/lab.ipynb#W6sZmlsZQ%3D%3D?line=3'>4</a>\u001b[0m \u001b[39m#clean_df[clean_df.isnull().any(axis=1)]\u001b[39;00m\n\u001b[0;32m      <a href='vscode-notebook-cell:/c%3A/Users/Usuario/OneDrive%20-%20ITSA/Documentos/GIT%20HUB%20CODIGOS/estructura%20de%20datos%201/lab3/Lab-Singularity/lab.ipynb#W6sZmlsZQ%3D%3D?line=4'>5</a>\u001b[0m \u001b[39m##clean_df[\"Departamento_ocurrencia\"].unique()[:-1]\u001b[39;00m\n\u001b[1;32m----> <a href='vscode-notebook-cell:/c%3A/Users/Usuario/OneDrive%20-%20ITSA/Documentos/GIT%20HUB%20CODIGOS/estructura%20de%20datos%201/lab3/Lab-Singularity/lab.ipynb#W6sZmlsZQ%3D%3D?line=5'>6</a>\u001b[0m data_1 \u001b[39m=\u001b[39m datos\u001b[39m.\u001b[39mfillna(\u001b[39m1\u001b[39m)\n\u001b[0;32m      <a href='vscode-notebook-cell:/c%3A/Users/Usuario/OneDrive%20-%20ITSA/Documentos/GIT%20HUB%20CODIGOS/estructura%20de%20datos%201/lab3/Lab-Singularity/lab.ipynb#W6sZmlsZQ%3D%3D?line=6'>7</a>\u001b[0m numericos \u001b[39m=\u001b[39m data_1\u001b[39m.\u001b[39mselect_dtypes(include \u001b[39m=\u001b[39m np\u001b[39m.\u001b[39mnumber)\u001b[39m.\u001b[39mreset_index()\n",
      "\u001b[1;31mNameError\u001b[0m: name 'datos' is not defined"
     ]
    }
   ],
   "source": [
    "#datos.to_csv(\"df_clean.csv\" , index = False, sep = \",\", encoding='utf-8')\n",
    "df = pd.read_csv(\"df_clean.csv\")\n",
    "clean_df = df.drop(index = df.index[720714:720747])\n",
    "#clean_df[clean_df.isnull().any(axis=1)]\n",
    "##clean_df[\"Departamento_ocurrencia\"].unique()[:-1]\n",
    "data_1 = datos.fillna(1)\n",
    "numericos = data_1.select_dtypes(include = np.number).reset_index()"
   ]
  },
  {
   "cell_type": "markdown",
   "metadata": {},
   "source": [
    "## Correlation Matrix"
   ]
  },
  {
   "cell_type": "code",
   "execution_count": 24,
   "metadata": {},
   "outputs": [
    {
     "ename": "NameError",
     "evalue": "name 'datos' is not defined",
     "output_type": "error",
     "traceback": [
      "\u001b[1;31m---------------------------------------------------------------------------\u001b[0m",
      "\u001b[1;31mNameError\u001b[0m                                 Traceback (most recent call last)",
      "\u001b[1;32mc:\\Users\\Usuario\\OneDrive - ITSA\\Documentos\\GIT HUB CODIGOS\\estructura de datos 1\\lab3\\Lab-Singularity\\lab.ipynb Celda 9\u001b[0m in \u001b[0;36m<cell line: 1>\u001b[1;34m()\u001b[0m\n\u001b[1;32m----> <a href='vscode-notebook-cell:/c%3A/Users/Usuario/OneDrive%20-%20ITSA/Documentos/GIT%20HUB%20CODIGOS/estructura%20de%20datos%201/lab3/Lab-Singularity/lab.ipynb#X11sZmlsZQ%3D%3D?line=0'>1</a>\u001b[0m corr \u001b[39m=\u001b[39m datos\u001b[39m.\u001b[39mcorr()\n\u001b[0;32m      <a href='vscode-notebook-cell:/c%3A/Users/Usuario/OneDrive%20-%20ITSA/Documentos/GIT%20HUB%20CODIGOS/estructura%20de%20datos%201/lab3/Lab-Singularity/lab.ipynb#X11sZmlsZQ%3D%3D?line=1'>2</a>\u001b[0m mapa_temp \u001b[39m=\u001b[39m corr\u001b[39m.\u001b[39mstyle\u001b[39m.\u001b[39mbackground_gradient(cmap\u001b[39m=\u001b[39m\u001b[39m'\u001b[39m\u001b[39mcoolwarm\u001b[39m\u001b[39m'\u001b[39m)\u001b[39m.\u001b[39mset_properties(\u001b[39m*\u001b[39m\u001b[39m*\u001b[39m{\u001b[39m'\u001b[39m\u001b[39mfont-size\u001b[39m\u001b[39m'\u001b[39m: \u001b[39m'\u001b[39m\u001b[39m0pt\u001b[39m\u001b[39m'\u001b[39m}) \u001b[39m# Temperature map without correlation\u001b[39;00m\n\u001b[0;32m      <a href='vscode-notebook-cell:/c%3A/Users/Usuario/OneDrive%20-%20ITSA/Documentos/GIT%20HUB%20CODIGOS/estructura%20de%20datos%201/lab3/Lab-Singularity/lab.ipynb#X11sZmlsZQ%3D%3D?line=2'>3</a>\u001b[0m mapa_temp_num \u001b[39m=\u001b[39m corr\u001b[39m.\u001b[39mstyle\u001b[39m.\u001b[39mbackground_gradient(cmap\u001b[39m=\u001b[39m\u001b[39m'\u001b[39m\u001b[39mcoolwarm\u001b[39m\u001b[39m'\u001b[39m)\u001b[39m.\u001b[39mset_precision(\u001b[39m2\u001b[39m) \u001b[39m# Temperature map with correlation\u001b[39;00m\n",
      "\u001b[1;31mNameError\u001b[0m: name 'datos' is not defined"
     ]
    }
   ],
   "source": [
    "corr = datos.corr()\n",
    "mapa_temp = corr.style.background_gradient(cmap='coolwarm').set_properties(**{'font-size': '0pt'}) # Temperature map without correlation\n",
    "mapa_temp_num = corr.style.background_gradient(cmap='coolwarm').set_precision(2) # Temperature map with correlation\n",
    "\n",
    "mapa_temp"
   ]
  },
  {
   "cell_type": "markdown",
   "metadata": {},
   "source": [
    "## CLASE NODO"
   ]
  },
  {
   "cell_type": "code",
   "execution_count": 6,
   "metadata": {},
   "outputs": [],
   "source": [
    "class Nodo_Dep:\n",
    "    def __init__(self, dpto_index, dpto_name,\\\n",
    "        next = None,prev = None):  \n",
    "\n",
    "        self.dpto_index = dpto_index  # department index  \n",
    "        self.dpto_name = dpto_name    # department name\n",
    "        #self.info = clean_df[clean_df[nom].str.contains(info, na = False)]\n",
    "        self.dpto_info = clean_df[clean_df[\"Departamento_ocurrencia\"] == dpto_name]      # dataframe with info regarding the departement\n",
    "        self.next = next\n",
    "        self.prev = prev"
   ]
  },
  {
   "cell_type": "markdown",
   "metadata": {},
   "source": [
    "## CLASE DOUBLE LINKED LIST"
   ]
  },
  {
   "cell_type": "code",
   "execution_count": 66,
   "metadata": {},
   "outputs": [],
   "source": [
    "class DoubleLinkedList: #constructor de la clase\n",
    "    def __init__(self):\n",
    "            self.head = None\n",
    "            self.tail = None\n",
    "\n",
    "    def AddNode(self,dpto_index, dpto_name): #metodo que agrega nodos a la lista\n",
    "        P = Nodo_Dep(dpto_index=dpto_index, \\\n",
    "            dpto_name=dpto_name)\n",
    "            \n",
    "        if (self.head == None):\n",
    "            self.head = P\n",
    "            self.tail = P \n",
    "        else:\n",
    "            self.tail.next = P\n",
    "            P.prev = self.tail\n",
    "            self.tail = P  \n",
    "        self.tail.next = self.head\n",
    "        self.head.prev = self.tail\n",
    "        \n",
    "    def Recorrido(self): \n",
    "        P = self.head\n",
    "        print(P.dpto_name , P.dpto_info)\n",
    "        #print(P.dpto_name, P.dpto_info[\"Departamento_ocurrencia\"].unique()) CONFIRMAR QUE DPTO NAME == DATO OCUR\n",
    "        P = P.prev\n",
    "        while(P != self.head):\n",
    "            print(P.dpto_name, P.dpto_info)\n",
    "            #print(P.dpto_name, P.dpto_info[\"Departamento_ocurrencia\"].unique())\n",
    "            P = P.prev\n",
    "\n",
    "\n",
    "    def NumHospitalizados(self,dpto_name):\n",
    "        dpto_info = clean_df[clean_df[\"Departamento_ocurrencia\"] ==dpto_name ]\n",
    "        dpto_search=dpto_info[dpto_info[\"PAC_HOS\"] == 1] # selecciona los pacientes Hospitalizados en el dpto de interes, (1): hospitalizado\n",
    "        #muertos = len(clean_df[dpto_info[\"PAC_HOS\"] == 1].axes[0])\n",
    "        Pac_Hos=len(dpto_search)\n",
    "        print(Pac_Hos)\n",
    "\n",
    "\n",
    "\n",
    "    def Search(self, dptoName): #busca un departamento por su nombre y verifica si se encuentra en la lista\n",
    "        P = self.head\n",
    "        Q = self.tail\n",
    "        sw=False\n",
    "        sw1= False\n",
    "        while(sw == False and sw1== False ):\n",
    "            if (P.dpto_name==dptoName or Q.dpto_name==dptoName):        \n",
    "                print(dptoName)\n",
    "                return dptoName #si lo encuentra retorna el nombre\n",
    "            elif (P==Q or P.next==Q or Q.prev == P ):\n",
    "                return False #sino retorna False\n",
    "            else:\n",
    "                P = P.next\n",
    "                Q = Q.prev\n",
    "\n",
    "    def num_hospitalizados(self,dptoName): #metodo que halla el numero de hospitalizados por departamento, recibe el nombre del departamento\n",
    "        \n",
    "        dpto_info = clean_df[clean_df[\"Departamento_ocurrencia\"] == dptoName] #filtra el data frame por el nombre del departamento seleccionado\n",
    "        dpto_search=dpto_info[dpto_info[\"PAC_HOS\"] == 1] # selecciona los pacientes Hospitalizados en el dpto de interes, (1): hospitalizado\n",
    "        #muertos = len(clean_df[dpto_info[\"PAC_HOS\"] == 1].axes[0])\n",
    "        Pac_Hos=len(dpto_search) #halla la cantidad\n",
    "        print(\"HOSPITALIZADOS: \", Pac_Hos)\n",
    "\n",
    "    def num_sexo(self,dptoName): #metodo que halla el numero de personas por el sexo\n",
    "        dpto_info = clean_df[clean_df[\"Departamento_ocurrencia\"] == dptoName] #filtra el data frame por el nombre del departamento seleccionado\n",
    "        dpto_searchM=dpto_info[dpto_info[\"SEXO\"] == \"M\"] # selecciona \"masculinos\" en el dpto de interes\n",
    "        SEXOM=len(dpto_searchM.axes[0]) #halla la cantidad\n",
    "        dpto_searchF=dpto_info[dpto_info[\"SEXO\"] == \"F\"] # selecciona \"femeninos\" en el dpto de interes\n",
    "        SEXOF=len(dpto_searchF.axes[0]) #halla la cantidad\n",
    "        print(\"MUJERES: \",  SEXOF)\n",
    "        print(\"HOMBRES: \",SEXOM)\n",
    "        list = [SEXOM, SEXOF]\n",
    "        plt.pie(list, labels = [\"M\", \"F\"], autopct = \"\")\n",
    "        plt.show()\n",
    "\n",
    "    def mes_casos(self, dptoName): #metodo que halla en que mes se registro el mayor numero de casos por departamento\n",
    "        dpto_interes = clean_df[clean_df[\"Departamento_ocurrencia\"] == dptoName] #filtra el data frame por el nombre del departamento seleccionado\n",
    "        fecha = dpto_interes.groupby(\"FEC_NOT\").value_counts().reset_index()\n",
    "        #Con_Final = dpto_interes.groupby(\"Municipio_ocurrencia\")[[\"FEC_NOT\"]].value_counts().reset_index()\n",
    "        fecha['MES'] = pd.to_datetime(fecha[\"FEC_NOT\"]).dt.month\n",
    "        FLista= fecha['MES'].value_counts().reset_index().values.tolist()[0]\n",
    "        #Con_Final['MES'].value_counts()\n",
    "        #fecha['MES'].strftime(%m)\n",
    "        print(\"Mes:\", FLista[0], \"Registro mayor numero de casos\")\n",
    "\n",
    "    def dia_casos(self, dptoName): #metodo que halla el dia en el que se registro el mayor numero de casos por departamento\n",
    "        dpto_interes = clean_df[clean_df[\"Departamento_ocurrencia\"] == dptoName]\n",
    "        fecha = dpto_interes.groupby(\"FEC_NOT\").value_counts().reset_index()\n",
    "        #Con_Final = dpto_interes.groupby(\"Municipio_ocurrencia\")[[\"FEC_NOT\"]].value_counts().reset_index()\n",
    "        fecha['DIA'] = pd.to_datetime(fecha[\"FEC_NOT\"]).dt.day\n",
    "        FLista= fecha['DIA'].value_counts().reset_index().values.tolist()[0]\n",
    "        #Con_Final['MES'].value_counts()\n",
    "        #fecha['MES'].strftime(%m)\n",
    "        print(\"Dia:\", FLista[0], \"Registro mayor numero de casos\")\n",
    "\n",
    "    def casos_municipio(self, dptoName): #metodo que halla el muncipio con mas casos en el departamento seleccionado\n",
    "        dpto_interes = clean_df[clean_df[\"Departamento_ocurrencia\"] == dptoName]#Dpto de interes\n",
    "        MasCasos_list = dpto_interes['Municipio_ocurrencia'].value_counts().reset_index().values.tolist()[0] #lista de municipio con mas registros\n",
    "        print(\"el municipio con mas registrados es:\", MasCasos_list[0], \"con \", MasCasos_list[1], \"casos\")\n",
    "\n",
    "    def muertos_municipio(self, dptoName): #metodo que halla el muninicipio con mas muertos del departaemento seleccionado\n",
    "        dpto_interes= clean_df[clean_df[\"Departamento_ocurrencia\"] == dptoName] #Dpto de interes\n",
    "        Con_Final = dpto_interes.groupby(\"Municipio_ocurrencia\")[[\"CON_FIN\"]].value_counts().reset_index() #agrupa municipio por columna de condicion final\n",
    "        MasMuertos_list =Con_Final[Con_Final[\"CON_FIN\"] == 2].sort_values(by=0, ascending=False).reset_index().values.tolist()[0]\n",
    "        #lista desendente de casos de muerte :2, [0]: posicion con mas muertos\n",
    "        Con_Fin = Con_Final[Con_Final[\"CON_FIN\"] == 2]\n",
    "        plt.bar(Con_Fin[\"Municipio_ocurrencia\"], Con_Fin[0])\n",
    "        plt.xlabel(\"Municipios\")\n",
    "        plt.ylabel(\"Cantidad de muertos\")\n",
    "        plt.title(\"Cantidad de muertos por municipios\")\n",
    "        plt.show()\n",
    "        print(\"El municipio mas muertos registrados es:\", MasMuertos_list[1], \".CANT:\", MasMuertos_list[3])\n",
    "        \n",
    "\n",
    "    \n"
   ]
  },
  {
   "cell_type": "markdown",
   "metadata": {},
   "source": [
    "## Models Class (Linear regression, Logistic regression)"
   ]
  },
  {
   "cell_type": "code",
   "execution_count": 85,
   "metadata": {},
   "outputs": [],
   "source": [
    "class models:\n",
    "    \n",
    "    def modelRLinear(self):\n",
    "        x = data_1[[\"EDAD\"]]\n",
    "        y = data_1[\"SEMANA\"]\n",
    "        # Split the data into training/testing sets\n",
    "        x_train = x[:-20]\n",
    "        x_test = x[-20:]\n",
    "\n",
    "        # Split the targets into training/testing sets\n",
    "        y_train = y[:-20]\n",
    "        y_test = y[-20:]\n",
    "\n",
    "        regr = linear_model.LinearRegression()\n",
    "\n",
    "        # Train the model using the training sets\n",
    "        regr.fit(x_train, y_train)\n",
    "\n",
    "        # Make predictions using the testing set\n",
    "        y_pred = regr.predict(x_test)\n",
    "\n",
    "        # The coefficients\n",
    "        print(\"Coefficients: \\n\", regr.coef_)\n",
    "        # The mean squared error\n",
    "        print(\"Mean squared error: %.2f\" % mean_squared_error(y_test, y_pred))\n",
    "        # The coefficient of determination: 1 is perfect prediction\n",
    "        print(\"Coefficient of determination: %.2f\" % r2_score(y_test, y_pred))\n",
    "\n",
    "        # Plot outputs\n",
    "        plt.scatter(x_test, y_test, color=\"black\")\n",
    "        plt.plot(x_test, y_pred, color=\"blue\", linewidth=3)\n",
    "\n",
    "        plt.xticks(())\n",
    "        plt.yticks(())\n",
    "\n",
    "        plt.show()\n",
    "    \n",
    "    def modeloRLogistic(self):\n",
    "\n",
    "        vari = [\"UNI_MED\",\"EDAD\",\"COD_DPTO_O\", \"COD_MUN_O\",\"PER_ETN\"] # Variables use for x in the Logistic Regression\n",
    "        x = numericos[vari]\n",
    "        y = numericos.GP_INDIGEN\n",
    "        clf = LogisticRegression()\n",
    "        \n",
    "        # split X and y into training and testing sets\n",
    "        x_train, x_test, y_train, y_test = train_test_split(x, y, test_size=0.25, random_state=16)\n",
    "\n",
    "        clf.fit(x_train,y_train)\n",
    "        score = clf.score(x_train, y_train)\n",
    "        y_pred = clf.predict(x_test)\n",
    "        \n",
    "        y_pred_proba = clf.predict_proba(x_test)[::,1]\n",
    "        fpr, tpr, _ = metrics.roc_curve(y_test,  y_pred_proba,pos_label= 2)\n",
    "        auc = metrics.roc_auc_score(y_test, y_pred_proba)\n",
    "        plt.plot(fpr,tpr,label=\"Data, auc=\"+str(auc))\n",
    "        plt.legend(loc=4)\n",
    "        plt.show()\n",
    "\n",
    "    def dfReglog(self):\n",
    "        vari = [\"UNI_MED\",\"EDAD\",\"COD_DPTO_O\", \"COD_MUN_O\",\"ESTRATO\"] # Variables use for x in the Logistic Regression\n",
    "        x = numericos[vari]\n",
    "        y = numericos.GP_INDIGEN\n",
    "        clf = LogisticRegression()\n",
    "\n",
    "        clf.fit(x,y)\n",
    "        y_proba = clf.predict_proba(x)\n",
    "        y_predict = clf.predict(x)\n",
    "\n",
    "        y_si_ind = [y_proba[i][0] for i in range(0,len(y_proba))]\n",
    "        y_no_ind = [y_proba[i][1] for i in range(0,len(y_proba))]\n",
    "        numericos[\"predict\"] = y_predict\n",
    "        numericos[\"No Ind\"] = y_no_ind\n",
    "        numericos[\"Ind\"] = y_si_ind\n",
    "        df_list = ['GP_INDIGEN','predict','Ind', 'No Ind']\n",
    "        numericos[df_list]\n",
    "        print(numericos[df_list])\n",
    "\n",
    "    def corrMatrix(self):\n",
    "        corr = datos.corr()\n",
    "\n",
    "        plt.matshow(corr)\n",
    "\n",
    "        # Temperature map with correlation\n",
    "        # mapa_temp_num = corr.style.background_gradient(cmap='coolwarm').set_precision(2) \n",
    "\n",
    "        # Temperature map without correlation\n",
    "        # mapa_temp = corr.style.background_gradient(cmap='coolwarm').set_properties(**{'font-size': '0pt'}) \n"
   ]
  },
  {
   "cell_type": "markdown",
   "metadata": {},
   "source": [
    "## PRUEBA METODOS"
   ]
  },
  {
   "cell_type": "markdown",
   "metadata": {},
   "source": [
    "### MUNICIPIOS"
   ]
  },
  {
   "cell_type": "markdown",
   "metadata": {},
   "source": [
    "#### MAYOR NUMERO DE CASOS"
   ]
  },
  {
   "cell_type": "code",
   "execution_count": 86,
   "metadata": {},
   "outputs": [
    {
     "name": "stdout",
     "output_type": "stream",
     "text": [
      "el municipio con mas registrados es: BARRANQUILLA con  14971 casos\n"
     ]
    },
    {
     "data": {
      "text/plain": [
       "['BARRANQUILLA', 14971]"
      ]
     },
     "execution_count": 86,
     "metadata": {},
     "output_type": "execute_result"
    }
   ],
   "source": [
    "dpto_interes = clean_df[clean_df[\"Departamento_ocurrencia\"] == \"ATLANTICO\"]#Dpto de interes\n",
    "MasCasos_list=dpto_interes['Municipio_ocurrencia'].value_counts().reset_index().values.tolist()[0] #lista de municipio con mas registros\n",
    "\n",
    "print(\"el municipio con mas registrados es:\", MasCasos_list[0], \"con \", MasCasos_list[1], \"casos\")\n",
    "MasCasos_list"
   ]
  },
  {
   "cell_type": "markdown",
   "metadata": {},
   "source": [
    "#### MAYOR NUMERO DE MUERTOS"
   ]
  },
  {
   "cell_type": "code",
   "execution_count": 87,
   "metadata": {},
   "outputs": [
    {
     "name": "stdout",
     "output_type": "stream",
     "text": [
      "El municipio mas muertos registrados es: SOLEDAD .CANT: 3\n"
     ]
    },
    {
     "data": {
      "image/png": "[encoded data removed]",
      "text/plain": [
       "<Figure size 432x288 with 1 Axes>"
      ]
     },
     "metadata": {
      "needs_background": "light"
     },
     "output_type": "display_data"
    }
   ],
   "source": [
    "dpto_interes= clean_df[clean_df[\"Departamento_ocurrencia\"] == \"ATLANTICO\"] #Dpto de interes\n",
    "Con_Final = dpto_interes.groupby(\"Municipio_ocurrencia\")[[\"CON_FIN\"]].value_counts().reset_index() #agrupa municipio por columan de condicion final\n",
    "MasMuertos_list =Con_Final[Con_Final[\"CON_FIN\"] == 2].sort_values(by=0, ascending=False).reset_index().values.tolist()[0]\n",
    " #lista desendente de casos de muerte :2, [0]: pioscion con mas muertos\n",
    "print(\"El municipio mas muertos registrados es:\", MasMuertos_list[1], \".CANT:\", MasMuertos_list[3] )\n",
    "\n",
    "\n",
    "Con_Fin = Con_Final[Con_Final[\"CON_FIN\"] == 2]\n",
    "\n",
    "plt.bar(Con_Fin[\"Municipio_ocurrencia\"], Con_Fin[0])\n",
    "plt.show()\n",
    "\n"
   ]
  },
  {
   "cell_type": "markdown",
   "metadata": {},
   "source": [
    "### DEPARTAMENTO"
   ]
  },
  {
   "cell_type": "markdown",
   "metadata": {},
   "source": [
    "#### NUMERO DE HOSPITALIZADOS"
   ]
  },
  {
   "cell_type": "code",
   "execution_count": 88,
   "metadata": {},
   "outputs": [
    {
     "name": "stdout",
     "output_type": "stream",
     "text": [
      "12333\n"
     ]
    }
   ],
   "source": [
    "dpto_info = clean_df[clean_df[\"Departamento_ocurrencia\"] == \"ATLANTICO\"]\n",
    "dpto_search=dpto_info[dpto_info[\"PAC_HOS\"] == 1] # selecciona los pacientes Hospitalizados en el dpto de interes, (1): hospitalizado\n",
    "#muertos = len(clean_df[dpto_info[\"PAC_HOS\"] == 1].axes[0])\n",
    "Pac_Hos=len(dpto_search)\n",
    "print(Pac_Hos)\n",
    "\n",
    "#df_list = dpto_search.values.tolist()\n",
    "#print(len(df_list))\n",
    "#print(df_list)"
   ]
  },
  {
   "cell_type": "markdown",
   "metadata": {},
   "source": [
    "#### CANTIDAD DE CASOS POR SEXO"
   ]
  },
  {
   "cell_type": "code",
   "execution_count": 89,
   "metadata": {},
   "outputs": [
    {
     "name": "stdout",
     "output_type": "stream",
     "text": [
      "numero de mujeres:  749\n",
      "numero de hombres:  868\n"
     ]
    }
   ],
   "source": [
    "dpto_info = clean_df[clean_df[\"Departamento_ocurrencia\"] == \"VICHADA\"]\n",
    "dpto_searchM=dpto_info[dpto_info[\"SEXO\"] == \"M\"] # selecciona l\"masculinos\" en el dpto de interes, (1): hospitalizado\n",
    "SEXOM=len(dpto_searchM.axes[0])\n",
    "dpto_searchF=dpto_info[dpto_info[\"SEXO\"] == \"F\"] # selecciona \"femeninos\" en el dpto de interes\n",
    "SEXOF=len(dpto_searchF.axes[0])\n",
    "print(\"numero de mujeres: \", SEXOF)\n",
    "print(\"numero de hombres: \",SEXOM)\n",
    "list = [SEXOM, SEXOF]\n"
   ]
  },
  {
   "cell_type": "markdown",
   "metadata": {},
   "source": [
    "### TEMPORALES"
   ]
  },
  {
   "cell_type": "markdown",
   "metadata": {},
   "source": [
    "#### MES CON MAS CASOS"
   ]
  },
  {
   "cell_type": "code",
   "execution_count": 90,
   "metadata": {},
   "outputs": [
    {
     "name": "stdout",
     "output_type": "stream",
     "text": [
      "Mes: 1 Registro mayor numero de casos\n"
     ]
    }
   ],
   "source": [
    "dpto_interes = clean_df[clean_df[\"Departamento_ocurrencia\"] == \"ATLANTICO\"]\n",
    "fecha = dpto_interes.groupby(\"FEC_NOT\").value_counts().reset_index()\n",
    "#Con_Final = dpto_interes.groupby(\"Municipio_ocurrencia\")[[\"FEC_NOT\"]].value_counts().reset_index()\n",
    "fecha['MES'] = pd.to_datetime(fecha[\"FEC_NOT\"]).dt.month\n",
    "FLista= fecha['MES'].value_counts().reset_index().values.tolist()[0]\n",
    "#Con_Final['MES'].value_counts()\n",
    "#fecha['MES'].strftime(%m)\n",
    "\n",
    "print(\"Mes:\", FLista[0], \"Registro mayor numero de casos\")"
   ]
  },
  {
   "cell_type": "markdown",
   "metadata": {},
   "source": [
    "#### DIA CON MAS CASOS"
   ]
  },
  {
   "cell_type": "code",
   "execution_count": 91,
   "metadata": {},
   "outputs": [
    {
     "name": "stdout",
     "output_type": "stream",
     "text": [
      "Dia: 4 Registro mayor numero de casos\n"
     ]
    }
   ],
   "source": [
    "\n",
    "dpto_interes = clean_df[clean_df[\"Departamento_ocurrencia\"] == \"ATLANTICO\"]\n",
    "fecha = dpto_interes.groupby(\"FEC_NOT\").value_counts().reset_index()\n",
    "#Con_Final = dpto_interes.groupby(\"Municipio_ocurrencia\")[[\"FEC_NOT\"]].value_counts().reset_index()\n",
    "fecha['DIA'] = pd.to_datetime(fecha[\"FEC_NOT\"]).dt.day\n",
    "FLista= fecha['DIA'].value_counts().reset_index().values.tolist()[0]\n",
    "#Con_Final['MES'].value_counts()\n",
    "#fecha['MES'].strftime(%m)\n",
    "\n",
    "print(\"Dia:\", FLista[0], \"Registro mayor numero de casos\")"
   ]
  },
  {
   "cell_type": "markdown",
   "metadata": {},
   "source": [
    "### CODE TO RUN"
   ]
  },
  {
   "cell_type": "code",
   "execution_count": 92,
   "metadata": {},
   "outputs": [
    {
     "ename": "KeyboardInterrupt",
     "evalue": "",
     "output_type": "error",
     "traceback": [
      "\u001b[1;31m---------------------------------------------------------------------------\u001b[0m",
      "\u001b[1;31mKeyboardInterrupt\u001b[0m                         Traceback (most recent call last)",
      "\u001b[1;32mc:\\Users\\Usuario\\OneDrive - ITSA\\Documentos\\GIT HUB CODIGOS\\estructura de datos 1\\lab3\\Lab-Singularity\\lab.ipynb Celda 33\u001b[0m in \u001b[0;36m<cell line: 3>\u001b[1;34m()\u001b[0m\n\u001b[0;32m      <a href='vscode-notebook-cell:/c%3A/Users/Usuario/OneDrive%20-%20ITSA/Documentos/GIT%20HUB%20CODIGOS/estructura%20de%20datos%201/lab3/Lab-Singularity/lab.ipynb#X44sZmlsZQ%3D%3D?line=0'>1</a>\u001b[0m lista_d \u001b[39m=\u001b[39m DoubleLinkedList()\n\u001b[0;32m      <a href='vscode-notebook-cell:/c%3A/Users/Usuario/OneDrive%20-%20ITSA/Documentos/GIT%20HUB%20CODIGOS/estructura%20de%20datos%201/lab3/Lab-Singularity/lab.ipynb#X44sZmlsZQ%3D%3D?line=2'>3</a>\u001b[0m \u001b[39mfor\u001b[39;00m i,dpto \u001b[39min\u001b[39;00m \u001b[39menumerate\u001b[39m(clean_df[\u001b[39m\"\u001b[39m\u001b[39mDepartamento_ocurrencia\u001b[39m\u001b[39m\"\u001b[39m]\u001b[39m.\u001b[39munique()[:\u001b[39m-\u001b[39m\u001b[39m1\u001b[39m]): \u001b[39m# [\"Departamento_ocurrencia\"].unique()[:-1] : hasta la penultima \u001b[39;00m\n\u001b[0;32m      <a href='vscode-notebook-cell:/c%3A/Users/Usuario/OneDrive%20-%20ITSA/Documentos/GIT%20HUB%20CODIGOS/estructura%20de%20datos%201/lab3/Lab-Singularity/lab.ipynb#X44sZmlsZQ%3D%3D?line=3'>4</a>\u001b[0m     \u001b[39m#print(dpto)\u001b[39;00m\n\u001b[1;32m----> <a href='vscode-notebook-cell:/c%3A/Users/Usuario/OneDrive%20-%20ITSA/Documentos/GIT%20HUB%20CODIGOS/estructura%20de%20datos%201/lab3/Lab-Singularity/lab.ipynb#X44sZmlsZQ%3D%3D?line=4'>5</a>\u001b[0m     lista_d\u001b[39m.\u001b[39;49mAddNode(i, dpto) \u001b[39m#i : dpto index , dpto: dpto name\u001b[39;00m\n\u001b[0;32m      <a href='vscode-notebook-cell:/c%3A/Users/Usuario/OneDrive%20-%20ITSA/Documentos/GIT%20HUB%20CODIGOS/estructura%20de%20datos%201/lab3/Lab-Singularity/lab.ipynb#X44sZmlsZQ%3D%3D?line=6'>7</a>\u001b[0m fin \u001b[39m=\u001b[39m \u001b[39mTrue\u001b[39;00m\n\u001b[0;32m      <a href='vscode-notebook-cell:/c%3A/Users/Usuario/OneDrive%20-%20ITSA/Documentos/GIT%20HUB%20CODIGOS/estructura%20de%20datos%201/lab3/Lab-Singularity/lab.ipynb#X44sZmlsZQ%3D%3D?line=7'>8</a>\u001b[0m \u001b[39mprint\u001b[39m(\u001b[39m\"\u001b[39m\u001b[39m---------- BIENVENIDO AL CENTRO DE CONSULTAS SOBRE EL DENGUE ----------\u001b[39m\u001b[39m\"\u001b[39m)\n",
      "\u001b[1;32mc:\\Users\\Usuario\\OneDrive - ITSA\\Documentos\\GIT HUB CODIGOS\\estructura de datos 1\\lab3\\Lab-Singularity\\lab.ipynb Celda 33\u001b[0m in \u001b[0;36mDoubleLinkedList.AddNode\u001b[1;34m(self, dpto_index, dpto_name)\u001b[0m\n\u001b[0;32m      <a href='vscode-notebook-cell:/c%3A/Users/Usuario/OneDrive%20-%20ITSA/Documentos/GIT%20HUB%20CODIGOS/estructura%20de%20datos%201/lab3/Lab-Singularity/lab.ipynb#X44sZmlsZQ%3D%3D?line=5'>6</a>\u001b[0m \u001b[39mdef\u001b[39;00m \u001b[39mAddNode\u001b[39m(\u001b[39mself\u001b[39m,dpto_index, dpto_name): \u001b[39m#metodo que agrega nodos a la lista\u001b[39;00m\n\u001b[1;32m----> <a href='vscode-notebook-cell:/c%3A/Users/Usuario/OneDrive%20-%20ITSA/Documentos/GIT%20HUB%20CODIGOS/estructura%20de%20datos%201/lab3/Lab-Singularity/lab.ipynb#X44sZmlsZQ%3D%3D?line=6'>7</a>\u001b[0m     P \u001b[39m=\u001b[39m Nodo_Dep(dpto_index\u001b[39m=\u001b[39;49mdpto_index, \\\n\u001b[0;32m      <a href='vscode-notebook-cell:/c%3A/Users/Usuario/OneDrive%20-%20ITSA/Documentos/GIT%20HUB%20CODIGOS/estructura%20de%20datos%201/lab3/Lab-Singularity/lab.ipynb#X44sZmlsZQ%3D%3D?line=7'>8</a>\u001b[0m         dpto_name\u001b[39m=\u001b[39;49mdpto_name)\n\u001b[0;32m     <a href='vscode-notebook-cell:/c%3A/Users/Usuario/OneDrive%20-%20ITSA/Documentos/GIT%20HUB%20CODIGOS/estructura%20de%20datos%201/lab3/Lab-Singularity/lab.ipynb#X44sZmlsZQ%3D%3D?line=9'>10</a>\u001b[0m     \u001b[39mif\u001b[39;00m (\u001b[39mself\u001b[39m\u001b[39m.\u001b[39mhead \u001b[39m==\u001b[39m \u001b[39mNone\u001b[39;00m):\n\u001b[0;32m     <a href='vscode-notebook-cell:/c%3A/Users/Usuario/OneDrive%20-%20ITSA/Documentos/GIT%20HUB%20CODIGOS/estructura%20de%20datos%201/lab3/Lab-Singularity/lab.ipynb#X44sZmlsZQ%3D%3D?line=10'>11</a>\u001b[0m         \u001b[39mself\u001b[39m\u001b[39m.\u001b[39mhead \u001b[39m=\u001b[39m P\n",
      "\u001b[1;32mc:\\Users\\Usuario\\OneDrive - ITSA\\Documentos\\GIT HUB CODIGOS\\estructura de datos 1\\lab3\\Lab-Singularity\\lab.ipynb Celda 33\u001b[0m in \u001b[0;36mNodo_Dep.__init__\u001b[1;34m(self, dpto_index, dpto_name, next, prev)\u001b[0m\n\u001b[0;32m      <a href='vscode-notebook-cell:/c%3A/Users/Usuario/OneDrive%20-%20ITSA/Documentos/GIT%20HUB%20CODIGOS/estructura%20de%20datos%201/lab3/Lab-Singularity/lab.ipynb#X44sZmlsZQ%3D%3D?line=5'>6</a>\u001b[0m \u001b[39mself\u001b[39m\u001b[39m.\u001b[39mdpto_name \u001b[39m=\u001b[39m dpto_name    \u001b[39m# department name\u001b[39;00m\n\u001b[0;32m      <a href='vscode-notebook-cell:/c%3A/Users/Usuario/OneDrive%20-%20ITSA/Documentos/GIT%20HUB%20CODIGOS/estructura%20de%20datos%201/lab3/Lab-Singularity/lab.ipynb#X44sZmlsZQ%3D%3D?line=6'>7</a>\u001b[0m \u001b[39m#self.info = clean_df[clean_df[nom].str.contains(info, na = False)]\u001b[39;00m\n\u001b[1;32m----> <a href='vscode-notebook-cell:/c%3A/Users/Usuario/OneDrive%20-%20ITSA/Documentos/GIT%20HUB%20CODIGOS/estructura%20de%20datos%201/lab3/Lab-Singularity/lab.ipynb#X44sZmlsZQ%3D%3D?line=7'>8</a>\u001b[0m \u001b[39mself\u001b[39m\u001b[39m.\u001b[39mdpto_info \u001b[39m=\u001b[39m clean_df[clean_df[\u001b[39m\"\u001b[39;49m\u001b[39mDepartamento_ocurrencia\u001b[39;49m\u001b[39m\"\u001b[39;49m] \u001b[39m==\u001b[39;49m dpto_name]      \u001b[39m# dataframe with info regarding the departement\u001b[39;00m\n\u001b[0;32m      <a href='vscode-notebook-cell:/c%3A/Users/Usuario/OneDrive%20-%20ITSA/Documentos/GIT%20HUB%20CODIGOS/estructura%20de%20datos%201/lab3/Lab-Singularity/lab.ipynb#X44sZmlsZQ%3D%3D?line=8'>9</a>\u001b[0m \u001b[39mself\u001b[39m\u001b[39m.\u001b[39mnext \u001b[39m=\u001b[39m \u001b[39mnext\u001b[39m\n\u001b[0;32m     <a href='vscode-notebook-cell:/c%3A/Users/Usuario/OneDrive%20-%20ITSA/Documentos/GIT%20HUB%20CODIGOS/estructura%20de%20datos%201/lab3/Lab-Singularity/lab.ipynb#X44sZmlsZQ%3D%3D?line=9'>10</a>\u001b[0m \u001b[39mself\u001b[39m\u001b[39m.\u001b[39mprev \u001b[39m=\u001b[39m prev\n",
      "File \u001b[1;32mc:\\Users\\Usuario\\anaconda3\\lib\\site-packages\\pandas\\core\\ops\\common.py:70\u001b[0m, in \u001b[0;36m_unpack_zerodim_and_defer.<locals>.new_method\u001b[1;34m(self, other)\u001b[0m\n\u001b[0;32m     66\u001b[0m             \u001b[39mreturn\u001b[39;00m \u001b[39mNotImplemented\u001b[39m\n\u001b[0;32m     68\u001b[0m other \u001b[39m=\u001b[39m item_from_zerodim(other)\n\u001b[1;32m---> 70\u001b[0m \u001b[39mreturn\u001b[39;00m method(\u001b[39mself\u001b[39;49m, other)\n",
      "File \u001b[1;32mc:\\Users\\Usuario\\anaconda3\\lib\\site-packages\\pandas\\core\\arraylike.py:40\u001b[0m, in \u001b[0;36mOpsMixin.__eq__\u001b[1;34m(self, other)\u001b[0m\n\u001b[0;32m     38\u001b[0m \u001b[39m@unpack_zerodim_and_defer\u001b[39m(\u001b[39m\"\u001b[39m\u001b[39m__eq__\u001b[39m\u001b[39m\"\u001b[39m)\n\u001b[0;32m     39\u001b[0m \u001b[39mdef\u001b[39;00m \u001b[39m__eq__\u001b[39m(\u001b[39mself\u001b[39m, other):\n\u001b[1;32m---> 40\u001b[0m     \u001b[39mreturn\u001b[39;00m \u001b[39mself\u001b[39;49m\u001b[39m.\u001b[39;49m_cmp_method(other, operator\u001b[39m.\u001b[39;49meq)\n",
      "File \u001b[1;32mc:\\Users\\Usuario\\anaconda3\\lib\\site-packages\\pandas\\core\\series.py:5623\u001b[0m, in \u001b[0;36mSeries._cmp_method\u001b[1;34m(self, other, op)\u001b[0m\n\u001b[0;32m   5620\u001b[0m rvalues \u001b[39m=\u001b[39m extract_array(other, extract_numpy\u001b[39m=\u001b[39m\u001b[39mTrue\u001b[39;00m, extract_range\u001b[39m=\u001b[39m\u001b[39mTrue\u001b[39;00m)\n\u001b[0;32m   5622\u001b[0m \u001b[39mwith\u001b[39;00m np\u001b[39m.\u001b[39merrstate(\u001b[39mall\u001b[39m\u001b[39m=\u001b[39m\u001b[39m\"\u001b[39m\u001b[39mignore\u001b[39m\u001b[39m\"\u001b[39m):\n\u001b[1;32m-> 5623\u001b[0m     res_values \u001b[39m=\u001b[39m ops\u001b[39m.\u001b[39;49mcomparison_op(lvalues, rvalues, op)\n\u001b[0;32m   5625\u001b[0m \u001b[39mreturn\u001b[39;00m \u001b[39mself\u001b[39m\u001b[39m.\u001b[39m_construct_result(res_values, name\u001b[39m=\u001b[39mres_name)\n",
      "File \u001b[1;32mc:\\Users\\Usuario\\anaconda3\\lib\\site-packages\\pandas\\core\\ops\\array_ops.py:283\u001b[0m, in \u001b[0;36mcomparison_op\u001b[1;34m(left, right, op)\u001b[0m\n\u001b[0;32m    280\u001b[0m     \u001b[39mreturn\u001b[39;00m invalid_comparison(lvalues, rvalues, op)\n\u001b[0;32m    282\u001b[0m \u001b[39melif\u001b[39;00m is_object_dtype(lvalues\u001b[39m.\u001b[39mdtype) \u001b[39mor\u001b[39;00m \u001b[39misinstance\u001b[39m(rvalues, \u001b[39mstr\u001b[39m):\n\u001b[1;32m--> 283\u001b[0m     res_values \u001b[39m=\u001b[39m comp_method_OBJECT_ARRAY(op, lvalues, rvalues)\n\u001b[0;32m    285\u001b[0m \u001b[39melse\u001b[39;00m:\n\u001b[0;32m    286\u001b[0m     res_values \u001b[39m=\u001b[39m _na_arithmetic_op(lvalues, rvalues, op, is_cmp\u001b[39m=\u001b[39m\u001b[39mTrue\u001b[39;00m)\n",
      "File \u001b[1;32mc:\\Users\\Usuario\\anaconda3\\lib\\site-packages\\pandas\\core\\ops\\array_ops.py:74\u001b[0m, in \u001b[0;36mcomp_method_OBJECT_ARRAY\u001b[1;34m(op, x, y)\u001b[0m\n\u001b[0;32m     72\u001b[0m \u001b[39melse\u001b[39;00m:\n\u001b[0;32m     73\u001b[0m     result \u001b[39m=\u001b[39m libops\u001b[39m.\u001b[39mscalar_compare(x\u001b[39m.\u001b[39mravel(), y, op)\n\u001b[1;32m---> 74\u001b[0m \u001b[39mreturn\u001b[39;00m result\u001b[39m.\u001b[39;49mreshape(x\u001b[39m.\u001b[39mshape)\n",
      "\u001b[1;31mKeyboardInterrupt\u001b[0m: "
     ]
    }
   ],
   "source": [
    "lista_d = DoubleLinkedList()\n",
    "\n",
    "for i,dpto in enumerate(clean_df[\"Departamento_ocurrencia\"].unique()[:-1]): # [\"Departamento_ocurrencia\"].unique()[:-1] : hasta la penultima \n",
    "    #print(dpto)\n",
    "    lista_d.AddNode(i, dpto) #i : dpto index , dpto: dpto name\n",
    "\n",
    "fin = True\n",
    "print(\"---------- BIENVENIDO AL CENTRO DE CONSULTAS SOBRE EL DENGUE ----------\")\n",
    "print(\"Ingresa tu nombre:\")\n",
    "print()\n",
    "name = input()\n",
    "print(\"Hola \", name, \", que deseas consultar?\")\n",
    "\n",
    "while fin:\n",
    "    print(\"Escoge una opción: 1) Consultas por departamento 2) Consultas por municipio 3) Consultas temporales 4) Modelos 5) Salir\")\n",
    "    print()\n",
    "    op = input()\n",
    "    \n",
    "    while (op != \"1\" and op != \"2\" and op != \"3\" and op != \"4\"):\n",
    "        print(\"Recuerda que las opciones son del 1 al 5\")\n",
    "        print(\"Escoge una opción: 1) Consultas por departamento 2) Consultas por municipio 3) Consultas temporales 4) Modelos 5) Salir\")\n",
    "        print()\n",
    "        op = input()\n",
    "    \n",
    "    if (fin):\n",
    "        print(\"¿Que departamento desea consultar?\")\n",
    "        print()\n",
    "        dpto = input()\n",
    "        while(not(lista_d.Search(dpto))):\n",
    "            print(\"Departamento no encontrado\")\n",
    "            print()\n",
    "            dpto = input()\n",
    "        \n",
    "    if (op == \"1\"):\n",
    "        print(\".......... CONSULTAS POR DEPARTAMENTO ..........\")\n",
    "        print(\"El numero de hospitalizados en el departamento \", dpto)\n",
    "        lista_d.num_hospitalizados(dpto)\n",
    "        print(\"El numero de hospitalizados por sexo fue: \")\n",
    "        lista_d.num_sexo(dpto)\n",
    "        \n",
    "    elif(op == \"2\"):\n",
    "        print(\".......... CONSULTAS POR MUNICIPIO ..........\")\n",
    "        lista_d.casos_municipio(dpto)\n",
    "        lista_d.muertos_municipio(dpto)\n",
    "        \n",
    "    elif(op == \"3\"):\n",
    "        print(\".......... CONSULTAS TEMPORALES ..........\")\n",
    "        lista_d.mes_casos(dpto)\n",
    "        lista_d.dia_casos(dpto)\n",
    "    \n",
    "    elif(op == \"4\"):\n",
    "        reg_ll = models()\n",
    "        \n",
    "        print(\"Seleccione que tipo de proceso desea:\\\n",
    "            // 1 for Linear regression model\\\n",
    "            // 2 for Logistic regression model\\\n",
    "            // 3 for logistic regression DataFrame (with predicted values)\\\n",
    "            // 4 for correlation matrix\")\n",
    "\n",
    "        opt = int(input(print(\"Digite el número de su elección aquí: \")))\n",
    "\n",
    "        if opt == 1:\n",
    "            print(\".......... LINEAR REGRESSION MODEL ..........\")\n",
    "            reg_ll.modelRLinear()\n",
    "\n",
    "        if opt == 2:\n",
    "            print(\".......... LOGISTIC REGRESSION MODEL ..........\")\n",
    "            reg_ll.modeloRLogistic()\n",
    "\n",
    "        if opt == 3:\n",
    "            print(\".......... LOGISTIC REGRESSION DATAFRAME ..........\")\n",
    "            reg_ll.dfReglog()\n",
    "            \n",
    "        if opt == 4:\n",
    "            print(\".......... CORRELATION MATRIX ..........\")\n",
    "            reg_ll.corrMatrix()\n",
    "                \n",
    "    elif(op == \"5\"): #Salir\n",
    "        print(\"---------- GRACIAS POR USAR NUESTROS SERVICIOS, VUELVA PRONTO :) -----------\")\n",
    "        fin = False\n"
   ]
  },
  {
   "cell_type": "markdown",
   "metadata": {},
   "source": [
    "## RUN REGRESSION MODELS"
   ]
  },
  {
   "cell_type": "code",
   "execution_count": 21,
   "metadata": {},
   "outputs": [
    {
     "name": "stdout",
     "output_type": "stream",
     "text": [
      "Seleccione que tipo de proceso desea:    // 1 for Linear regression model    // 2 for Logistic regression model    // 3 for logistic regression DataFrame (with predicted values)    // 4 for correlation matrix\n",
      "Digite el número de su elección aquí: \n"
     ]
    },
    {
     "ename": "ValueError",
     "evalue": "invalid literal for int() with base 10: ''",
     "output_type": "error",
     "traceback": [
      "\u001b[1;31m---------------------------------------------------------------------------\u001b[0m",
      "\u001b[1;31mValueError\u001b[0m                                Traceback (most recent call last)",
      "\u001b[1;32mc:\\Users\\Usuario\\OneDrive - ITSA\\Documentos\\GIT HUB CODIGOS\\estructura de datos 1\\lab3\\Lab-Singularity\\lab.ipynb Celda 35\u001b[0m in \u001b[0;36m<cell line: 9>\u001b[1;34m()\u001b[0m\n\u001b[0;32m      <a href='vscode-notebook-cell:/c%3A/Users/Usuario/OneDrive%20-%20ITSA/Documentos/GIT%20HUB%20CODIGOS/estructura%20de%20datos%201/lab3/Lab-Singularity/lab.ipynb#X46sZmlsZQ%3D%3D?line=0'>1</a>\u001b[0m reg_ll \u001b[39m=\u001b[39m models()\n\u001b[0;32m      <a href='vscode-notebook-cell:/c%3A/Users/Usuario/OneDrive%20-%20ITSA/Documentos/GIT%20HUB%20CODIGOS/estructura%20de%20datos%201/lab3/Lab-Singularity/lab.ipynb#X46sZmlsZQ%3D%3D?line=2'>3</a>\u001b[0m \u001b[39mprint\u001b[39m(\u001b[39m\"\u001b[39m\u001b[39mSeleccione que tipo de proceso desea:\u001b[39m\u001b[39m\\\u001b[39;00m\n\u001b[0;32m      <a href='vscode-notebook-cell:/c%3A/Users/Usuario/OneDrive%20-%20ITSA/Documentos/GIT%20HUB%20CODIGOS/estructura%20de%20datos%201/lab3/Lab-Singularity/lab.ipynb#X46sZmlsZQ%3D%3D?line=3'>4</a>\u001b[0m \u001b[39m    // 1 for Linear regression model\u001b[39m\u001b[39m\\\u001b[39;00m\n\u001b[0;32m      <a href='vscode-notebook-cell:/c%3A/Users/Usuario/OneDrive%20-%20ITSA/Documentos/GIT%20HUB%20CODIGOS/estructura%20de%20datos%201/lab3/Lab-Singularity/lab.ipynb#X46sZmlsZQ%3D%3D?line=4'>5</a>\u001b[0m \u001b[39m    // 2 for Logistic regression model\u001b[39m\u001b[39m\\\u001b[39;00m\n\u001b[0;32m      <a href='vscode-notebook-cell:/c%3A/Users/Usuario/OneDrive%20-%20ITSA/Documentos/GIT%20HUB%20CODIGOS/estructura%20de%20datos%201/lab3/Lab-Singularity/lab.ipynb#X46sZmlsZQ%3D%3D?line=5'>6</a>\u001b[0m \u001b[39m    // 3 for logistic regression DataFrame (with predicted values)\u001b[39m\u001b[39m\\\u001b[39;00m\n\u001b[0;32m      <a href='vscode-notebook-cell:/c%3A/Users/Usuario/OneDrive%20-%20ITSA/Documentos/GIT%20HUB%20CODIGOS/estructura%20de%20datos%201/lab3/Lab-Singularity/lab.ipynb#X46sZmlsZQ%3D%3D?line=6'>7</a>\u001b[0m \u001b[39m    // 4 for correlation matrix\u001b[39m\u001b[39m\"\u001b[39m)\n\u001b[1;32m----> <a href='vscode-notebook-cell:/c%3A/Users/Usuario/OneDrive%20-%20ITSA/Documentos/GIT%20HUB%20CODIGOS/estructura%20de%20datos%201/lab3/Lab-Singularity/lab.ipynb#X46sZmlsZQ%3D%3D?line=8'>9</a>\u001b[0m opt \u001b[39m=\u001b[39m \u001b[39mint\u001b[39;49m(\u001b[39minput\u001b[39;49m(\u001b[39mprint\u001b[39;49m(\u001b[39m\"\u001b[39;49m\u001b[39mDigite el número de su elección aquí: \u001b[39;49m\u001b[39m\"\u001b[39;49m)))\n\u001b[0;32m     <a href='vscode-notebook-cell:/c%3A/Users/Usuario/OneDrive%20-%20ITSA/Documentos/GIT%20HUB%20CODIGOS/estructura%20de%20datos%201/lab3/Lab-Singularity/lab.ipynb#X46sZmlsZQ%3D%3D?line=10'>11</a>\u001b[0m \u001b[39mif\u001b[39;00m opt \u001b[39m==\u001b[39m \u001b[39m1\u001b[39m:\n\u001b[0;32m     <a href='vscode-notebook-cell:/c%3A/Users/Usuario/OneDrive%20-%20ITSA/Documentos/GIT%20HUB%20CODIGOS/estructura%20de%20datos%201/lab3/Lab-Singularity/lab.ipynb#X46sZmlsZQ%3D%3D?line=11'>12</a>\u001b[0m     reg_ll\u001b[39m.\u001b[39mmodelRLinear()\n",
      "\u001b[1;31mValueError\u001b[0m: invalid literal for int() with base 10: ''"
     ]
    }
   ],
   "source": [
    "reg_ll = models()\n",
    "\n",
    "print(\"Seleccione que tipo de proceso desea:\\\n",
    "    // 1 for Linear regression model\\\n",
    "    // 2 for Logistic regression model\\\n",
    "    // 3 for logistic regression DataFrame (with predicted values)\\\n",
    "    // 4 for correlation matrix\")\n",
    "\n",
    "opt = int(input(print(\"Digite el número de su elección aquí: \")))\n",
    "\n",
    "if opt == 1:\n",
    "    reg_ll.modelRLinear()\n",
    "\n",
    "if opt == 2: \n",
    "    reg_ll.modeloRLogistic()\n",
    "\n",
    "if opt == 3:\n",
    "    reg_ll.dfReglog()\n",
    "    \n",
    "if opt == 4:\n",
    "    reg_ll.corrMatrix()"
   ]
  },
  {
   "cell_type": "markdown",
   "metadata": {},
   "source": [
    "###"
   ]
  }
 ],
 "metadata": {
  "kernelspec": {
   "display_name": "Python 3.9.12 ('base')",
   "language": "python",
   "name": "python3"
  },
  "language_info": {
   "codemirror_mode": {
    "name": "ipython",
    "version": 3
   },
   "file_extension": ".py",
   "mimetype": "text/x-python",
   "name": "python",
   "nbconvert_exporter": "python",
   "pygments_lexer": "ipython3",
   "version": "3.9.12"
  },
  "orig_nbformat": 4,
  "vscode": {
   "interpreter": {
    "hash": "e06ff7da33dc9620448857a90ad8b5f428f0d573d205a934d2841c8aee45ea32"
   }
  }
 },
 "nbformat": 4,
 "nbformat_minor": 2
}

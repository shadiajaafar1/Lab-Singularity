{
 "cells": [
  {
   "cell_type": "markdown",
   "metadata": {},
   "source": [
    "# LAB SINGULARITY - DENGUE"
   ]
  },
  {
   "cell_type": "markdown",
   "metadata": {},
   "source": [
    "## IMPORTS"
   ]
  },
  {
   "cell_type": "code",
   "execution_count": 1,
   "metadata": {},
   "outputs": [],
   "source": [
    "import pandas as pd\n",
    "import numpy as np\n",
    "import json as js\n",
    "import datetime\n",
    "import matplotlib.pyplot as plt\n",
    "import matplotlib.style\n",
    "import seaborn as sns\n",
    "\n",
    "# sklear imports\n",
    "from sklearn import metrics\n",
    "from sklearn import linear_model\n",
    "from sklearn.metrics import mean_squared_error, r2_score\n",
    "from sklearn.linear_model import LogisticRegression\n",
    "from sklearn.metrics import roc_auc_score\n",
    "from sklearn.metrics import roc_curve\n",
    "from sklearn.model_selection import train_test_split"
   ]
  },
  {
   "cell_type": "markdown",
   "metadata": {},
   "source": [
    "## COLUMNAS DE INTERES"
   ]
  },
  {
   "cell_type": "code",
   "execution_count": 2,
   "metadata": {},
   "outputs": [],
   "source": [
    "cols = [\"PAC_HOS\", \"SEXO\", \"Municipio_ocurrencia\",\\\n",
    "     \"CON_FIN\", \"FEC_NOT\", \"ANO\",\"EDAD\",\\\n",
    "     \"Departamento_ocurrencia\"] \n",
    "     \n",
    "datos = pd.read_excel(\"Dengue_todos.xlsx\")"
   ]
  },
  {
   "cell_type": "markdown",
   "metadata": {},
   "source": [
    "## CLEAN DATOS"
   ]
  },
  {
   "cell_type": "code",
   "execution_count": 3,
   "metadata": {},
   "outputs": [],
   "source": [
    "#datos.to_csv(\"df_clean.csv\" , index = False, sep = \",\", encoding='utf-8')\n",
    "df = pd.read_csv(\"df_clean.csv\")\n",
    "clean_df = df.drop(index = df.index[720714:720747])\n",
    "#clean_df[clean_df.isnull().any(axis=1)]\n",
    "##clean_df[\"Departamento_ocurrencia\"].unique()[:-1]\n",
    "data_1 = datos.fillna(1)\n",
    "numericos = data_1.select_dtypes(include = np.number).reset_index()"
   ]
  },
  {
   "cell_type": "markdown",
   "metadata": {},
   "source": [
    "## Correlation Matrix"
   ]
  },
  {
   "cell_type": "code",
   "execution_count": null,
   "metadata": {},
   "outputs": [],
   "source": [
    "corr = datos.corr()\n",
    "mapa_temp = corr.style.background_gradient(cmap='coolwarm').set_properties(**{'font-size': '0pt'}) # Temperature map without correlation\n",
    "mapa_temp_num = corr.style.background_gradient(cmap='coolwarm').set_precision(2) # Temperature map with correlation\n",
    "\n",
    "mapa_temp"
   ]
  },
  {
   "cell_type": "markdown",
   "metadata": {},
   "source": [
    "## CLASE NODO"
   ]
  },
  {
   "cell_type": "code",
   "execution_count": 5,
   "metadata": {},
   "outputs": [],
   "source": [
    "class Nodo_Dep:\n",
    "    def __init__(self, dpto_index, dpto_name,\\\n",
    "        next = None,prev = None):  \n",
    "\n",
    "        self.dpto_index = dpto_index  # department index  \n",
    "        self.dpto_name = dpto_name    # department name\n",
    "        #self.info = clean_df[clean_df[nom].str.contains(info, na = False)]\n",
    "        self.dpto_info = clean_df[clean_df[\"Departamento_ocurrencia\"] == dpto_name]      # dataframe with info regarding the departement\n",
    "        self.next = next\n",
    "        self.prev = prev"
   ]
  },
  {
   "cell_type": "markdown",
   "metadata": {},
   "source": [
    "## CLASE DOUBLE LINKED LIST"
   ]
  },
  {
   "cell_type": "code",
   "execution_count": 6,
   "metadata": {},
   "outputs": [],
   "source": [
    "class DoubleLinkedList: #constructor de la clase\n",
    "    def __init__(self):\n",
    "            self.head = None\n",
    "            self.tail = None\n",
    "\n",
    "    def AddNode(self,dpto_index, dpto_name): #metodo que agrega nodos a la lista\n",
    "        P = Nodo_Dep(dpto_index=dpto_index, \\\n",
    "            dpto_name=dpto_name)\n",
    "            \n",
    "        if (self.head == None):\n",
    "            self.head = P\n",
    "            self.tail = P \n",
    "        else:\n",
    "            self.tail.next = P\n",
    "            P.prev = self.tail\n",
    "            self.tail = P  \n",
    "        self.tail.next = self.head\n",
    "        self.head.prev = self.tail\n",
    "        \n",
    "    def Recorrido(self): \n",
    "        P = self.head\n",
    "        print(P.dpto_name , P.dpto_info)\n",
    "        #print(P.dpto_name, P.dpto_info[\"Departamento_ocurrencia\"].unique()) CONFIRMAR QUE DPTO NAME == DATO OCUR\n",
    "        P = P.prev\n",
    "        while(P != self.head):\n",
    "            print(P.dpto_name, P.dpto_info)\n",
    "            #print(P.dpto_name, P.dpto_info[\"Departamento_ocurrencia\"].unique())\n",
    "            P = P.prev\n",
    "\n",
    "\n",
    "    def NumHospitalizados(self,dpto_name):\n",
    "        dpto_info = clean_df[clean_df[\"Departamento_ocurrencia\"] ==dpto_name ]\n",
    "        dpto_search=dpto_info[dpto_info[\"PAC_HOS\"] == 1] # selecciona los pacientes Hospitalizados en el dpto de interes, (1): hospitalizado\n",
    "        #muertos = len(clean_df[dpto_info[\"PAC_HOS\"] == 1].axes[0])\n",
    "        Pac_Hos=len(dpto_search)\n",
    "        print(Pac_Hos)\n",
    "\n",
    "\n",
    "\n",
    "    def Search(self, dptoName): #busca un departamento por su nombre y verifica si se encuentra en la lista\n",
    "        P = self.head\n",
    "        Q = self.tail\n",
    "        sw=False\n",
    "        sw1= False\n",
    "        while(sw == False and sw1== False ):\n",
    "            if (P.dpto_name==dptoName or Q.dpto_name==dptoName):        \n",
    "                print(dptoName)\n",
    "                return dptoName #si lo encuentra retorna el nombre\n",
    "            elif (P==Q or P.next==Q or Q.prev == P ):\n",
    "                return False #sino retorna False\n",
    "            else:\n",
    "                P = P.next\n",
    "                Q = Q.prev\n",
    "\n",
    "    def num_hospitalizados(self,dptoName): #metodo que halla el numero de hospitalizados por departamento, recibe el nombre del departamento\n",
    "        \n",
    "        dpto_info = clean_df[clean_df[\"Departamento_ocurrencia\"] == dptoName] #filtra el data frame por el nombre del departamento seleccionado\n",
    "        dpto_search=dpto_info[dpto_info[\"PAC_HOS\"] == 1] # selecciona los pacientes Hospitalizados en el dpto de interes, (1): hospitalizado\n",
    "        #muertos = len(clean_df[dpto_info[\"PAC_HOS\"] == 1].axes[0])\n",
    "        Pac_Hos=len(dpto_search) #halla la cantidad\n",
    "        print(\"HOSPITALIZADOS: \", Pac_Hos)\n",
    "\n",
    "    def num_sexo(self,dptoName): #metodo que halla el numero de personas por el sexo\n",
    "        dpto_info = clean_df[clean_df[\"Departamento_ocurrencia\"] == dptoName] #filtra el data frame por el nombre del departamento seleccionado\n",
    "        dpto_searchM=dpto_info[dpto_info[\"SEXO\"] == \"M\"] # selecciona \"masculinos\" en el dpto de interes\n",
    "        SEXOM=len(dpto_searchM.axes[0]) #halla la cantidad\n",
    "        dpto_searchF=dpto_info[dpto_info[\"SEXO\"] == \"F\"] # selecciona \"femeninos\" en el dpto de interes\n",
    "        SEXOF=len(dpto_searchF.axes[0]) #halla la cantidad\n",
    "        print(\"MUJERES: \",  SEXOF)\n",
    "        print(\"HOMBRES: \",SEXOM)\n",
    "        list = [SEXOM, SEXOF]\n",
    "        plt.pie(list, labels = [\"M\", \"F\"], autopct = \"\")\n",
    "        plt.show()\n",
    "\n",
    "    def mes_casos(self, dptoName): #metodo que halla en que mes se registro el mayor numero de casos por departamento\n",
    "        dpto_interes = clean_df[clean_df[\"Departamento_ocurrencia\"] == dptoName] #filtra el data frame por el nombre del departamento seleccionado\n",
    "        fecha = dpto_interes.groupby(\"FEC_NOT\").value_counts().reset_index()\n",
    "        #Con_Final = dpto_interes.groupby(\"Municipio_ocurrencia\")[[\"FEC_NOT\"]].value_counts().reset_index()\n",
    "        fecha['MES'] = pd.to_datetime(fecha[\"FEC_NOT\"]).dt.month\n",
    "        FLista= fecha['MES'].value_counts().reset_index().values.tolist()[0]\n",
    "        #Con_Final['MES'].value_counts()\n",
    "        #fecha['MES'].strftime(%m)\n",
    "        print(\"Mes:\", FLista[0], \"Registro mayor numero de casos\")\n",
    "\n",
    "    def dia_casos(self, dptoName): #metodo que halla el dia en el que se registro el mayor numero de casos por departamento\n",
    "        dpto_interes = clean_df[clean_df[\"Departamento_ocurrencia\"] == dptoName]\n",
    "        fecha = dpto_interes.groupby(\"FEC_NOT\").value_counts().reset_index()\n",
    "        #Con_Final = dpto_interes.groupby(\"Municipio_ocurrencia\")[[\"FEC_NOT\"]].value_counts().reset_index()\n",
    "        fecha['DIA'] = pd.to_datetime(fecha[\"FEC_NOT\"]).dt.day\n",
    "        FLista= fecha['DIA'].value_counts().reset_index().values.tolist()[0]\n",
    "        #Con_Final['MES'].value_counts()\n",
    "        #fecha['MES'].strftime(%m)\n",
    "        print(\"Dia:\", FLista[0], \"Registro mayor numero de casos\")\n",
    "\n",
    "    def casos_municipio(self, dptoName): #metodo que halla el muncipio con mas casos en el departamento seleccionado\n",
    "        dpto_interes = clean_df[clean_df[\"Departamento_ocurrencia\"] == dptoName]#Dpto de interes\n",
    "        MasCasos_list = dpto_interes['Municipio_ocurrencia'].value_counts().reset_index().values.tolist()[0] #lista de municipio con mas registros\n",
    "        print(\"el municipio con mas registrados es:\", MasCasos_list[0], \"con \", MasCasos_list[1], \"casos\")\n",
    "\n",
    "    def muertos_municipio(self, dptoName): #metodo que halla el muninicipio con mas muertos del departaemento seleccionado\n",
    "        dpto_interes= clean_df[clean_df[\"Departamento_ocurrencia\"] == dptoName] #Dpto de interes\n",
    "        Con_Final = dpto_interes.groupby(\"Municipio_ocurrencia\")[[\"CON_FIN\"]].value_counts().reset_index() #agrupa municipio por columna de condicion final\n",
    "        MasMuertos_list =Con_Final[Con_Final[\"CON_FIN\"] == 2].sort_values(by=0, ascending=False).reset_index().values.tolist()[0]\n",
    "        #lista desendente de casos de muerte :2, [0]: posicion con mas muertos\n",
    "        Con_Fin = Con_Final[Con_Final[\"CON_FIN\"] == 2]\n",
    "        plt.bar(Con_Fin[\"Municipio_ocurrencia\"], Con_Fin[0])\n",
    "        plt.xlabel(\"Municipios\")\n",
    "        plt.ylabel(\"Cantidad de muertos\")\n",
    "        plt.title(\"Cantidad de muertos por municipios\")\n",
    "        plt.show()\n",
    "        print(\"El municipio mas muertos registrados es:\", MasMuertos_list[1], \".CANT:\", MasMuertos_list[3])\n",
    "        \n",
    "\n",
    "    \n"
   ]
  },
  {
   "cell_type": "markdown",
   "metadata": {},
   "source": [
    "## Models Class (Linear regression, Logistic regression)"
   ]
  },
  {
   "cell_type": "code",
   "execution_count": 7,
   "metadata": {},
   "outputs": [],
   "source": [
    "class models:\n",
    "    \n",
    "    def modelRLinear(self):\n",
    "        x = data_1[[\"EDAD\"]]\n",
    "        y = data_1[\"SEMANA\"]\n",
    "        # Split the data into training/testing sets\n",
    "        x_train = x[:-20]\n",
    "        x_test = x[-20:]\n",
    "\n",
    "        # Split the targets into training/testing sets\n",
    "        y_train = y[:-20]\n",
    "        y_test = y[-20:]\n",
    "\n",
    "        regr = linear_model.LinearRegression()\n",
    "\n",
    "        # Train the model using the training sets\n",
    "        regr.fit(x_train, y_train)\n",
    "\n",
    "        # Make predictions using the testing set\n",
    "        y_pred = regr.predict(x_test)\n",
    "\n",
    "        # The coefficients\n",
    "        print(\"Coefficients: \\n\", regr.coef_)\n",
    "        # The mean squared error\n",
    "        print(\"Mean squared error: %.2f\" % mean_squared_error(y_test, y_pred))\n",
    "        # The coefficient of determination: 1 is perfect prediction\n",
    "        print(\"Coefficient of determination: %.2f\" % r2_score(y_test, y_pred))\n",
    "\n",
    "        # Plot outputs\n",
    "        plt.scatter(x_test, y_test, color=\"black\")\n",
    "        plt.plot(x_test, y_pred, color=\"blue\", linewidth=3)\n",
    "\n",
    "        plt.xticks(())\n",
    "        plt.yticks(())\n",
    "\n",
    "        plt.show()\n",
    "    \n",
    "    def modeloRLogistic(self):\n",
    "\n",
    "        vari = [\"UNI_MED\",\"EDAD\",\"COD_DPTO_O\", \"COD_MUN_O\",\"PER_ETN\"] # Variables use for x in the Logistic Regression\n",
    "        x = numericos[vari]\n",
    "        y = numericos.GP_INDIGEN\n",
    "        clf = LogisticRegression()\n",
    "        \n",
    "        # split X and y into training and testing sets\n",
    "        x_train, x_test, y_train, y_test = train_test_split(x, y, test_size=0.25, random_state=16)\n",
    "\n",
    "        clf.fit(x_train,y_train)\n",
    "        score = clf.score(x_train, y_train)\n",
    "        y_pred = clf.predict(x_test)\n",
    "        \n",
    "        y_pred_proba = clf.predict_proba(x_test)[::,1]\n",
    "        fpr, tpr, _ = metrics.roc_curve(y_test,  y_pred_proba,pos_label= 2)\n",
    "        auc = metrics.roc_auc_score(y_test, y_pred_proba)\n",
    "        plt.plot(fpr,tpr,label=\"Data, auc=\"+str(auc))\n",
    "        plt.legend(loc=4)\n",
    "        plt.show()\n",
    "\n",
    "    def dfReglog(self):\n",
    "        vari = [\"UNI_MED\",\"EDAD\",\"COD_DPTO_O\", \"COD_MUN_O\",\"ESTRATO\"] # Variables use for x in the Logistic Regression\n",
    "        x = numericos[vari]\n",
    "        y = numericos.GP_INDIGEN\n",
    "        clf = LogisticRegression()\n",
    "\n",
    "        clf.fit(x,y)\n",
    "        y_proba = clf.predict_proba(x)\n",
    "        y_predict = clf.predict(x)\n",
    "\n",
    "        y_si_ind = [y_proba[i][0] for i in range(0,len(y_proba))]\n",
    "        y_no_ind = [y_proba[i][1] for i in range(0,len(y_proba))]\n",
    "        numericos[\"predict\"] = y_predict\n",
    "        numericos[\"No Ind\"] = y_no_ind\n",
    "        numericos[\"Ind\"] = y_si_ind\n",
    "        df_list = ['GP_INDIGEN','predict','Ind', 'No Ind']\n",
    "        numericos[df_list]\n",
    "        print(numericos[df_list])\n",
    "\n",
    "    def corrMatrix(self):\n",
    "        corr = datos.corr()\n",
    "\n",
    "        plt.matshow(corr)\n",
    "\n",
    "        # Temperature map with correlation\n",
    "        # mapa_temp_num = corr.style.background_gradient(cmap='coolwarm').set_precision(2) \n",
    "\n",
    "        # Temperature map without correlation\n",
    "        # mapa_temp = corr.style.background_gradient(cmap='coolwarm').set_properties(**{'font-size': '0pt'}) \n"
   ]
  },
  {
   "cell_type": "markdown",
   "metadata": {},
   "source": [
    "## PRUEBA METODOS"
   ]
  },
  {
   "cell_type": "markdown",
   "metadata": {},
   "source": [
    "### MUNICIPIOS"
   ]
  },
  {
   "cell_type": "markdown",
   "metadata": {},
   "source": [
    "#### MAYOR NUMERO DE CASOS"
   ]
  },
  {
   "cell_type": "code",
   "execution_count": null,
   "metadata": {},
   "outputs": [],
   "source": [
    "dpto_interes = clean_df[clean_df[\"Departamento_ocurrencia\"] == \"ATLANTICO\"]#Dpto de interes\n",
    "MasCasos_list=dpto_interes['Municipio_ocurrencia'].value_counts().reset_index().values.tolist()[0] #lista de municipio con mas registros\n",
    "\n",
    "print(\"el municipio con mas registrados es:\", MasCasos_list[0], \"con \", MasCasos_list[1], \"casos\")\n",
    "MasCasos_list"
   ]
  },
  {
   "cell_type": "markdown",
   "metadata": {},
   "source": [
    "#### MAYOR NUMERO DE MUERTOS"
   ]
  },
  {
   "cell_type": "code",
   "execution_count": null,
   "metadata": {},
   "outputs": [],
   "source": [
    "dpto_interes= clean_df[clean_df[\"Departamento_ocurrencia\"] == \"ATLANTICO\"] #Dpto de interes\n",
    "Con_Final = dpto_interes.groupby(\"Municipio_ocurrencia\")[[\"CON_FIN\"]].value_counts().reset_index() #agrupa municipio por columan de condicion final\n",
    "MasMuertos_list =Con_Final[Con_Final[\"CON_FIN\"] == 2].sort_values(by=0, ascending=False).reset_index().values.tolist()[0]\n",
    " #lista desendente de casos de muerte :2, [0]: pioscion con mas muertos\n",
    "print(\"El municipio mas muertos registrados es:\", MasMuertos_list[1], \".CANT:\", MasMuertos_list[3] )\n",
    "\n",
    "\n",
    "Con_Fin = Con_Final[Con_Final[\"CON_FIN\"] == 2]\n",
    "\n",
    "plt.bar(Con_Fin[\"Municipio_ocurrencia\"], Con_Fin[0])\n",
    "plt.show()\n",
    "\n"
   ]
  },
  {
   "cell_type": "markdown",
   "metadata": {},
   "source": [
    "### DEPARTAMENTO"
   ]
  },
  {
   "cell_type": "markdown",
   "metadata": {},
   "source": [
    "#### NUMERO DE HOSPITALIZADOS"
   ]
  },
  {
   "cell_type": "code",
   "execution_count": null,
   "metadata": {},
   "outputs": [],
   "source": [
    "dpto_info = clean_df[clean_df[\"Departamento_ocurrencia\"] == \"ATLANTICO\"]\n",
    "dpto_search=dpto_info[dpto_info[\"PAC_HOS\"] == 1] # selecciona los pacientes Hospitalizados en el dpto de interes, (1): hospitalizado\n",
    "#muertos = len(clean_df[dpto_info[\"PAC_HOS\"] == 1].axes[0])\n",
    "Pac_Hos=len(dpto_search)\n",
    "print(Pac_Hos)\n",
    "\n",
    "#df_list = dpto_search.values.tolist()\n",
    "#print(len(df_list))\n",
    "#print(df_list)"
   ]
  },
  {
   "cell_type": "markdown",
   "metadata": {},
   "source": [
    "#### CANTIDAD DE CASOS POR SEXO"
   ]
  },
  {
   "cell_type": "code",
   "execution_count": null,
   "metadata": {},
   "outputs": [],
   "source": [
    "dpto_info = clean_df[clean_df[\"Departamento_ocurrencia\"] == \"VICHADA\"]\n",
    "dpto_searchM=dpto_info[dpto_info[\"SEXO\"] == \"M\"] # selecciona l\"masculinos\" en el dpto de interes, (1): hospitalizado\n",
    "SEXOM=len(dpto_searchM.axes[0])\n",
    "dpto_searchF=dpto_info[dpto_info[\"SEXO\"] == \"F\"] # selecciona \"femeninos\" en el dpto de interes\n",
    "SEXOF=len(dpto_searchF.axes[0])\n",
    "print(\"numero de mujeres: \", SEXOF)\n",
    "print(\"numero de hombres: \",SEXOM)\n",
    "list = [SEXOM, SEXOF]\n"
   ]
  },
  {
   "cell_type": "markdown",
   "metadata": {},
   "source": [
    "### TEMPORALES"
   ]
  },
  {
   "cell_type": "markdown",
   "metadata": {},
   "source": [
    "#### MES CON MAS CASOS"
   ]
  },
  {
   "cell_type": "code",
   "execution_count": null,
   "metadata": {},
   "outputs": [],
   "source": [
    "dpto_interes = clean_df[clean_df[\"Departamento_ocurrencia\"] == \"ATLANTICO\"]\n",
    "fecha = dpto_interes.groupby(\"FEC_NOT\").value_counts().reset_index()\n",
    "#Con_Final = dpto_interes.groupby(\"Municipio_ocurrencia\")[[\"FEC_NOT\"]].value_counts().reset_index()\n",
    "fecha['MES'] = pd.to_datetime(fecha[\"FEC_NOT\"]).dt.month\n",
    "FLista= fecha['MES'].value_counts().reset_index().values.tolist()[0]\n",
    "#Con_Final['MES'].value_counts()\n",
    "#fecha['MES'].strftime(%m)\n",
    "\n",
    "print(\"Mes:\", FLista[0], \"Registro mayor numero de casos\")"
   ]
  },
  {
   "cell_type": "markdown",
   "metadata": {},
   "source": [
    "#### DIA CON MAS CASOS"
   ]
  },
  {
   "cell_type": "code",
   "execution_count": null,
   "metadata": {},
   "outputs": [],
   "source": [
    "\n",
    "dpto_interes = clean_df[clean_df[\"Departamento_ocurrencia\"] == \"ATLANTICO\"]\n",
    "fecha = dpto_interes.groupby(\"FEC_NOT\").value_counts().reset_index()\n",
    "#Con_Final = dpto_interes.groupby(\"Municipio_ocurrencia\")[[\"FEC_NOT\"]].value_counts().reset_index()\n",
    "fecha['DIA'] = pd.to_datetime(fecha[\"FEC_NOT\"]).dt.day\n",
    "FLista= fecha['DIA'].value_counts().reset_index().values.tolist()[0]\n",
    "#Con_Final['MES'].value_counts()\n",
    "#fecha['MES'].strftime(%m)\n",
    "\n",
    "print(\"Dia:\", FLista[0], \"Registro mayor numero de casos\")"
   ]
  },
  {
   "cell_type": "markdown",
   "metadata": {},
   "source": [
    "### CODE TO RUN"
   ]
  },
  {
   "cell_type": "code",
   "execution_count": null,
   "metadata": {},
   "outputs": [],
   "source": [
    "lista_d = DoubleLinkedList()\n",
    "\n",
    "for i,dpto in enumerate(clean_df[\"Departamento_ocurrencia\"].unique()[:-1]): # [\"Departamento_ocurrencia\"].unique()[:-1] : hasta la penultima \n",
    "    #print(dpto)\n",
    "    lista_d.AddNode(i, dpto) #i : dpto index , dpto: dpto name\n",
    "\n",
    "fin = True\n",
    "print(\"---------- BIENVENIDO AL CENTRO DE CONSULTAS SOBRE EL DENGUE ----------\")\n",
    "print(\"Ingresa tu nombre:\")\n",
    "print()\n",
    "name = input()\n",
    "print(\"Hola \", name, \", que deseas consultar?\")\n",
    "\n",
    "while fin:\n",
    "    print(\"Escoge una opción: 1) Consultas por departamento 2) Consultas por municipio\\\n",
    "         3) Consultas temporales 4) Modelos 5) Salir\")\n",
    "    print()\n",
    "    op = input()\n",
    "    \n",
    "    while (op != \"1\" and op != \"2\" and op != \"3\" and op != \"4\" and op != \"5\"):\n",
    "        print(\"Recuerda que las opciones son del 1 al 5\")\n",
    "        print(\"Escoge una opción: 1) Consultas por departamento 2) Consultas por municipio\\\n",
    "             3) Consultas temporales 4) Modelos 5) Salir\")\n",
    "        print()\n",
    "        op = input()\n",
    "        \n",
    "    if (op == \"1\"):\n",
    "        if (fin):\n",
    "            print(\"¿Que departamento desea consultar?\")\n",
    "            print()\n",
    "            dpto = input()\n",
    "            while(not(lista_d.Search(dpto))):\n",
    "                print(\"Departamento no encontrado\")\n",
    "                print()\n",
    "                dpto = input()\n",
    "        print(\".......... CONSULTAS POR DEPARTAMENTO ..........\")\n",
    "        print(\"El numero de hospitalizados en el departamento \", dpto)\n",
    "        lista_d.num_hospitalizados(dpto)\n",
    "        print(\"El numero de hospitalizados por sexo fue: \")\n",
    "        lista_d.num_sexo(dpto)\n",
    "        \n",
    "    elif(op == \"2\"):\n",
    "        if (fin):\n",
    "            print(\"¿Que departamento desea consultar?\")\n",
    "            print()\n",
    "            dpto = input()\n",
    "            while(not(lista_d.Search(dpto))):\n",
    "                print(\"Departamento no encontrado\")\n",
    "                print()\n",
    "                dpto = input()\n",
    "        print(\".......... CONSULTAS POR MUNICIPIO ..........\")\n",
    "        lista_d.casos_municipio(dpto)\n",
    "        lista_d.muertos_municipio(dpto)\n",
    "        \n",
    "    elif(op == \"3\"):\n",
    "        if (fin):\n",
    "            print(\"¿Que departamento desea consultar?\")\n",
    "            print()\n",
    "            dpto = input()\n",
    "            while(not(lista_d.Search(dpto))):\n",
    "                print(\"Departamento no encontrado\")\n",
    "                print()\n",
    "                dpto = input()\n",
    "        print(\".......... CONSULTAS TEMPORALES ..........\")\n",
    "        lista_d.mes_casos(dpto)\n",
    "        lista_d.dia_casos(dpto)\n",
    "    \n",
    "    elif(op == \"4\"):\n",
    "        reg_ll = models()\n",
    "        \n",
    "        print(\"Seleccione que tipo de proceso desea:\\\n",
    "            // 1 for Linear regression model\\\n",
    "            // 2 for Logistic regression model\\\n",
    "            // 3 for logistic regression DataFrame (with predicted values)\\\n",
    "            // 4 for correlation matrix\")\n",
    "\n",
    "        opt = int(input(print(\"Digite el número de su elección aquí: \")))\n",
    "\n",
    "        if opt == 1:\n",
    "            print(\".......... LINEAR REGRESSION MODEL ..........\")\n",
    "            reg_ll.modelRLinear()\n",
    "\n",
    "        if opt == 2:\n",
    "            print(\".......... LOGISTIC REGRESSION MODEL ..........\")\n",
    "            reg_ll.modeloRLogistic()\n",
    "\n",
    "        if opt == 3:\n",
    "            print(\".......... LOGISTIC REGRESSION DATAFRAME ..........\")\n",
    "            reg_ll.dfReglog()\n",
    "            \n",
    "        if opt == 4:\n",
    "            print(\".......... CORRELATION MATRIX ..........\")\n",
    "            reg_ll.corrMatrix()\n",
    "                \n",
    "    elif(op == \"5\"): #Salir\n",
    "        print(\"---------- GRACIAS POR USAR NUESTROS SERVICIOS, VUELVA PRONTO :)    (POR FAVOR DA LA CLASE DE ESTRUCTURA 2!!!... se te quiere ATT: Marianita (mentira fue juan y shadia))-----------\")\n",
    "        fin = False\n"
   ]
  },
  {
   "cell_type": "markdown",
   "metadata": {},
   "source": [
    "## RUN REGRESSION MODELS"
   ]
  },
  {
   "cell_type": "code",
   "execution_count": null,
   "metadata": {},
   "outputs": [],
   "source": [
    "reg_ll = models()\n",
    "\n",
    "print(\"Seleccione que tipo de proceso desea:\\\n",
    "    // 1 for Linear regression model\\\n",
    "    // 2 for Logistic regression model\\\n",
    "    // 3 for logistic regression DataFrame (with predicted values)\\\n",
    "    // 4 for correlation matrix\")\n",
    "\n",
    "opt = int(input(print(\"Digite el número de su elección aquí: \")))\n",
    "\n",
    "if opt == 1:\n",
    "    reg_ll.modelRLinear()\n",
    "\n",
    "if opt == 2: \n",
    "    reg_ll.modeloRLogistic()\n",
    "\n",
    "if opt == 3:\n",
    "    reg_ll.dfReglog()\n",
    "    \n",
    "if opt == 4:\n",
    "    reg_ll.corrMatrix()"
   ]
  },
  {
   "cell_type": "markdown",
   "metadata": {},
   "source": [
    "###"
   ]
  }
 ],
 "metadata": {
  "kernelspec": {
   "display_name": "Python 3.9.13 ('myenv')",
   "language": "python",
   "name": "python3"
  },
  "language_info": {
   "codemirror_mode": {
    "name": "ipython",
    "version": 3
   },
   "file_extension": ".py",
   "mimetype": "text/x-python",
   "name": "python",
   "nbconvert_exporter": "python",
   "pygments_lexer": "ipython3",
   "version": "3.9.13"
  },
  "orig_nbformat": 4,
  "vscode": {
   "interpreter": {
    "hash": "947a109a97498d56f0d210cd9142ded6290ca209d74b865fd261b1bf2bbd0c90"
   }
  }
 },
 "nbformat": 4,
 "nbformat_minor": 2
}

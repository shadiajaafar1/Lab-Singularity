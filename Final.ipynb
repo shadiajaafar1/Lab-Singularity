{
 "cells": [
  {
   "cell_type": "markdown",
   "metadata": {},
   "source": [
    "# SINGULARITY"
   ]
  },
  {
   "cell_type": "markdown",
   "metadata": {},
   "source": [
    "## Imports"
   ]
  },
  {
   "cell_type": "code",
<<<<<<< HEAD
   "execution_count": 127,
=======
   "execution_count": 61,
>>>>>>> b749505d0dc4e7dbfca47c64f7d9fcb1abee5c43
   "metadata": {},
   "outputs": [],
   "source": [
    "import pandas as pd\n",
    "import numpy as np\n",
<<<<<<< HEAD
    "import json as js\n",
    "import datetime"
=======
    "import json as jso\n",
    "import matplotlib.pyplot as plt"
>>>>>>> b749505d0dc4e7dbfca47c64f7d9fcb1abee5c43
   ]
  },
  {
   "cell_type": "markdown",
   "metadata": {},
   "source": [
    "## Columnas de Interes"
   ]
  },
  {
   "cell_type": "code",
<<<<<<< HEAD
   "execution_count": 106,
=======
   "execution_count": 34,
>>>>>>> b749505d0dc4e7dbfca47c64f7d9fcb1abee5c43
   "metadata": {},
   "outputs": [],
   "source": [
    "cols = [\"PAC_HOS\", \"SEXO\", \"Municipio_ocurrencia\", \"CON_FIN\", \"FEC_NOT\", \"ANO\",\"EDAD\", \"Departamento_ocurrencia\"] \n",
    "#datos = pd.read_excel(\"Dengue_todos.xlsx\", usecols=cols)"
   ]
  },
  {
   "cell_type": "markdown",
   "metadata": {},
   "source": [
    "## Clean Datos"
   ]
  },
  {
   "cell_type": "code",
<<<<<<< HEAD
   "execution_count": 107,
=======
   "execution_count": 35,
>>>>>>> b749505d0dc4e7dbfca47c64f7d9fcb1abee5c43
   "metadata": {},
   "outputs": [],
   "source": [
    "#datos.to_csv(\"df_clean.csv\" , index = False, sep = \",\", encoding='utf-8')\n",
    "df = pd.read_csv(\"df_clean.csv\")\n",
    "\n",
    "clean_df = df.drop(index = df.index[720714:720747])\n",
    "#clean_df[clean_df.isnull().any(axis=1)]\n",
    "##clean_df[\"Departamento_ocurrencia\"].unique()[:-1]"
   ]
  },
  {
   "cell_type": "markdown",
   "metadata": {},
   "source": [
    "## Clase Nodo"
   ]
  },
  {
   "cell_type": "code",
<<<<<<< HEAD
   "execution_count": 108,
=======
   "execution_count": 36,
>>>>>>> b749505d0dc4e7dbfca47c64f7d9fcb1abee5c43
   "metadata": {},
   "outputs": [],
   "source": [
    "class Nodo_Dep:\n",
    "    def __init__(self, dpto_index, dpto_name,\\\n",
    "        next = None,prev = None):  \n",
    "\n",
    "        self.dpto_index = dpto_index  # department index  \n",
    "        self.dpto_name = dpto_name    # department name\n",
    "        #self.info = clean_df[clean_df[nom].str.contains(info, na = False)]\n",
    "        self.dpto_info = clean_df[clean_df[\"Departamento_ocurrencia\"] == dpto_name]      # dataframe with info regarding the departement\n",
    "        #self.model = model\n",
    "        self.next = next\n",
    "        self.prev = prev\n",
    "        \n"
   ]
  },
  {
   "cell_type": "markdown",
   "metadata": {},
   "source": [
    "## Clase DoubleLinkedList"
   ]
  },
  {
   "cell_type": "code",
<<<<<<< HEAD
   "execution_count": 109,
=======
   "execution_count": 37,
>>>>>>> b749505d0dc4e7dbfca47c64f7d9fcb1abee5c43
   "metadata": {},
   "outputs": [],
   "source": [
    "class DoubleLinkedList:\n",
    "    \n",
    "    def __init__(self):\n",
    "        self.head = None\n",
    "        self.tail = None\n",
    "\n",
    "    def AddNode(self,dpto_index, dpto_name):\n",
    "        P = Nodo_Dep(dpto_index=dpto_index, dpto_name=dpto_name)\n",
    "        if (self.head == None):\n",
    "            self.head = P\n",
    "            self.tail = P \n",
    "        else:\n",
    "            self.tail.next = P\n",
    "            P.prev = self.tail\n",
    "            self.tail = P  \n",
    "        self.tail.next = self.head\n",
    "        self.head.prev = self.tail\n",
    "      \n",
    "    def Recorrido(self):\n",
    "        P = self.head\n",
    "        print(P.dpto_name , P.dpto_info)\n",
    "        #print(P.dpto_name, P.dpto_info[\"Departamento_ocurrencia\"].unique()) CONFIRMAR QUE DPTO NAME == DATO OCUR\n",
    "        P = P.prev\n",
    "        while(P != self.head):\n",
    "            print(P.dpto_name, P.dpto_info)\n",
    "            #print(P.dpto_name, P.dpto_info[\"Departamento_ocurrencia\"].unique())\n",
    "            P = P.prev\n",
    "    \n",
    "\n",
    "\n",
    "    def NumHospitalizados(self,dpto_name):\n",
    "        dpto_info = clean_df[clean_df[\"Departamento_ocurrencia\"] ==dpto_name ]\n",
    "        dpto_search=dpto_info[dpto_info[\"PAC_HOS\"] == 1] # selecciona los pacientes Hospitalizados en el dpto de interes, (1): hospitalizado\n",
    "        #muertos = len(clean_df[dpto_info[\"PAC_HOS\"] == 1].axes[0])\n",
    "        Pac_Hos=len(dpto_search)\n",
    "        print(Pac_Hos)\n",
    "    \n",
    "\n",
    "    \n",
    "    def Search(self, dptoName):\n",
    "        P = self.head\n",
    "        Q = self.tail\n",
    "        sw=False\n",
    "        sw1= False\n",
    "        while(sw == False and sw1== False ):\n",
    "            if (P.dpto_name==dptoName or Q.dpto_name==dptoName):        \n",
    "                print(dptoName)\n",
    "                return dptoName \n",
    "            elif (P==Q or P.next==Q or Q.prev == P ):\n",
    "                return False\n",
    "            else:\n",
    "                P = P.next\n",
    "                Q = Q.prev\n",
    "\n",
    "    def num_hospitalizados(self,dptoName):\n",
    "        \n",
    "        dpto_info = clean_df[clean_df[\"Departamento_ocurrencia\"] == dptoName]\n",
    "        dpto_search=dpto_info[dpto_info[\"PAC_HOS\"] == 1] # selecciona los pacientes Hospitalizados en el dpto de interes, (1): hospitalizado\n",
    "        #muertos = len(clean_df[dpto_info[\"PAC_HOS\"] == 1].axes[0])\n",
    "        Pac_Hos=len(dpto_search)\n",
    "        print(\"HOSPITALIZADOS: \", Pac_Hos)\n",
    "    \n",
    "    def num_sexo(self,dptoName):\n",
    "        dpto_info = clean_df[clean_df[\"Departamento_ocurrencia\"] == dptoName]\n",
    "        dpto_searchM=dpto_info[dpto_info[\"SEXO\"] == \"M\"] # selecciona l\"masculinos\" en el dpto de interes, (1): hospitalizado\n",
    "        SEXOM=len(dpto_searchM.axes[0])\n",
    "        dpto_searchF=dpto_info[dpto_info[\"SEXO\"] == \"F\"] # selecciona \"femeninos\" en el dpto de interes\n",
    "        SEXOF=len(dpto_searchF.axes[0])\n",
    "        print(\"MUJERES: \",  SEXOF)\n",
    "        print(\"HOMBRES: \",SEXOM)\n",
    "        \n",
    "    def casos_municipio(self, dptoName):\n",
    "        dpto_interes = clean_df[clean_df[\"Departamento_ocurrencia\"] == dptoName]#Dpto de interes\n",
    "        MasCasos_list = dpto_interes['Municipio_ocurrencia'].value_counts().reset_index().values.tolist()[0] #lista de municipio con mas registros\n",
    "        print(\"el municipio con mas registrados es:\", MasCasos_list[0], \"con \", MasCasos_list[1], \"casos\")\n",
    "    \n",
    "    def muertos_municipio(self, dptoName):\n",
    "        dpto_interes= clean_df[clean_df[\"Departamento_ocurrencia\"] == dptoName] #Dpto de interes\n",
    "        Con_Final = dpto_interes.groupby(\"Municipio_ocurrencia\")[[\"CON_FIN\"]].value_counts().reset_index() #agrupa municipio por columan de condicion final\n",
    "        MasMuertos_list =Con_Final[Con_Final[\"CON_FIN\"] == 2].sort_values(by=0, ascending=False).reset_index().values.tolist()[0]\n",
    "        #lista desendente de casos de muerte :2, [0]: pioscion con mas muertos\n",
    "        print(\"El municipio mas muertos registrados es:\", MasMuertos_list[1], \".CANT:\", MasMuertos_list[3] )\n",
    "\n",
    "\n"
   ]
  },
  {
   "cell_type": "markdown",
   "metadata": {},
   "source": [
    "## Municipios "
   ]
  },
  {
   "cell_type": "markdown",
   "metadata": {},
   "source": [
    "#### mas casos "
   ]
  },
  {
   "cell_type": "code",
<<<<<<< HEAD
   "execution_count": 128,
=======
   "execution_count": 38,
>>>>>>> b749505d0dc4e7dbfca47c64f7d9fcb1abee5c43
   "metadata": {},
   "outputs": [
    {
     "name": "stdout",
     "output_type": "stream",
     "text": [
<<<<<<< HEAD
      "el municipio con mas registrados es: BARRANQUILLA con  14971 casos\n"
=======
      "el municipio con mas registrados es: PUERTO CARREÑO con  670 casos\n"
>>>>>>> b749505d0dc4e7dbfca47c64f7d9fcb1abee5c43
     ]
    },
    {
     "data": {
      "text/plain": [
       "['BARRANQUILLA', 14971]"
      ]
     },
     "execution_count": 128,
     "metadata": {},
     "output_type": "execute_result"
    }
   ],
   "source": [
    "dpto_interes = clean_df[clean_df[\"Departamento_ocurrencia\"] == \"ATLANTICO\"]#Dpto de interes\n",
<<<<<<< HEAD
    "MasCasos_list=dpto_interes['Municipio_ocurrencia'].value_counts().reset_index().values.tolist()[0] #lista de municipio con mas registros\n",
    "\n",
    "print(\"el municipio con mas registrados es:\", MasCasos_list[0], \"con \", MasCasos_list[1], \"casos\")\n",
    "MasCasos_list"
=======
    "MasCasos_list = dpto_interes['Municipio_ocurrencia'].value_counts().reset_index().values.tolist()[0] #lista de municipio con mas registros\n",
    "print(\"el municipio con mas registrados es:\", MasCasos_list[0], \"con \", MasCasos_list[1], \"casos\")\n"
>>>>>>> b749505d0dc4e7dbfca47c64f7d9fcb1abee5c43
   ]
  },
  {
   "cell_type": "markdown",
   "metadata": {},
   "source": [
    "#### mas muertos"
   ]
  },
  {
   "cell_type": "code",
<<<<<<< HEAD
   "execution_count": 111,
=======
   "execution_count": 39,
>>>>>>> b749505d0dc4e7dbfca47c64f7d9fcb1abee5c43
   "metadata": {},
   "outputs": [
    {
     "name": "stdout",
     "output_type": "stream",
     "text": [
      "El municipio mas muertos registrados es: * SANTANDER. MUNICIPIO DESCONOCIDO .CANT: 1\n"
     ]
    }
   ],
   "source": [
    "dpto_interes= clean_df[clean_df[\"Departamento_ocurrencia\"] == \"SANTANDER\"] #Dpto de interes\n",
    "Con_Final = dpto_interes.groupby(\"Municipio_ocurrencia\")[[\"CON_FIN\"]].value_counts().reset_index() #agrupa municipio por columan de condicion final\n",
    "MasMuertos_list =Con_Final[Con_Final[\"CON_FIN\"] == 2].sort_values(by=0, ascending=False).reset_index().values.tolist()[0]\n",
    " #lista desendente de casos de muerte :2, [0]: pioscion con mas muertos\n",
    "print(\"El municipio mas muertos registrados es:\", MasMuertos_list[1], \".CANT:\", MasMuertos_list[3] )"
   ]
  },
  {
   "cell_type": "markdown",
   "metadata": {},
   "source": [
    "## Departamento"
   ]
  },
  {
   "cell_type": "markdown",
   "metadata": {},
   "source": [
    "### numero de Hospitalizados "
   ]
  },
  {
   "cell_type": "code",
<<<<<<< HEAD
   "execution_count": 145,
=======
   "execution_count": 40,
>>>>>>> b749505d0dc4e7dbfca47c64f7d9fcb1abee5c43
   "metadata": {},
   "outputs": [
    {
     "name": "stdout",
     "output_type": "stream",
     "text": [
      "12333\n"
     ]
    }
   ],
   "source": [
    "dpto_info = clean_df[clean_df[\"Departamento_ocurrencia\"] == \"ATLANTICO\"]\n",
    "dpto_search=dpto_info[dpto_info[\"PAC_HOS\"] == 1] # selecciona los pacientes Hospitalizados en el dpto de interes, (1): hospitalizado\n",
    "#muertos = len(clean_df[dpto_info[\"PAC_HOS\"] == 1].axes[0])\n",
    "Pac_Hos=len(dpto_search)\n",
    "print(Pac_Hos)\n",
    "\n",
    "#df_list = dpto_search.values.tolist()\n",
    "#print(len(df_list))\n",
    "#print(df_list)\n"
   ]
  },
  {
   "cell_type": "markdown",
   "metadata": {},
   "source": [
    "#### Mes con mas Casos"
   ]
  },
  {
   "cell_type": "code",
   "execution_count": 154,
   "metadata": {},
   "outputs": [
    {
     "name": "stdout",
     "output_type": "stream",
     "text": [
      "Mes: 1 Registro mayor numero de casos\n"
     ]
    }
   ],
   "source": [
    "dpto_interes = clean_df[clean_df[\"Departamento_ocurrencia\"] == \"ATLANTICO\"]\n",
    "fecha = dpto_interes.groupby(\"FEC_NOT\").value_counts().reset_index()\n",
    "#Con_Final = dpto_interes.groupby(\"Municipio_ocurrencia\")[[\"FEC_NOT\"]].value_counts().reset_index()\n",
    "fecha['MES'] = pd.to_datetime(fecha[\"FEC_NOT\"]).dt.month\n",
    "FLista= fecha['MES'].value_counts().reset_index().values.tolist()[0]\n",
    "#Con_Final['MES'].value_counts()\n",
    "#fecha['MES'].strftime(%m)\n",
    "\n",
    "print(\"Mes:\", FLista[0], \"Registro mayor numero de casos\")"
   ]
  },
  {
   "cell_type": "markdown",
   "metadata": {},
   "source": [
    "#### Dia con mas casos"
   ]
  },
  {
   "cell_type": "code",
   "execution_count": 158,
   "metadata": {},
   "outputs": [
    {
     "name": "stdout",
     "output_type": "stream",
     "text": [
      "Dia: 4 Registro mayor numero de casos\n"
     ]
    }
   ],
   "source": [
    "dpto_interes = clean_df[clean_df[\"Departamento_ocurrencia\"] == \"ATLANTICO\"]\n",
    "fecha = dpto_interes.groupby(\"FEC_NOT\").value_counts().reset_index()\n",
    "#Con_Final = dpto_interes.groupby(\"Municipio_ocurrencia\")[[\"FEC_NOT\"]].value_counts().reset_index()\n",
    "fecha['DIA'] = pd.to_datetime(fecha[\"FEC_NOT\"]).dt.day\n",
    "FLista= fecha['DIA'].value_counts().reset_index().values.tolist()[0]\n",
    "#Con_Final['MES'].value_counts()\n",
    "#fecha['MES'].strftime(%m)\n",
    "\n",
    "\n",
    "print(\"Dia:\", FLista[0], \"Registro mayor numero de casos\")\n"
   ]
  },
  {
   "cell_type": "markdown",
   "metadata": {},
   "source": [
    "### numero por Sexo"
   ]
  },
  {
   "cell_type": "code",
<<<<<<< HEAD
   "execution_count": null,
=======
   "execution_count": 62,
>>>>>>> b749505d0dc4e7dbfca47c64f7d9fcb1abee5c43
   "metadata": {},
   "outputs": [
    {
     "name": "stdout",
     "output_type": "stream",
     "text": [
      "numero de mujeres:  4813\n",
      "numero de hombres:  5678\n"
     ]
    },
    {
     "data": {
      "image/png": "iVBORw0KGgoAAAANSUhEUgAAAOcAAADnCAYAAADl9EEgAAAAOXRFWHRTb2Z0d2FyZQBNYXRwbG90bGliIHZlcnNpb24zLjUuMSwgaHR0cHM6Ly9tYXRwbG90bGliLm9yZy/YYfK9AAAACXBIWXMAAAsTAAALEwEAmpwYAAARIklEQVR4nO3de7QV5X3G8e/sDQgibolKiEEYRIRj4/0aLxjbmES3sahQTbOMJia2TZqVizWOaZqOsSa7sTEXY6rNRas2ahKMdWXqJbHpwQteUANqD4jCFkVBEmGQ+4Gz+8ds4paCnHPYZ37vzDyftfaCs5byPmet8+x39nvmfcdrNBqIiHtK1gFEZNtUThFHqZwijlI5RRylcoo4SuUUcZTKKeIolVPEUSqniKNUThFHqZwijlI5RRylcoo4SuUUcZTKKeIoldOY53kNz/Nubvl6kOd5yz3P+5VlLrGnctpbA7zH87xhza9PAZYY5hFHqJxuuBuoNv/+EeBWwyziCJXTDbcB53qeNxQ4GHjUOI84QOV0QKPRmAv4JLPmf9mmEVcMsg4gf3QX8C/A+4A9baOIC1ROd/wEiBuNxtOe573POIs4QOV0RKPReBn4rnUOcYenc2tF3KQFIRFHqZwijlI5RRylBSGH+UFUJvn95zhg3+ZrDPBOYCgwpOU1eKuvS8AKYHnz9VrL37d8vQxYVK9VN6X1PUnvaUHIEX4Q7QNMAY4EJgEHAONJSjeQ1gPPAE+1vObWa9W1Azyu7IDKacQPov1JyjgFOBHYzzbRW2wGniMp6pPAb4Gn6rWqflhSpHKmxA+ifYEzeLOM77JN1GdLgXtJbtK/t16rrrSNk38q5wDyg2gkMA34KEkpPdtEbdMN/DcwA7izXqsuN86TSypnm/lBNBQ4naSQp5EszuTZZmAmcD0wQ4tL7aNytokfRCcB5wNnARXjOFZeAa4D/q1eqy6zDpN1KudO8IPII/kc+WXgaOM4LtkI/By4pl6ram9qP6mc/eAHUQk4B7gMOMg4juseB64Bbq/Xqhutw2SJytkHfhANBs4DAmCicZysWQRcVq9Vb7cOkhUqZy/4QTQEuAi4BBhrHCfrHgEurteqD1sHcZ3KuQN+EH0Q+B7JHTvSPr8ALq3Xqgutg7hK5dwOP4h84NvAVNskubYRuBa4ol6rrrAO4xqVcyt+EA0CLgb+ERi2g/9c2mMFySz6Q+sgLlE5W/hBdBjwY+Aw6ywFdRfwSd1xlFA5+eMq7OUkCz7aRmdrGfDxeq16t3UQa4UvZ3Or1s+A462zyFtcC1xSr1XXWQexUuhyNm+5u51k87K4pwv4aL1Wfco6iIXCHlPiB9HfAb9BxXRZB/CIH0Rfsg5ioXAzpx9EI4AbgLOts0if3EbyWXS9dZC0FKqcfhAdCNxBcgyIZM8sYGq9Vn3NOkgaCnNZ6wfRqcBjqJhZ9l7g0eabbO4Vopx+EE0F7gSG2yaRNvCBB/0gyv3qeu7L6QfRuSR7C/N+IkGRjAR+7QfR6dZBBlKuy+kH0ceB/0A3FuTRMOCXfhCdbx1koOS2nH4Q/Q3JrXi5/R6FQcANfhB9xDrIQMjlaq0fRF8ArrbOIanpBs6o16r3WAdpp9zNKn4QBaiYRTMYmOEH0Xutg7RTrmZOP4jOA26yziFmVgAn1mvVZ62DtENuyukH0XEkBx3vYp1FTC0Bjq/Xqi9aB9lZuSinH0TjSG4wGGWdRZywADgh63cSZf4zZ/Ne2V+hYsqbJgJ3+0GU6ZtOMl3O5vmxtwLvsc4izjmcZE9oZmW6nMBVQNU6hDjrfD+IPmYdor8y+5nTD6ILgR9Z5xDnrQGOqNeq862D9FUmy9nclfAEyaPXRXZkDnBs1vaCZu6ytnkY1y2omNJ7h5CcQZwpmSsnySl5OrpS+uqv/SCabh2iLzJ1Wdu80eABsvmmIvZi4LB6rbrIOkhvZOaH3A+iXYCfkKHM4pwKyU6lTMjSD/pX0REjsvNOzsrlbSYua/0gOgSYjTZNS3ssBjrqtepa6yBvx/mZs/lo9x+iYkr7jCV5ALLTnC8nMB04yjqE5M4lfhCNtw7xdpwuZ/NxfFdY55BcGorjm/KdLidwAXqitAycqX4QnWIdYnucXRDyg2goyb68MdZZJNfmAQfXa9Vu6yBbc3nm/DQqpgy8yYCTx2s6OXM2N1AvBPayziKF8DwwuV6rbrYO0srVmfNiVExJz/7ANOsQW3OunH4QvQP4onUOKZzLrANszblykqzQjrAOIYVziB9EH7QO0crFcn7KOoAU1uesA7RyakHID6IpQKd1DimsBjCpXqsusA4C7s2cF1kHkELzgM9ah9jCmZmzuRC0BB0/IrbeAEa7sGPFpZnzPFRMsTcCOM06BLhVTi0EiSuc2IztxGWtH0THAw9a5xBpWgPsXa9V11mGcGXmPM86gEiL4cCp1iFcKeeHrAOIbMX8dj7zy1o/iCYDXaYhRP6/N4BRlqfEuzBzatYUF40ATG/nc6GcTt3PKNLCdNXW9LK2edrB68AwsxAi27cC2LNeq5qUxHrmnIKKKe4aieFB5tbl1CWtuO4Yq4Gty6nFIHFd8crpB9FewIFW44v0UvHKCRxqOLZIbx3sB5HJuohlOQ8xHFuktwYBR1gMrJlTZMdMLm01c4rsWHHK6QdRCT0DRbLjUItBrWbOccAuRmOL9JXJY0GsyqlZU7JkmB9EI9MeVOUU6Z3UZ0+rcvpG44r017vTHtCqnKlfIojspMKUs2I0rkh/FeayVuWUrCnMzLmH0bgi/VWYcmrmlKwZnfaAKqdI76R+04zKKdI7g9MeMPVyNvfGDUl7XJGdNCjtAS1mzuEGY4rsrNRnztTfDYANBmPm1jA2rD2lNLtrWnnm6iNLz40eysa9rTPlUQ/equSkzPRYlHMNyeO9PYOxM69Ez+bjSs92TS//zx+mlJ7eYw9Wd3iezU79IinRWJX2mCaHSvtBtAbYNfWBM6rDe/GF6eXOJR8ozx76bn4/yfO0oGbgecJ4YpoDWsycAKtRObfrXfxh6VnlB174cHkWE72XJ5S9xgRggnWugtuU9oCW5RxlNLZzdmPtqmr5kXlnlR9cd6j3wphdvO4JGPzSW97WG2kPaFXONUbjOmEwmzZOKc3pml7uXHlc6dk9R7Cuw/M42jqXvK1laQ9oOXMWSKNxmPf8gunlzlf/rPzkbqNY2eF5OuAsY1TOvBjnLX357PLMerX0aHm8t3RiyWscgE6AyLLClDP1ZemBNpJVr59RnvXcmeUHu//Eq48b7G0ei9HBUDIglqY9oFU5XzQat22GsmHd+0tPdp1dnrnq6NK80buy4QDP41jrXDJgCjNzzjMat988enqOKXXN+4ty5/KTSnMq7+CNDs/jcOtckprClHO+0bh9MslbvGhaeeZLHyo9vssYb/lkz9NT0QqsMOV0cuYcxYrlZ5YfXHBG+eGeSd5L+w3yesYD461zibluYGHag5rcvgfgB9EKjI8rGc661aeWH+s6u/TAusNKC/YZ6nXvb5lHnPU0YXxw2oNazZyQXNqm+oCYQWzqPrH0dNe08szXTyg9s+furJnseRyVZgbJpDkWg1qWcx4plPNg74UF08udr7y//MSuo1nR4Xmk/g4omVe4cg7IotAYb/kr08qdC08vPVIa7706sew1JgKp7iaQ3JlrMahlObva8Y/szur4w+VH5p1VfmDDQd6isUO8TT6wTzv+bZGmws2cj/fnfxpC94Y/LT31v9PLnauOKXXtPZz1kz3P5uGmUgjLCOPUf40Chqu1AH4QPc8O9il69PQc5c2fP63cuezk8pzd9yLu8DyGpRRR5B7C+FSLgS1nToBOtlHOCd6SxdPKM188rfTo4H291yaVPDqAjvTjifAbq4FdKOcn9mLl8qnlhxZMLT/UM9lb7A/yesYCY42ziQDcazWwaTn/snz//V8ZdPP8YWw8wPPQqXHimiWE8TNWg1ud+A7A16+8esmu3sYez9NJfOKk+ywHNy1n0z3WAUS2w+ySFtwo593WAUS2oQf4tWUAF8rZSdpHaYvs2GzC+HXLAPblDOONwM+tY4hs5ZfWAezLmbjJOoBIi8048DPpRjnD+CEMNrOKbMd9hPEr1iHcKGfiFusAIk03WgcAt8p5s3UAEZLFyf+0DgEulTOMnwdmWceQwruVMHbiGbLulDNxo3UAKbwbrANs4Vo5bwJesw4hhfUUYTzbOsQWbpUzjNcD37GOIYX1DesArdwqZ+IH5PBZKuK8ecAM6xCt3CtnGMfAv1rHkML5BmHcYx2ilXvlTHwHWG8dQgpjEfBT6xBbc7OcYbwUrdxKev6ZMN5kHWJrbpYzcRXJMypEBtISHPr1SSt3yxnGC4FrrGNI7n29uTPKOe6WM3E5Bo9ek8KYA1xvHWJ73C5nGK8CLrOOIbnUAD5DGG+2DrI9bpczcSPwmHUIyZ2bm1sVneV+OcO4AXyW5J1OpB1i4BLrEDvifjkBwvgx4N+tY0hufJUwdv4e7myUM3Ep8HvrEJJ5c4FrrUP0RnbKmbzTXWgdQzKtG7jQ5UWgVtkpJ0AY3wVcZx1DMusyl7aE7Ui2ypn4IskOApG+uAe42jpEX5g+n7PfwsqhwKPAEOMkkg1LgUOysAjUKoszJ4Tx74C/t44hmdAAPpa1YkJWy5n4FsZPgZJMuIowNn3mSX9lt5zJzQnnAvOto4izHgK+Yh2iv7L5mbNVWNmP5PPnXtZRxCkLgWMJ4+XWQforuzPnFsnWsj8HnDhrVJywEjg9y8WEPJQTIIwfBi5A998KbASmEcZd1kF2Vj7KCRDGtwH/YB1DTDWA8wnj+62DtEN+ygkQxlcCP7aOIWY+33yTzoV8lTNxESpoEV1OGH/POkQ7ZX+1dlvCigd8H/i0dRRJxZcI46usQ7RbPsu5RVj5NvB56xgyYLYcNZLLQ8jzeFn7pjD+AvBN6xgyIDYDF+S1mJD3cgKE8aXAP1nHkLbaCJxDGN9kHWQg5fuytlVY+QzJYx4GGSeRnbOW5PeYd1sHGWjFKSdAWDkJ+AW61S+rFgJnEcZzrIOkIf+Xta3CuBM4kuQwYcmWe4Aji1JMKFo5AcL4ReA44GfWUaRXGsCVQJUwXmEdJk3FuqzdWlj5MnAFRXyTyoZVJLfj3WkdxEKxywkQVk4mORN3X+so8hbPkCz8FHa/rmaMMP4tcBBwi3UUAZLjK78GHFHkYoJmzrcKK2eTHDj8TusoBfUE8AnCeK51EBdo5mwVxjOAA9GjH9K2HgiAY1TMN2nm3J6w8gGSmxY6jJPk3UMkp7AX+hJ2WzRzbk8Y30fyWfSvgFeN0+TRAuAc4EQVc9s0c/ZGWBkOXEzy2LjdjNNk3askCz4/Iow3WYdxmcrZF2FlFBACn0L36PbVSpIdQt8ljNcaZ8kElbM/wspEkn2i5wPDbcM4byVwPfBNwvh14yyZonLujLCyB/BJ4G+BcbZhnPM0yWkUt2im7B+Vsx3CShmYCnwOONE2jKlNwJ3A95ubDGQnqJztFlYOB84DpgFjjNOkZSHwU+A6wniJdZi8UDkHSnLI2LHAdJKi5u3e3WeBO4A7mk99kzZTOdOQFPUYkqKeAexvG6jfZgMzSAr5nHWYvFM5LYSV0cAJLa9DgbJlpG1YT1LGh4FZwCzCeJltpGJROV0QVnYjuQQ+geSupP2BCaT3a5qNwAvAXJIiPgz8jjDuTml82QaV02VhZR+Sok5s/rkfMBIYsY1X600RDWAdyWFYW/5cS/I7x5ear8VAneQ2usWE8eaB/nakb1TOvAgrw4ChwHrCeJ11HNl5KqeIo7QrRcRRKqeIo7SzQvA8bzPJvbBbTG00GnWjONKkz5yC53mrG42G9qk6Rpe1Io7SzClbX9YuajQaZ1rmkYTKKbqsdZQua0UcpXKKOErlFHGUPnOKOEozp4ijVE4RR6mcIo5SOUUcpXKKOErlFHGUyiniKJVTxFEqp4ijVE4RR6mcIo5SOUUcpXKKOErlFHGUyiniKJVTxFH/B4Iie1A4KNUJAAAAAElFTkSuQmCC",
      "text/plain": [
       "<Figure size 432x288 with 1 Axes>"
      ]
     },
     "metadata": {},
     "output_type": "display_data"
    }
   ],
   "source": [
    "dpto_info = clean_df[clean_df[\"Departamento_ocurrencia\"] == \"PUTUMAYO\"]\n",
    "dpto_searchM=dpto_info[dpto_info[\"SEXO\"] == \"M\"] # selecciona \"masculinos\" en el dpto de interes, (1): hospitalizado\n",
    "SEXOM=len(dpto_searchM.axes[0])\n",
    "dpto_searchF=dpto_info[dpto_info[\"SEXO\"] == \"F\"] # selecciona \"femeninos\" en el dpto de interes\n",
    "SEXOF=len(dpto_searchF.axes[0])\n",
    "print(\"numero de mujeres: \", SEXOF)\n",
    "print(\"numero de hombres: \",SEXOM)\n",
    "list = [SEXOM, SEXOF]\n",
    "plt.pie(list, labels = [\"M\", \"F\"], autopct = \"\")\n",
    "plt.show()\n"
   ]
  },
  {
   "cell_type": "markdown",
   "metadata": {},
   "source": [
    "## RUN"
   ]
  },
  {
   "cell_type": "code",
   "execution_count": null,
   "metadata": {},
   "outputs": [
    {
     "name": "stdout",
     "output_type": "stream",
     "text": [
      "- - - -\n",
      "SANTANDER\n",
      "MUJERES:  35964\n",
      "HOMBRES:  39828\n",
      "SANTANDER\n",
      "HOSPITALIZADOS:  17976\n",
      "SANTANDER\n",
      "el municipio con mas registrados es: BUCARAMANGA con  24831 casos\n",
      "- - - -\n",
      "CORDOBA\n",
      "MUJERES:  6353\n",
      "HOMBRES:  7588\n",
      "CORDOBA\n",
      "HOSPITALIZADOS:  6682\n",
      "CORDOBA\n",
      "el municipio con mas registrados es: MONTERIA con  5005 casos\n",
      "- - - -\n",
      "QUINDIO\n",
      "MUJERES:  11735\n",
      "HOMBRES:  12376\n",
      "QUINDIO\n",
      "HOSPITALIZADOS:  6051\n",
      "QUINDIO\n",
      "el municipio con mas registrados es: ARMENIA con  11890 casos\n",
      "- - - -\n",
      "HUILA\n",
      "MUJERES:  20370\n",
      "HOMBRES:  22116\n",
      "HUILA\n",
      "HOSPITALIZADOS:  15936\n",
      "HUILA\n",
      "el municipio con mas registrados es: NEIVA con  15907 casos\n",
      "- - - -\n",
      "META\n",
      "MUJERES:  20073\n",
      "HOMBRES:  23405\n",
      "META\n",
      "HOSPITALIZADOS:  13810\n",
      "META\n",
      "el municipio con mas registrados es: VILLAVICENCIO con  22028 casos\n",
      "- - - -\n",
      "VICHADA\n",
      "MUJERES:  749\n",
      "HOMBRES:  868\n",
      "VICHADA\n",
      "HOSPITALIZADOS:  539\n",
      "VICHADA\n",
      "el municipio con mas registrados es: PUERTO CARREÑO con  670 casos\n",
      "- - - -\n",
      "ANTIOQUIA\n",
      "MUJERES:  41588\n",
      "HOMBRES:  41325\n",
      "ANTIOQUIA\n",
      "HOSPITALIZADOS:  19708\n",
      "ANTIOQUIA\n",
      "el municipio con mas registrados es: MEDELLIN con  46167 casos\n",
      "- - - -\n",
      "ARAUCA\n",
      "MUJERES:  3125\n",
      "HOMBRES:  3477\n",
      "ARAUCA\n",
      "HOSPITALIZADOS:  2519\n",
      "ARAUCA\n",
      "el municipio con mas registrados es: ARAUCA con  2241 casos\n",
      "- - - -\n",
      "TOLIMA\n",
      "MUJERES:  29318\n",
      "HOMBRES:  33596\n",
      "TOLIMA\n",
      "HOSPITALIZADOS:  24932\n",
      "TOLIMA\n",
      "el municipio con mas registrados es: IBAGUE con  28704 casos\n",
      "- - - -\n",
      "SUCRE\n",
      "MUJERES:  8574\n",
      "HOMBRES:  10021\n",
      "SUCRE\n",
      "HOSPITALIZADOS:  8202\n",
      "SUCRE\n",
      "el municipio con mas registrados es: SINCELEJO con  10789 casos\n",
      "- - - -\n",
      "NORTE SANTANDER\n",
      "MUJERES:  18693\n",
      "HOMBRES:  21067\n",
      "NORTE SANTANDER\n",
      "HOSPITALIZADOS:  16589\n",
      "NORTE SANTANDER\n",
      "el municipio con mas registrados es: CUCUTA con  22858 casos\n",
      "- - - -\n",
      "PUTUMAYO\n",
      "MUJERES:  4813\n",
      "HOMBRES:  5678\n",
      "PUTUMAYO\n",
      "HOSPITALIZADOS:  3253\n",
      "PUTUMAYO\n",
      "el municipio con mas registrados es: PUERTO ASIS con  1952 casos\n",
      "- - - -\n",
      "CASANARE\n",
      "MUJERES:  6919\n",
      "HOMBRES:  8038\n",
      "CASANARE\n",
      "HOSPITALIZADOS:  3922\n",
      "CASANARE\n",
      "el municipio con mas registrados es: YOPAL con  6605 casos\n",
      "- - - -\n",
      "CUNDINAMARCA\n",
      "MUJERES:  12990\n",
      "HOMBRES:  15921\n",
      "CUNDINAMARCA\n",
      "HOSPITALIZADOS:  11229\n",
      "CUNDINAMARCA\n",
      "el municipio con mas registrados es: GIRARDOT con  4666 casos\n",
      "- - - -\n",
      "RISARALDA\n",
      "MUJERES:  9563\n",
      "HOMBRES:  9250\n",
      "RISARALDA\n",
      "HOSPITALIZADOS:  6226\n",
      "RISARALDA\n",
      "el municipio con mas registrados es: PEREIRA con  10951 casos\n",
      "- - - -\n",
      "CAUCA\n",
      "MUJERES:  2836\n",
      "HOMBRES:  3290\n",
      "CAUCA\n",
      "HOSPITALIZADOS:  2483\n",
      "CAUCA\n",
      "el municipio con mas registrados es: SANTANDER DE QUILICHAO con  939 casos\n",
      "- - - -\n",
      "CAQUETA\n",
      "MUJERES:  3723\n",
      "HOMBRES:  4477\n",
      "CAQUETA\n",
      "HOSPITALIZADOS:  3742\n",
      "CAQUETA\n",
      "el municipio con mas registrados es: FLORENCIA con  2843 casos\n",
      "- - - -\n",
      "CESAR\n",
      "MUJERES:  11251\n",
      "HOMBRES:  13572\n",
      "CESAR\n",
      "HOSPITALIZADOS:  17218\n",
      "CESAR\n",
      "el municipio con mas registrados es: VALLEDUPAR con  10327 casos\n",
      "- - - -\n",
      "CHOCO\n",
      "MUJERES:  1223\n",
      "HOMBRES:  1583\n",
      "CHOCO\n",
      "HOSPITALIZADOS:  824\n",
      "CHOCO\n",
      "el municipio con mas registrados es: ITSMINA con  764 casos\n",
      "- - - -\n",
      "CALDAS\n",
      "MUJERES:  2905\n",
      "HOMBRES:  3251\n",
      "CALDAS\n",
      "HOSPITALIZADOS:  2659\n",
      "CALDAS\n",
      "el municipio con mas registrados es: LA DORADA con  1521 casos\n",
      "- - - -\n",
      "BOYACA\n",
      "MUJERES:  3551\n",
      "HOMBRES:  3537\n",
      "BOYACA\n",
      "HOSPITALIZADOS:  1955\n",
      "BOYACA\n",
      "el municipio con mas registrados es: PUERTO BOYACA con  1077 casos\n",
      "- - - -\n",
      "BOLIVAR\n",
      "MUJERES:  8492\n",
      "HOMBRES:  10025\n",
      "BOLIVAR\n",
      "HOSPITALIZADOS:  8588\n",
      "BOLIVAR\n",
      "el municipio con mas registrados es: CARTAGENA con  6428 casos\n",
      "- - - -\n",
      "VALLE\n",
      "MUJERES:  64718\n",
      "HOMBRES:  70773\n",
      "VALLE\n",
      "HOSPITALIZADOS:  35074\n",
      "VALLE\n",
      "el municipio con mas registrados es: CALI con  87932 casos\n",
      "- - - -\n",
      "MAGDALENA\n",
      "MUJERES:  4493\n",
      "HOMBRES:  5447\n",
      "MAGDALENA\n",
      "HOSPITALIZADOS:  5632\n",
      "MAGDALENA\n",
      "el municipio con mas registrados es: SANTA MARTHA con  4768 casos\n",
      "- - - -\n",
      "GUAJIRA\n",
      "MUJERES:  3222\n",
      "HOMBRES:  3728\n",
      "GUAJIRA\n",
      "HOSPITALIZADOS:  4171\n",
      "GUAJIRA\n",
      "el municipio con mas registrados es: RIOHACHA con  1725 casos\n",
      "- - - -\n",
      "GUAINIA\n",
      "MUJERES:  434\n",
      "HOMBRES:  415\n",
      "GUAINIA\n",
      "HOSPITALIZADOS:  94\n",
      "GUAINIA\n",
      "el municipio con mas registrados es: PUERTO INIRIDA con  736 casos\n",
      "- - - -\n",
      "GUAVIARE\n",
      "MUJERES:  1225\n",
      "HOMBRES:  1536\n",
      "GUAVIARE\n",
      "HOSPITALIZADOS:  535\n",
      "GUAVIARE\n",
      "el municipio con mas registrados es: SAN JOSE DEL GUAVIARE con  2090 casos\n",
      "- - - -\n",
      "ATLANTICO\n",
      "MUJERES:  14428\n",
      "HOMBRES:  15896\n",
      "ATLANTICO\n",
      "HOSPITALIZADOS:  12333\n",
      "ATLANTICO\n",
      "el municipio con mas registrados es: BARRANQUILLA con  14971 casos\n",
      "- - - -\n",
      "NARIÑO\n",
      "MUJERES:  1449\n",
      "HOMBRES:  1725\n",
      "NARIÑO\n",
      "HOSPITALIZADOS:  1258\n",
      "NARIÑO\n",
      "el municipio con mas registrados es: TUMACO con  1496 casos\n",
      "- - - -\n",
      "EXTERIOR\n",
      "MUJERES:  453\n",
      "HOMBRES:  513\n",
      "EXTERIOR\n",
      "HOSPITALIZADOS:  413\n",
      "EXTERIOR\n",
      "el municipio con mas registrados es: EXTERIOR_VENEZUELA con  585 casos\n",
      "- - - -\n",
      "SAN ANDRES\n",
      "MUJERES:  368\n",
      "HOMBRES:  367\n",
      "SAN ANDRES\n",
      "HOSPITALIZADOS:  206\n",
      "SAN ANDRES\n",
      "el municipio con mas registrados es: SAN ANDRES con  510 casos\n",
      "- - - -\n",
      "PROCEDENCIA DESCONOCIDA\n",
      "MUJERES:  210\n",
      "HOMBRES:  257\n",
      "PROCEDENCIA DESCONOCIDA\n",
      "HOSPITALIZADOS:  102\n",
      "PROCEDENCIA DESCONOCIDA\n",
      "el municipio con mas registrados es: * PROCEDENCIA DESCONOCIDA con  467 casos\n",
      "- - - -\n",
      "AMAZONAS\n",
      "MUJERES:  1090\n",
      "HOMBRES:  1050\n",
      "AMAZONAS\n",
      "HOSPITALIZADOS:  403\n",
      "AMAZONAS\n",
      "el municipio con mas registrados es: LETICIA con  1951 casos\n",
      "- - - -\n",
      "VAUPES\n",
      "MUJERES:  115\n",
      "HOMBRES:  107\n",
      "VAUPES\n",
      "HOSPITALIZADOS:  41\n",
      "VAUPES\n",
      "el municipio con mas registrados es: MITU con  205 casos\n",
      "- - - -\n",
      "BOGOTA\n",
      "MUJERES:  160\n",
      "HOMBRES:  205\n",
      "BOGOTA\n",
      "HOSPITALIZADOS:  112\n",
      "BOGOTA\n",
      "el municipio con mas registrados es: BOGOTA con  365 casos\n"
     ]
    }
   ],
   "source": [
    "lista_d = DoubleLinkedList()\n",
    "for i,dpto in enumerate(clean_df[\"Departamento_ocurrencia\"].unique()[:-1]): # [\"Departamento_ocurrencia\"].unique()[:-1] : hasta la penultima \n",
    "    #print(dpto)\n",
    "    lista_d.AddNode(i, dpto) #i : dpto index , dpto: dpto name\n",
    "    print(\"- - - -\")\n",
    "    lista_d.num_sexo(lista_d.Search(dpto))\n",
    "    lista_d.num_hospitalizados(lista_d.Search(dpto))\n",
    "    lista_d.casos_municipio(lista_d.Search(dpto))\n"
   ]
  },
  {
   "cell_type": "code",
   "execution_count": null,
   "metadata": {},
   "outputs": [
    {
     "name": "stdout",
     "output_type": "stream",
     "text": [
      "ATLANTICO\n",
      "MUJERES:  14428\n",
      "HOMBRES:  15896\n",
      "BOGOTA\n",
      "HOSPITALIZADOS:  112\n"
     ]
    }
   ],
   "source": [
    "#lista_d.Recorrido()\n",
    "\n",
    "lista_d.SEXO(lista_d.Search(\"ATLANTICO\"))\n",
    "lista_d.PacHos(lista_d.Search(\"BOGOTA\"))\n"
   ]
  },
  {
   "cell_type": "code",
   "execution_count": null,
   "metadata": {},
   "outputs": [],
   "source": []
  }
 ],
 "metadata": {
  "kernelspec": {
   "display_name": "Python 3.9.12",
   "language": "python",
   "name": "python3"
  },
  "language_info": {
   "codemirror_mode": {
    "name": "ipython",
    "version": 3
   },
   "file_extension": ".py",
   "mimetype": "text/x-python",
   "name": "python",
   "nbconvert_exporter": "python",
   "pygments_lexer": "ipython3",
   "version": "3.9.15"
  },
  "orig_nbformat": 4,
  "vscode": {
   "interpreter": {
    "hash": "0cc3ccccf9d25bbc5794923594cf38ebfd14394c8f3f53c76e3027be37e46e4a"
   }
  }
 },
 "nbformat": 4,
 "nbformat_minor": 2
}

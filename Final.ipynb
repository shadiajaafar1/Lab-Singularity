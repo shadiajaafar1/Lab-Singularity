{
 "cells": [
  {
   "cell_type": "code",
   "execution_count": 48,
   "metadata": {},
   "outputs": [],
   "source": [
    "import pandas as pd\n",
    "import numpy as np"
   ]
  },
  {
   "cell_type": "code",
   "execution_count": 3,
   "metadata": {},
   "outputs": [],
   "source": [
    "cols = [\"PAC_HOS\", \"SEXO\", \"Municipio_ocurrencia\", \"CON_FIN\", \"FEC_NOT\", \"ANO\",\"EDAD\", \"Departamento_ocurrencia\"] \n",
    "datos = pd.read_excel(\"Dengue_todos.xlsx\", usecols=cols)"
   ]
  },
  {
   "cell_type": "code",
   "execution_count": 44,
   "metadata": {},
   "outputs": [],
   "source": [
    "datos.to_csv(\"df_clean.csv\" , index = False, sep = \",\", encoding='utf-8')\n",
    "df = pd.read_csv(\"df_clean.csv\")"
   ]
  },
  {
   "cell_type": "code",
   "execution_count": 60,
   "metadata": {},
   "outputs": [],
   "source": [
    "clean_df = df.drop(index = df.index[720714:720747])\n",
    "#clean_df[clean_df.isnull().any(axis=1)]"
   ]
  },
  {
   "cell_type": "code",
   "execution_count": 88,
   "metadata": {},
   "outputs": [],
   "source": [
    "class Nodo_Dep:\n",
    "    def __init__(self, x, nom: str,\\\n",
    "        next = None, prev = None):  \n",
    "        self.ind = x       \n",
    "        self.nom = clean_df.loc[x, nom]\n",
    "        # self.df = df \n",
    "        # self.model = model\n",
    "        self.next = next\n",
    "        self.prev = prev\n",
    "\n",
    "class DoubleLinkedList:\n",
    "    def __init__(self):\n",
    "        self.head = None\n",
    "        self.tail = None\n",
    "\n",
    "    def AddNode(self,x, nom):\n",
    "        P = Nodo_Dep(x=x, nom=nom)\n",
    "        if (self.head == None):\n",
    "            self.head = P\n",
    "            self.tail = P \n",
    "        else:\n",
    "            self.tail.next = P\n",
    "            P.prev = self.tail\n",
    "            self.tail = P  \n",
    "        self.tail.next = self.head\n",
    "        self.head.prev = self.tail\n",
    "    \n",
    "    def Recorrido(self):\n",
    "        P = self.head\n",
    "        print(P.nom, end=\" \")\n",
    "        P = P.prev\n",
    "        while(P != self.head):\n",
    "            print(P.nom, end =\" \")\n",
    "            P = P.prev"
   ]
  },
  {
   "cell_type": "code",
   "execution_count": null,
   "metadata": {},
   "outputs": [],
   "source": [
    "lista_d = DoubleLinkedList()\n",
    "for i in range(len(clean_df.index)):\n",
    "    lista_d.AddNode(i, 'Departamento_ocurrencia')\n",
    "    \n",
    "lista_d.Recorrido()\n"
   ]
  },
  {
   "cell_type": "code",
   "execution_count": null,
   "metadata": {},
   "outputs": [],
   "source": []
  }
 ],
 "metadata": {
  "kernelspec": {
   "display_name": "Python 3.9.13 ('myenv')",
   "language": "python",
   "name": "python3"
  },
  "language_info": {
   "codemirror_mode": {
    "name": "ipython",
    "version": 3
   },
   "file_extension": ".py",
   "mimetype": "text/x-python",
   "name": "python",
   "nbconvert_exporter": "python",
   "pygments_lexer": "ipython3",
   "version": "3.9.13"
  },
  "orig_nbformat": 4,
  "vscode": {
   "interpreter": {
    "hash": "947a109a97498d56f0d210cd9142ded6290ca209d74b865fd261b1bf2bbd0c90"
   }
  }
 },
 "nbformat": 4,
 "nbformat_minor": 2
}

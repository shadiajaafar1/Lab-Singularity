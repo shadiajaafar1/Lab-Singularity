{
 "cells": [
  {
   "cell_type": "code",
   "execution_count": 18,
   "metadata": {},
   "outputs": [],
   "source": [
    "import pandas as pd\n",
    "import numpy as np\n",
    "import json as js"
   ]
  },
  {
   "cell_type": "code",
   "execution_count": 6,
   "metadata": {},
   "outputs": [],
   "source": [
    "cols = [\"PAC_HOS\", \"SEXO\", \"Municipio_ocurrencia\", \"CON_FIN\", \"FEC_NOT\", \"ANO\",\"EDAD\", \"Departamento_ocurrencia\"] \n",
    "datos = pd.read_excel(\"Dengue_todos.xlsx\", usecols=cols)"
   ]
  },
  {
   "cell_type": "code",
   "execution_count": 9,
   "metadata": {},
   "outputs": [],
   "source": [
    "datos.to_csv(\"df_clean.csv\" , index = False, sep = \",\", encoding='utf-8')\n",
    "df = pd.read_csv(\"df_clean.csv\")\n",
    "\n",
    "clean_df = df.drop(index = df.index[720714:720747])\n",
    "#clean_df[clean_df.isnull().any(axis=1)]"
   ]
  },
  {
   "cell_type": "code",
   "execution_count": 17,
   "metadata": {},
   "outputs": [],
   "source": [
    "x = clean_df.groupby(\"Municipio_ocurrencia\")\n",
    "first = x.first()"
   ]
  },
  {
   "cell_type": "code",
   "execution_count": 20,
   "metadata": {},
   "outputs": [
    {
     "name": "stdout",
     "output_type": "stream",
     "text": [
      "{\"Departamentos\": [\"AMAZONAS\", \"ANTIOQUIA\", \"ARAUCA\", \"ATLANTICO\", \"BOGOTA\", \"BOLIVAR\", \"BOYACA\", \"CALDAS\", \"CAQUETA\", \"CASANARE\", \"CAUCA\", \"CESAR\", \"CHOCO\", \"CORDOBA\", \"CUNDINAMARCA\", \"EXTERIOR\", \"GUAINIA\", \"GUAJIRA\", \"GUAVIARE\", \"HUILA\", \"MAGDALENA\", \"META\", \"NARI\\u00d1O\", \"NORTE SANTANDER\", \"PROCEDENCIA DESCONOCIDA\", \"PUTUMAYO\", \"QUINDIO\", \"RISARALDA\", \"SAN ANDRES\", \"SANTANDER\", \"SUCRE\", \"TOLIMA\", \"VALLE\", \"VAUPES\", \"VICHADA\"]}\n"
     ]
    }
   ],
   "source": [
    "# DICCIONARIO DEPARTAMENTO\n",
    "\n",
    "dic_dep = {\n",
    "    \"Departamentos\": [\"AMAZONAS\", \"ANTIOQUIA\", \"ARAUCA\", \\\n",
    "        \"ATLANTICO\", \"BOGOTA\", \"BOLIVAR\", \"BOYACA\", \"CALDAS\", \\\n",
    "        \"CAQUETA\", \"CASANARE\", \"CAUCA\", \"CESAR\", \"CHOCO\", \"CORDOBA\",\\\n",
    "        \"CUNDINAMARCA\", \"EXTERIOR\", \"GUAINIA\", \"GUAJIRA\", \"GUAVIARE\",\\\n",
    "        \"HUILA\",\"MAGDALENA\", \"META\", \"NARIÑO\", \"NORTE SANTANDER\",\\\n",
    "        \"PROCEDENCIA DESCONOCIDA\", \"PUTUMAYO\", \"QUINDIO\", \"RISARALDA\", \\\n",
    "        \"SAN ANDRES\", \"SANTANDER\", \"SUCRE\", \"TOLIMA\", \"VALLE\", \"VAUPES\",\"VICHADA\"]\n",
    "}\n",
    "\n",
    "y = js.dumps(dic_dep)\n",
    "print(y)"
   ]
  },
  {
   "cell_type": "code",
   "execution_count": null,
   "metadata": {},
   "outputs": [],
   "source": [
    "# DICCIONARIO MUNICIPIOS\n",
    "\n",
    "# dic_mun = {\n",
    "#     \"Municipios\": \n",
    "# }"
   ]
  },
  {
   "cell_type": "code",
   "execution_count": 29,
   "metadata": {},
   "outputs": [],
   "source": [
    "class Nodo_Dep:\n",
    "    def __init__(self, ind, nom: str, info,\\\n",
    "        next = None,prev = None):  \n",
    "\n",
    "        self.ind = ind       \n",
    "        self.nom = info\n",
    "        self.info = clean_df[clean_df[nom].str.contains(info, na = False)]\n",
    "        #self.model = model\n",
    "        self.next = next\n",
    "        self.prev = prev\n",
    "\n",
    "class DoubleLinkedList:\n",
    "    \n",
    "    def __init__(self):\n",
    "        self.head = None\n",
    "        self.tail = None\n",
    "\n",
    "    def AddNode(self,ind, nom, info):\n",
    "        P = Nodo_Dep(ind=ind, nom=nom, info=info)\n",
    "        if (self.head == None):\n",
    "            self.head = P\n",
    "            self.tail = P \n",
    "        else:\n",
    "            self.tail.next = P\n",
    "            P.prev = self.tail\n",
    "            self.tail = P  \n",
    "        self.tail.next = self.head\n",
    "        self.head.prev = self.tail\n",
    "    \n",
    "    def Recorrido(self):\n",
    "        P = self.head\n",
    "        print(P.nom, P.info, end=\" \")\n",
    "        P = P.prev\n",
    "        while(P != self.head):\n",
    "            print(P.nom, P.info, end =\" \")\n",
    "            P = P.prev\n"
   ]
  },
  {
   "cell_type": "code",
   "execution_count": null,
   "metadata": {},
   "outputs": [],
   "source": [
    "lista_d = DoubleLinkedList()\n",
    "for i in range(len(clean_df.index[0:5])):\n",
    "    lista_d.AddNode(i, 'Departamento_ocurrencia', 'QUINDIO')\n",
    "    \n",
    "lista_d.Recorrido()"
   ]
  }
 ],
 "metadata": {
  "kernelspec": {
   "display_name": "Python 3.9.13 ('myenv')",
   "language": "python",
   "name": "python3"
  },
  "language_info": {
   "codemirror_mode": {
    "name": "ipython",
    "version": 3
   },
   "file_extension": ".py",
   "mimetype": "text/x-python",
   "name": "python",
   "nbconvert_exporter": "python",
   "pygments_lexer": "ipython3",
   "version": "3.9.13"
  },
  "orig_nbformat": 4,
  "vscode": {
   "interpreter": {
    "hash": "947a109a97498d56f0d210cd9142ded6290ca209d74b865fd261b1bf2bbd0c90"
   }
  }
 },
 "nbformat": 4,
 "nbformat_minor": 2
}

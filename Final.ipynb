{
 "cells": [
  {
   "cell_type": "markdown",
   "metadata": {},
   "source": [
    "# Proyecto ojala funcione"
   ]
  },
  {
   "cell_type": "markdown",
   "metadata": {},
   "source": [
    "## imports"
   ]
  },
  {
   "cell_type": "markdown",
   "metadata": {},
   "source": [
    "### holi"
   ]
  },
  {
   "cell_type": "markdown",
   "metadata": {},
   "source": [
    "hola"
   ]
  },
  {
   "cell_type": "code",
   "execution_count": 6,
   "metadata": {},
   "outputs": [],
   "source": [
    "import pandas as pd\n",
    "import numpy as np\n",
    "import json as js"
   ]
  },
  {
   "cell_type": "markdown",
   "metadata": {},
   "source": [
    "## columnas"
   ]
  },
  {
   "cell_type": "code",
   "execution_count": 8,
   "metadata": {},
   "outputs": [],
   "source": [
    "cols = [\"PAC_HOS\", \"SEXO\", \"Municipio_ocurrencia\", \"CON_FIN\", \"FEC_NOT\", \"ANO\",\"EDAD\", \"Departamento_ocurrencia\"] \n",
    "#datos = pd.read_excel(\"Dengue_todos.xlsx\", usecols=cols)"
   ]
  },
  {
   "cell_type": "markdown",
   "metadata": {},
   "source": [
    "## lectura de datos"
   ]
  },
  {
   "cell_type": "code",
   "execution_count": 9,
   "metadata": {},
   "outputs": [],
   "source": [
    "#datos.to_csv(\"df_clean.csv\" , index = False, sep = \",\", encoding='utf-8')\n",
    "df = pd.read_csv(\"df_clean.csv\")\n",
    "\n",
    "clean_df = df.drop(index = df.index[720714:720747])\n",
    "#clean_df[clean_df.isnull().any(axis=1)]"
   ]
  },
  {
   "cell_type": "code",
   "execution_count": 11,
   "metadata": {},
   "outputs": [],
   "source": [
    "x = clean_df.groupby(\"Municipio_ocurrencia\")\n",
    "first = x.first()"
   ]
  },
  {
   "cell_type": "code",
   "execution_count": null,
   "metadata": {},
   "outputs": [],
   "source": [
    "# DICCIONARIO DEPARTAMENTO\n",
    "\n",
    "dic_dep = {\n",
    "    \"Departamentos\": [\"AMAZONAS\", \"ANTIOQUIA\", \"ARAUCA\", \\\n",
    "        \"ATLANTICO\", \"BOGOTA\", \"BOLIVAR\", \"BOYACA\", \"CALDAS\", \\\n",
    "        \"CAQUETA\", \"CASANARE\", \"CAUCA\", \"CESAR\", \"CHOCO\", \"CORDOBA\",\\\n",
    "        \"CUNDINAMARCA\", \"EXTERIOR\", \"GUAINIA\", \"GUAJIRA\", \"GUAVIARE\",\\\n",
    "        \"HUILA\",\"MAGDALENA\", \"META\", \"NARIÑO\", \"NORTE SANTANDER\",\\\n",
    "        \"PROCEDENCIA DESCONOCIDA\", \"PUTUMAYO\", \"QUINDIO\", \"RISARALDA\", \\\n",
    "        \"SAN ANDRES\", \"SANTANDER\", \"SUCRE\", \"TOLIMA\", \"VALLE\", \"VAUPES\",\"VICHADA\"]\n",
    "}\n",
    "\n",
    "y = js.dumps(dic_dep)\n",
    "print(y)"
   ]
  },
  {
   "cell_type": "code",
   "execution_count": null,
   "metadata": {},
   "outputs": [],
   "source": [
    "# DICCIONARIO MUNICIPIOS\n",
    "\n",
    "# dic_mun = {\n",
    "#     \"Municipios\": \n",
    "# }"
   ]
  },
  {
   "cell_type": "markdown",
   "metadata": {},
   "source": [
    "# holiwix"
   ]
  },
  {
   "cell_type": "code",
   "execution_count": 59,
   "metadata": {},
   "outputs": [],
   "source": [
    "class Nodo_Dep:\n",
    "    def __init__(self, dpto_index, dpto_name,\\\n",
    "        next = None,prev = None):  \n",
    "\n",
    "        self.dpto_index = dpto_index     # department index  \n",
    "        self.dpto_name = dpto_name    # department name\n",
    "        #self.info = clean_df[clean_df[nom].str.contains(info, na = False)]\n",
    "        self.dpto_info = clean_df[clean_df[\"Departamento_ocurrencia\"] == dpto_name]      # dataframe with info regarding the departement\n",
    "        #self.model = model\n",
    "        self.next = next\n",
    "        self.prev = prev\n",
    "\n",
    "class DoubleLinkedList:\n",
    "    \n",
    "    def __init__(self):\n",
    "        self.head = None\n",
    "        self.tail = None\n",
    "\n",
    "    def AddNode(self,dpto_index, dpto_name):\n",
    "        P = Nodo_Dep(dpto_index=dpto_index, dpto_name=dpto_name)\n",
    "        if (self.head == None):\n",
    "            self.head = P\n",
    "            self.tail = P \n",
    "        else:\n",
    "            self.tail.next = P\n",
    "            P.prev = self.tail\n",
    "            self.tail = P  \n",
    "        self.tail.next = self.head\n",
    "        self.head.prev = self.tail\n",
    "    \n",
    "    def Recorrido(self):\n",
    "        P = self.head\n",
    "        print(P.dpto_name, P.dpto_info[\"Departamento_ocurrencia\"].unique())\n",
    "        P = P.prev\n",
    "        while(P != self.head):\n",
    "            print(P.dpto_name, P.dpto_info[\"Departamento_ocurrencia\"].unique())\n",
    "            P = P.prev\n"
   ]
  },
  {
   "cell_type": "code",
   "execution_count": 49,
   "metadata": {},
   "outputs": [
    {
     "data": {
      "text/plain": [
       "array(['SANTANDER', 'CORDOBA', 'QUINDIO', 'HUILA', 'META', 'VICHADA',\n",
       "       'ANTIOQUIA', 'ARAUCA', 'TOLIMA', 'SUCRE', 'NORTE SANTANDER',\n",
       "       'PUTUMAYO', 'CASANARE', 'CUNDINAMARCA', 'RISARALDA', 'CAUCA',\n",
       "       'CAQUETA', 'CESAR', 'CHOCO', 'CALDAS', 'BOYACA', 'BOLIVAR',\n",
       "       'VALLE', 'MAGDALENA', 'GUAJIRA', 'GUAINIA', 'GUAVIARE',\n",
       "       'ATLANTICO', 'NARIÑO', 'EXTERIOR', 'SAN ANDRES',\n",
       "       'PROCEDENCIA DESCONOCIDA', 'AMAZONAS', 'VAUPES', 'BOGOTA'],\n",
       "      dtype=object)"
      ]
     },
     "execution_count": 49,
     "metadata": {},
     "output_type": "execute_result"
    }
   ],
   "source": [
    "clean_df[\"Departamento_ocurrencia\"].unique()[:-1]"
   ]
  },
  {
   "cell_type": "code",
   "execution_count": 60,
   "metadata": {},
   "outputs": [],
   "source": [
    "lista_d = DoubleLinkedList()\n",
    "for i,dpto in enumerate(clean_df[\"Departamento_ocurrencia\"].unique()[:-1]):\n",
    "    #print(dpto)\n",
    "    lista_d.AddNode(i, dpto) #i : dpto index , dpto: dpto name"
   ]
  },
  {
   "cell_type": "code",
   "execution_count": 61,
   "metadata": {},
   "outputs": [
    {
     "name": "stdout",
     "output_type": "stream",
     "text": [
      "SANTANDER ['SANTANDER']\n",
      "BOGOTA ['BOGOTA']\n",
      "VAUPES ['VAUPES']\n",
      "AMAZONAS ['AMAZONAS']\n",
      "PROCEDENCIA DESCONOCIDA ['PROCEDENCIA DESCONOCIDA']\n",
      "SAN ANDRES ['SAN ANDRES']\n",
      "EXTERIOR ['EXTERIOR']\n",
      "NARIÑO ['NARIÑO']\n",
      "ATLANTICO ['ATLANTICO']\n",
      "GUAVIARE ['GUAVIARE']\n",
      "GUAINIA ['GUAINIA']\n",
      "GUAJIRA ['GUAJIRA']\n",
      "MAGDALENA ['MAGDALENA']\n",
      "VALLE ['VALLE']\n",
      "BOLIVAR ['BOLIVAR']\n",
      "BOYACA ['BOYACA']\n",
      "CALDAS ['CALDAS']\n",
      "CHOCO ['CHOCO']\n",
      "CESAR ['CESAR']\n",
      "CAQUETA ['CAQUETA']\n",
      "CAUCA ['CAUCA']\n",
      "RISARALDA ['RISARALDA']\n",
      "CUNDINAMARCA ['CUNDINAMARCA']\n",
      "CASANARE ['CASANARE']\n",
      "PUTUMAYO ['PUTUMAYO']\n",
      "NORTE SANTANDER ['NORTE SANTANDER']\n",
      "SUCRE ['SUCRE']\n",
      "TOLIMA ['TOLIMA']\n",
      "ARAUCA ['ARAUCA']\n",
      "ANTIOQUIA ['ANTIOQUIA']\n",
      "VICHADA ['VICHADA']\n",
      "META ['META']\n",
      "HUILA ['HUILA']\n",
      "QUINDIO ['QUINDIO']\n",
      "CORDOBA ['CORDOBA']\n"
     ]
    }
   ],
   "source": [
    "lista_d.Recorrido()"
   ]
  },
  {
   "cell_type": "code",
   "execution_count": null,
   "metadata": {},
   "outputs": [],
   "source": [
    "\"\"\"\n",
    "Holi estudiantes :)\n",
    "\"\"\""
   ]
  },
  {
   "cell_type": "code",
   "execution_count": null,
   "metadata": {},
   "outputs": [],
   "source": [
    "\"\"\"\n",
    "ahhhhhhh save me\n",
    "\"\"\""
   ]
  }
 ],
 "metadata": {
  "kernelspec": {
   "display_name": "Python 3.9.12",
   "language": "python",
   "name": "python3"
  },
  "language_info": {
   "codemirror_mode": {
    "name": "ipython",
    "version": 3
   },
   "file_extension": ".py",
   "mimetype": "text/x-python",
   "name": "python",
   "nbconvert_exporter": "python",
   "pygments_lexer": "ipython3",
   "version": "3.9.15"
  },
  "orig_nbformat": 4,
  "vscode": {
   "interpreter": {
    "hash": "0cc3ccccf9d25bbc5794923594cf38ebfd14394c8f3f53c76e3027be37e46e4a"
   }
  }
 },
 "nbformat": 4,
 "nbformat_minor": 2
}

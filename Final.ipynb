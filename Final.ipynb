{
 "cells": [
  {
   "cell_type": "markdown",
   "metadata": {},
   "source": [
    "# SINGULARITY"
   ]
  },
  {
   "cell_type": "markdown",
   "metadata": {},
   "source": [
    "## Imports"
   ]
  },
  {
   "cell_type": "code",
   "execution_count": 1,
   "metadata": {},
   "outputs": [],
   "source": [
    "import pandas as pd\n",
    "import numpy as np\n",
    "import json as js"
   ]
  },
  {
   "cell_type": "markdown",
   "metadata": {},
   "source": [
    "## Columnas de Interes"
   ]
  },
  {
   "cell_type": "code",
   "execution_count": 2,
   "metadata": {},
   "outputs": [],
   "source": [
    "cols = [\"PAC_HOS\", \"SEXO\", \"Municipio_ocurrencia\", \"CON_FIN\", \"FEC_NOT\", \"ANO\",\"EDAD\", \"Departamento_ocurrencia\"] \n",
    "#datos = pd.read_excel(\"Dengue_todos.xlsx\", usecols=cols)"
   ]
  },
  {
   "cell_type": "markdown",
   "metadata": {},
   "source": [
    "## Clean Datos"
   ]
  },
  {
   "cell_type": "code",
   "execution_count": 3,
   "metadata": {},
   "outputs": [],
   "source": [
    "#datos.to_csv(\"df_clean.csv\" , index = False, sep = \",\", encoding='utf-8')\n",
    "df = pd.read_csv(\"df_clean.csv\")\n",
    "\n",
    "clean_df = df.drop(index = df.index[720714:720747])\n",
    "#clean_df[clean_df.isnull().any(axis=1)]\n",
    "##clean_df[\"Departamento_ocurrencia\"].unique()[:-1]"
   ]
  },
  {
   "cell_type": "markdown",
   "metadata": {},
   "source": [
    "## Clase Nodo"
   ]
  },
  {
   "cell_type": "code",
   "execution_count": 166,
   "metadata": {},
   "outputs": [],
   "source": [
    "class Nodo_Dep:\n",
    "    def __init__(self, dpto_index, dpto_name,\\\n",
    "        next = None,prev = None):  \n",
    "\n",
    "        self.dpto_index = dpto_index  # department index  \n",
    "        self.dpto_name = dpto_name    # department name\n",
    "        #self.info = clean_df[clean_df[nom].str.contains(info, na = False)]\n",
    "        self.dpto_info = clean_df[clean_df[\"Departamento_ocurrencia\"] == dpto_name]      # dataframe with info regarding the departement\n",
    "        #self.model = model\n",
    "        self.next = next\n",
    "        self.prev = prev\n",
    "        \n"
   ]
  },
  {
   "cell_type": "markdown",
   "metadata": {},
   "source": [
    "## Clase DoubleLinkedList"
   ]
  },
  {
   "cell_type": "code",
   "execution_count": 190,
   "metadata": {},
   "outputs": [],
   "source": [
    "class DoubleLinkedList:\n",
    "    \n",
    "    def __init__(self):\n",
    "        self.head = None\n",
    "        self.tail = None\n",
    "\n",
    "    def AddNode(self,dpto_index, dpto_name):\n",
    "        P = Nodo_Dep(dpto_index=dpto_index, dpto_name=dpto_name)\n",
    "        if (self.head == None):\n",
    "            self.head = P\n",
    "            self.tail = P \n",
    "        else:\n",
    "            self.tail.next = P\n",
    "            P.prev = self.tail\n",
    "            self.tail = P  \n",
    "        self.tail.next = self.head\n",
    "        self.head.prev = self.tail\n",
    "      \n",
    "    def Recorrido(self):\n",
    "        P = self.head\n",
    "        print(P.dpto_name , P.dpto_info)\n",
    "        #print(P.dpto_name, P.dpto_info[\"Departamento_ocurrencia\"].unique()) CONFIRMAR QUE DPTO NAME == DATO OCUR\n",
    "        P = P.prev\n",
    "        while(P != self.head):\n",
    "            print(P.dpto_name, P.dpto_info)\n",
    "            #print(P.dpto_name, P.dpto_info[\"Departamento_ocurrencia\"].unique())\n",
    "            P = P.prev\n",
    "    \n",
    "\n",
    "\n",
    "    def NumHospitalizados(self,dpto_name):\n",
    "        dpto_info = clean_df[clean_df[\"Departamento_ocurrencia\"] ==dpto_name ]\n",
    "        dpto_search=dpto_info[dpto_info[\"PAC_HOS\"] == 1] # selecciona los pacientes Hospitalizados en el dpto de interes, (1): hospitalizado\n",
    "        #muertos = len(clean_df[dpto_info[\"PAC_HOS\"] == 1].axes[0])\n",
    "        Pac_Hos=len(dpto_search)\n",
    "        print(Pac_Hos)\n",
    "    \n",
    "\n",
    "    \n",
    "    def Search(self, dptoName):\n",
    "        P = self.head\n",
    "        Q = self.tail\n",
    "        sw=False\n",
    "        sw1= False\n",
    "        while(sw == False and sw1== False ):\n",
    "            if (P.dpto_name==dptoName or Q.dpto_name==dptoName):        \n",
    "                print(dptoName)\n",
    "                return dptoName \n",
    "            elif (P==Q or P.next==Q or Q.prev == P ):\n",
    "                return False\n",
    "            else:\n",
    "                P = P.next\n",
    "                Q = Q.prev\n",
    "\n",
    "    def PacHos (self,dptoName):\n",
    "        \n",
    "        dpto_info = clean_df[clean_df[\"Departamento_ocurrencia\"] == dptoName]\n",
    "        dpto_search=dpto_info[dpto_info[\"PAC_HOS\"] == 1] # selecciona los pacientes Hospitalizados en el dpto de interes, (1): hospitalizado\n",
    "        #muertos = len(clean_df[dpto_info[\"PAC_HOS\"] == 1].axes[0])\n",
    "        Pac_Hos=len(dpto_search)\n",
    "        print(\"HOSPITALIZADOS: \", Pac_Hos)\n",
    "    \n",
    "    def SEXO (self,dptoName):\n",
    "        dpto_info = clean_df[clean_df[\"Departamento_ocurrencia\"] == dptoName]\n",
    "        dpto_searchM=dpto_info[dpto_info[\"SEXO\"] == \"M\"] # selecciona l\"masculinos\" en el dpto de interes, (1): hospitalizado\n",
    "        SEXOM=len(dpto_searchM.axes[0])\n",
    "        dpto_searchF=dpto_info[dpto_info[\"SEXO\"] == \"F\"] # selecciona \"femeninos\" en el dpto de interes\n",
    "        SEXOF=len(dpto_searchF.axes[0])\n",
    "        print(\"MUJERES: \",  SEXOF)\n",
    "        print(\"HOMBRES: \",SEXOM)\n",
    "        \n",
    "        \n",
    "\n",
    "\n"
   ]
  },
  {
   "cell_type": "markdown",
   "metadata": {},
   "source": [
    "#### \"intento Hospitalizados\""
   ]
  },
  {
   "cell_type": "code",
   "execution_count": 122,
   "metadata": {},
   "outputs": [
    {
     "name": "stdout",
     "output_type": "stream",
     "text": [
      "12333\n"
     ]
    }
   ],
   "source": [
    "dpto_info = clean_df[clean_df[\"Departamento_ocurrencia\"] == \"ATLANTICO\"]\n",
    "dpto_search=dpto_info[dpto_info[\"PAC_HOS\"] == 1] # selecciona los pacientes Hospitalizados en el dpto de interes, (1): hospitalizado\n",
    "#muertos = len(clean_df[dpto_info[\"PAC_HOS\"] == 1].axes[0])\n",
    "Pac_Hos=len(dpto_search)\n",
    "print(Pac_Hos)\n",
    "\n",
    "#df_list = dpto_search.values.tolist()\n",
    "#print(len(df_list))\n",
    "#print(df_list)\n"
   ]
  },
  {
   "cell_type": "markdown",
   "metadata": {},
   "source": [
    "#### intento Sexo"
   ]
  },
  {
   "cell_type": "code",
   "execution_count": 117,
   "metadata": {},
   "outputs": [
    {
     "name": "stdout",
     "output_type": "stream",
     "text": [
      "numero de mujeres:  749\n",
      "numero de hombres:  868\n"
     ]
    }
   ],
   "source": [
    "dpto_info = clean_df[clean_df[\"Departamento_ocurrencia\"] == \"VICHADA\"]\n",
    "dpto_searchM=dpto_info[dpto_info[\"SEXO\"] == \"M\"] # selecciona l\"masculinos\" en el dpto de interes, (1): hospitalizado\n",
    "SEXOM=len(dpto_searchM.axes[0])\n",
    "dpto_searchF=dpto_info[dpto_info[\"SEXO\"] == \"F\"] # selecciona \"femeninos\" en el dpto de interes\n",
    "SEXOF=len(dpto_searchF.axes[0])\n",
    "print(\"numero de mujeres: \", SEXOF)\n",
    "print(\"numero de hombres: \",SEXOM)"
   ]
  },
  {
   "cell_type": "markdown",
   "metadata": {},
   "source": [
    "## RUN"
   ]
  },
  {
   "cell_type": "code",
   "execution_count": 194,
   "metadata": {},
   "outputs": [
    {
     "name": "stdout",
     "output_type": "stream",
     "text": [
      "SANTANDER\n",
      "MUJERES:  35964\n",
      "HOMBRES:  39828\n",
      "SANTANDER\n",
      "HOSPITALIZADOS:  17976\n",
      "CORDOBA\n",
      "MUJERES:  6353\n",
      "HOMBRES:  7588\n",
      "CORDOBA\n",
      "HOSPITALIZADOS:  6682\n",
      "QUINDIO\n",
      "MUJERES:  11735\n",
      "HOMBRES:  12376\n",
      "QUINDIO\n",
      "HOSPITALIZADOS:  6051\n",
      "HUILA\n",
      "MUJERES:  20370\n",
      "HOMBRES:  22116\n",
      "HUILA\n",
      "HOSPITALIZADOS:  15936\n",
      "META\n",
      "MUJERES:  20073\n",
      "HOMBRES:  23405\n",
      "META\n",
      "HOSPITALIZADOS:  13810\n",
      "VICHADA\n",
      "MUJERES:  749\n",
      "HOMBRES:  868\n",
      "VICHADA\n",
      "HOSPITALIZADOS:  539\n",
      "ANTIOQUIA\n",
      "MUJERES:  41588\n",
      "HOMBRES:  41325\n",
      "ANTIOQUIA\n",
      "HOSPITALIZADOS:  19708\n",
      "ARAUCA\n",
      "MUJERES:  3125\n",
      "HOMBRES:  3477\n",
      "ARAUCA\n",
      "HOSPITALIZADOS:  2519\n",
      "TOLIMA\n",
      "MUJERES:  29318\n",
      "HOMBRES:  33596\n",
      "TOLIMA\n",
      "HOSPITALIZADOS:  24932\n",
      "SUCRE\n",
      "MUJERES:  8574\n",
      "HOMBRES:  10021\n",
      "SUCRE\n",
      "HOSPITALIZADOS:  8202\n",
      "NORTE SANTANDER\n",
      "MUJERES:  18693\n",
      "HOMBRES:  21067\n",
      "NORTE SANTANDER\n",
      "HOSPITALIZADOS:  16589\n",
      "PUTUMAYO\n",
      "MUJERES:  4813\n",
      "HOMBRES:  5678\n",
      "PUTUMAYO\n",
      "HOSPITALIZADOS:  3253\n",
      "CASANARE\n",
      "MUJERES:  6919\n",
      "HOMBRES:  8038\n",
      "CASANARE\n",
      "HOSPITALIZADOS:  3922\n",
      "CUNDINAMARCA\n",
      "MUJERES:  12990\n",
      "HOMBRES:  15921\n",
      "CUNDINAMARCA\n",
      "HOSPITALIZADOS:  11229\n",
      "RISARALDA\n",
      "MUJERES:  9563\n",
      "HOMBRES:  9250\n",
      "RISARALDA\n",
      "HOSPITALIZADOS:  6226\n",
      "CAUCA\n",
      "MUJERES:  2836\n",
      "HOMBRES:  3290\n",
      "CAUCA\n",
      "HOSPITALIZADOS:  2483\n",
      "CAQUETA\n",
      "MUJERES:  3723\n",
      "HOMBRES:  4477\n",
      "CAQUETA\n",
      "HOSPITALIZADOS:  3742\n",
      "CESAR\n",
      "MUJERES:  11251\n",
      "HOMBRES:  13572\n",
      "CESAR\n",
      "HOSPITALIZADOS:  17218\n",
      "CHOCO\n",
      "MUJERES:  1223\n",
      "HOMBRES:  1583\n",
      "CHOCO\n",
      "HOSPITALIZADOS:  824\n",
      "CALDAS\n",
      "MUJERES:  2905\n",
      "HOMBRES:  3251\n",
      "CALDAS\n",
      "HOSPITALIZADOS:  2659\n",
      "BOYACA\n",
      "MUJERES:  3551\n",
      "HOMBRES:  3537\n",
      "BOYACA\n",
      "HOSPITALIZADOS:  1955\n",
      "BOLIVAR\n",
      "MUJERES:  8492\n",
      "HOMBRES:  10025\n",
      "BOLIVAR\n",
      "HOSPITALIZADOS:  8588\n",
      "VALLE\n",
      "MUJERES:  64718\n",
      "HOMBRES:  70773\n",
      "VALLE\n",
      "HOSPITALIZADOS:  35074\n",
      "MAGDALENA\n",
      "MUJERES:  4493\n",
      "HOMBRES:  5447\n",
      "MAGDALENA\n",
      "HOSPITALIZADOS:  5632\n",
      "GUAJIRA\n",
      "MUJERES:  3222\n",
      "HOMBRES:  3728\n",
      "GUAJIRA\n",
      "HOSPITALIZADOS:  4171\n",
      "GUAINIA\n",
      "MUJERES:  434\n",
      "HOMBRES:  415\n",
      "GUAINIA\n",
      "HOSPITALIZADOS:  94\n",
      "GUAVIARE\n",
      "MUJERES:  1225\n",
      "HOMBRES:  1536\n",
      "GUAVIARE\n",
      "HOSPITALIZADOS:  535\n",
      "ATLANTICO\n",
      "MUJERES:  14428\n",
      "HOMBRES:  15896\n",
      "ATLANTICO\n",
      "HOSPITALIZADOS:  12333\n",
      "NARIÑO\n",
      "MUJERES:  1449\n",
      "HOMBRES:  1725\n",
      "NARIÑO\n",
      "HOSPITALIZADOS:  1258\n",
      "EXTERIOR\n",
      "MUJERES:  453\n",
      "HOMBRES:  513\n",
      "EXTERIOR\n",
      "HOSPITALIZADOS:  413\n",
      "SAN ANDRES\n",
      "MUJERES:  368\n",
      "HOMBRES:  367\n",
      "SAN ANDRES\n",
      "HOSPITALIZADOS:  206\n",
      "PROCEDENCIA DESCONOCIDA\n",
      "MUJERES:  210\n",
      "HOMBRES:  257\n",
      "PROCEDENCIA DESCONOCIDA\n",
      "HOSPITALIZADOS:  102\n",
      "AMAZONAS\n",
      "MUJERES:  1090\n",
      "HOMBRES:  1050\n",
      "AMAZONAS\n",
      "HOSPITALIZADOS:  403\n",
      "VAUPES\n",
      "MUJERES:  115\n",
      "HOMBRES:  107\n",
      "VAUPES\n",
      "HOSPITALIZADOS:  41\n",
      "BOGOTA\n",
      "MUJERES:  160\n",
      "HOMBRES:  205\n",
      "BOGOTA\n",
      "HOSPITALIZADOS:  112\n"
     ]
    }
   ],
   "source": [
    "lista_d = DoubleLinkedList()\n",
    "for i,dpto in enumerate(clean_df[\"Departamento_ocurrencia\"].unique()[:-1]): # [\"Departamento_ocurrencia\"].unique()[:-1] : hasta la penultima \n",
    "    #print(dpto)\n",
    "    lista_d.AddNode(i, dpto) #i : dpto index , dpto: dpto name\n",
    "    lista_d.SEXO(lista_d.Search(dpto))\n",
    "    lista_d.PacHos(lista_d.Search(dpto))\n"
   ]
  },
  {
   "cell_type": "code",
   "execution_count": 193,
   "metadata": {},
   "outputs": [
    {
     "name": "stdout",
     "output_type": "stream",
     "text": [
      "ATLANTICO\n",
      "MUJERES:  14428\n",
      "HOMBRES:  15896\n",
      "BOGOTA\n",
      "HOSPITALIZADOS:  112\n"
     ]
    }
   ],
   "source": [
    "#lista_d.Recorrido()\n",
    "\n",
    "lista_d.SEXO(lista_d.Search(\"ATLANTICO\"))\n",
    "lista_d.PacHos(lista_d.Search(\"BOGOTA\"))\n"
   ]
  },
  {
   "cell_type": "code",
   "execution_count": null,
   "metadata": {},
   "outputs": [],
   "source": []
  }
 ],
 "metadata": {
  "kernelspec": {
   "display_name": "Python 3.9.12",
   "language": "python",
   "name": "python3"
  },
  "language_info": {
   "codemirror_mode": {
    "name": "ipython",
    "version": 3
   },
   "file_extension": ".py",
   "mimetype": "text/x-python",
   "name": "python",
   "nbconvert_exporter": "python",
   "pygments_lexer": "ipython3",
   "version": "3.9.15"
  },
  "orig_nbformat": 4,
  "vscode": {
   "interpreter": {
    "hash": "0cc3ccccf9d25bbc5794923594cf38ebfd14394c8f3f53c76e3027be37e46e4a"
   }
  }
 },
 "nbformat": 4,
 "nbformat_minor": 2
}
